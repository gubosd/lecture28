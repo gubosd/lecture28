{
 "cells": [
  {
   "cell_type": "markdown",
   "id": "97037290",
   "metadata": {},
   "source": [
    "## 파이썬 데이터분석\n",
    "# numpy 와 pandas\n",
    "- 2023년 7월 6일"
   ]
  },
  {
   "cell_type": "code",
   "execution_count": 2,
   "id": "bb8b4a13",
   "metadata": {},
   "outputs": [],
   "source": [
    "import numpy as np\n",
    "import matplotlib.pyplot as plt"
   ]
  },
  {
   "cell_type": "code",
   "execution_count": 2,
   "id": "6b3e1c7c",
   "metadata": {},
   "outputs": [
    {
     "data": {
      "text/plain": [
       "array([[ 0,  1,  2],\n",
       "       [ 3,  4,  5],\n",
       "       [ 6,  7,  8],\n",
       "       [ 9, 10, 11]])"
      ]
     },
     "execution_count": 2,
     "metadata": {},
     "output_type": "execute_result"
    }
   ],
   "source": [
    "a = np.arange(12).reshape(4,3)\n",
    "a"
   ]
  },
  {
   "cell_type": "code",
   "execution_count": 4,
   "id": "5f483eed",
   "metadata": {},
   "outputs": [
    {
     "data": {
      "text/plain": [
       "array([False, False,  True,  True])"
      ]
     },
     "execution_count": 4,
     "metadata": {},
     "output_type": "execute_result"
    }
   ],
   "source": [
    "a[:, 2]>5"
   ]
  },
  {
   "cell_type": "code",
   "execution_count": 5,
   "id": "8547f99a",
   "metadata": {},
   "outputs": [
    {
     "data": {
      "text/plain": [
       "array([[ 6,  7,  8],\n",
       "       [ 9, 10, 11]])"
      ]
     },
     "execution_count": 5,
     "metadata": {},
     "output_type": "execute_result"
    }
   ],
   "source": [
    "a[a[:, 2]>5]"
   ]
  },
  {
   "cell_type": "code",
   "execution_count": 6,
   "id": "a038e796",
   "metadata": {},
   "outputs": [
    {
     "data": {
      "text/plain": [
       "array([[6, 7, 8]])"
      ]
     },
     "execution_count": 6,
     "metadata": {},
     "output_type": "execute_result"
    }
   ],
   "source": [
    "a[(a[:, 2]>5) & (a[:,0]<9)] # & 는 and 의 의미"
   ]
  },
  {
   "cell_type": "code",
   "execution_count": null,
   "id": "3aeb2098",
   "metadata": {},
   "outputs": [],
   "source": []
  },
  {
   "cell_type": "markdown",
   "id": "0ca872bd",
   "metadata": {},
   "source": [
    "### np.where() 함수"
   ]
  },
  {
   "cell_type": "code",
   "execution_count": 7,
   "id": "da5c3d5f",
   "metadata": {},
   "outputs": [
    {
     "data": {
      "text/plain": [
       "array([[ 0,  1,  2],\n",
       "       [ 3,  4,  5],\n",
       "       [ 6,  7,  8],\n",
       "       [ 9, 10, 11]])"
      ]
     },
     "execution_count": 7,
     "metadata": {},
     "output_type": "execute_result"
    }
   ],
   "source": [
    "a"
   ]
  },
  {
   "cell_type": "code",
   "execution_count": 8,
   "id": "224f30e5",
   "metadata": {},
   "outputs": [
    {
     "data": {
      "text/plain": [
       "array([[0, 0, 0],\n",
       "       [0, 0, 1],\n",
       "       [1, 1, 1],\n",
       "       [1, 1, 1]])"
      ]
     },
     "execution_count": 8,
     "metadata": {},
     "output_type": "execute_result"
    }
   ],
   "source": [
    "np.where(a<5, 0, 1)"
   ]
  },
  {
   "cell_type": "code",
   "execution_count": 11,
   "id": "3ab8a094",
   "metadata": {},
   "outputs": [
    {
     "data": {
      "text/plain": [
       "array([[ 0,  0,  0],\n",
       "       [ 0,  0,  5],\n",
       "       [ 6,  7,  8],\n",
       "       [ 9, 10, 11]])"
      ]
     },
     "execution_count": 11,
     "metadata": {},
     "output_type": "execute_result"
    }
   ],
   "source": [
    "np.where(a<5, 0, a)"
   ]
  },
  {
   "cell_type": "code",
   "execution_count": 12,
   "id": "dcf4046d",
   "metadata": {},
   "outputs": [],
   "source": [
    "b = np.arange(10,22).reshape(4,3)"
   ]
  },
  {
   "cell_type": "code",
   "execution_count": 13,
   "id": "63f11b6a",
   "metadata": {},
   "outputs": [
    {
     "data": {
      "text/plain": [
       "array([[10, 11, 12],\n",
       "       [13, 14, 15],\n",
       "       [16, 17, 18],\n",
       "       [19, 20, 21]])"
      ]
     },
     "execution_count": 13,
     "metadata": {},
     "output_type": "execute_result"
    }
   ],
   "source": [
    "b"
   ]
  },
  {
   "cell_type": "code",
   "execution_count": 14,
   "id": "0d775994",
   "metadata": {},
   "outputs": [
    {
     "data": {
      "text/plain": [
       "array([[ 0,  0,  0],\n",
       "       [ 0,  0, 15],\n",
       "       [16, 17, 18],\n",
       "       [19, 20, 21]])"
      ]
     },
     "execution_count": 14,
     "metadata": {},
     "output_type": "execute_result"
    }
   ],
   "source": [
    "np.where(a<5, 0, b)"
   ]
  },
  {
   "cell_type": "code",
   "execution_count": null,
   "id": "ff6bdce9",
   "metadata": {},
   "outputs": [],
   "source": []
  },
  {
   "cell_type": "code",
   "execution_count": 15,
   "id": "e0f775e4",
   "metadata": {},
   "outputs": [
    {
     "data": {
      "text/plain": [
       "array([[ 0,  1,  2],\n",
       "       [ 3,  4,  5],\n",
       "       [ 6,  7,  8],\n",
       "       [ 9, 10, 11]])"
      ]
     },
     "execution_count": 15,
     "metadata": {},
     "output_type": "execute_result"
    }
   ],
   "source": [
    "a"
   ]
  },
  {
   "cell_type": "code",
   "execution_count": 16,
   "id": "6c9d9ff9",
   "metadata": {},
   "outputs": [
    {
     "data": {
      "text/plain": [
       "(array([0, 0, 0, 1, 1], dtype=int64), array([0, 1, 2, 0, 1], dtype=int64))"
      ]
     },
     "execution_count": 16,
     "metadata": {},
     "output_type": "execute_result"
    }
   ],
   "source": [
    "np.where(a<5) # 처음 어레이는 행번호들, 뒷 어레이는 열번호들"
   ]
  },
  {
   "cell_type": "code",
   "execution_count": 18,
   "id": "da5e7a7f",
   "metadata": {},
   "outputs": [
    {
     "data": {
      "text/plain": [
       "4"
      ]
     },
     "execution_count": 18,
     "metadata": {},
     "output_type": "execute_result"
    }
   ],
   "source": [
    "a[1,1]"
   ]
  },
  {
   "cell_type": "code",
   "execution_count": null,
   "id": "deea6872",
   "metadata": {},
   "outputs": [],
   "source": []
  },
  {
   "cell_type": "markdown",
   "id": "e46cf816",
   "metadata": {},
   "source": [
    "### 통계 분석"
   ]
  },
  {
   "cell_type": "code",
   "execution_count": 19,
   "id": "6e8ceac3",
   "metadata": {},
   "outputs": [
    {
     "data": {
      "text/plain": [
       "array([1, 2, 3, 4, 5])"
      ]
     },
     "execution_count": 19,
     "metadata": {},
     "output_type": "execute_result"
    }
   ],
   "source": [
    "a = np.array([1,2,3,4,5])\n",
    "a"
   ]
  },
  {
   "cell_type": "code",
   "execution_count": 20,
   "id": "7e89373c",
   "metadata": {},
   "outputs": [
    {
     "data": {
      "text/plain": [
       "15"
      ]
     },
     "execution_count": 20,
     "metadata": {},
     "output_type": "execute_result"
    }
   ],
   "source": [
    "a.sum()"
   ]
  },
  {
   "cell_type": "code",
   "execution_count": 21,
   "id": "6dd4c5c0",
   "metadata": {},
   "outputs": [
    {
     "data": {
      "text/plain": [
       "5"
      ]
     },
     "execution_count": 21,
     "metadata": {},
     "output_type": "execute_result"
    }
   ],
   "source": [
    "len(a)"
   ]
  },
  {
   "cell_type": "code",
   "execution_count": 23,
   "id": "52733e40",
   "metadata": {},
   "outputs": [
    {
     "data": {
      "text/plain": [
       "3.0"
      ]
     },
     "execution_count": 23,
     "metadata": {},
     "output_type": "execute_result"
    }
   ],
   "source": [
    "m = a.sum()/len(a)\n",
    "m"
   ]
  },
  {
   "cell_type": "code",
   "execution_count": null,
   "id": "9c5abbed",
   "metadata": {},
   "outputs": [],
   "source": []
  },
  {
   "cell_type": "code",
   "execution_count": 24,
   "id": "dc24dc54",
   "metadata": {},
   "outputs": [
    {
     "data": {
      "text/plain": [
       "array([-2., -1.,  0.,  1.,  2.])"
      ]
     },
     "execution_count": 24,
     "metadata": {},
     "output_type": "execute_result"
    }
   ],
   "source": [
    "a - m"
   ]
  },
  {
   "cell_type": "code",
   "execution_count": 25,
   "id": "7589f8ef",
   "metadata": {},
   "outputs": [
    {
     "data": {
      "text/plain": [
       "array([4., 1., 0., 1., 4.])"
      ]
     },
     "execution_count": 25,
     "metadata": {},
     "output_type": "execute_result"
    }
   ],
   "source": [
    "(a-m)**2"
   ]
  },
  {
   "cell_type": "code",
   "execution_count": 28,
   "id": "8733e4a8",
   "metadata": {},
   "outputs": [
    {
     "data": {
      "text/plain": [
       "2.0"
      ]
     },
     "execution_count": 28,
     "metadata": {},
     "output_type": "execute_result"
    }
   ],
   "source": [
    "v = ((a-m)**2).sum()/len(a) # 분산\n",
    "v"
   ]
  },
  {
   "cell_type": "code",
   "execution_count": 30,
   "id": "55ecc87b",
   "metadata": {},
   "outputs": [
    {
     "data": {
      "text/plain": [
       "1.4142135623730951"
      ]
     },
     "execution_count": 30,
     "metadata": {},
     "output_type": "execute_result"
    }
   ],
   "source": [
    "np.sqrt(v) # 표준편차"
   ]
  },
  {
   "cell_type": "code",
   "execution_count": 31,
   "id": "1d7bba8f",
   "metadata": {},
   "outputs": [
    {
     "data": {
      "text/plain": [
       "1"
      ]
     },
     "execution_count": 31,
     "metadata": {},
     "output_type": "execute_result"
    }
   ],
   "source": [
    "a.min()"
   ]
  },
  {
   "cell_type": "code",
   "execution_count": 32,
   "id": "5741a032",
   "metadata": {},
   "outputs": [
    {
     "data": {
      "text/plain": [
       "5"
      ]
     },
     "execution_count": 32,
     "metadata": {},
     "output_type": "execute_result"
    }
   ],
   "source": [
    "a.max()"
   ]
  },
  {
   "cell_type": "code",
   "execution_count": null,
   "id": "1e232fd7",
   "metadata": {},
   "outputs": [],
   "source": []
  },
  {
   "cell_type": "markdown",
   "id": "d2493d98",
   "metadata": {},
   "source": [
    "### 랜덤 함수"
   ]
  },
  {
   "cell_type": "code",
   "execution_count": 33,
   "id": "543a6d3a",
   "metadata": {},
   "outputs": [
    {
     "data": {
      "text/plain": [
       "array([0.77789777, 0.0528179 , 0.50112168, 0.17301616, 0.43525095,\n",
       "       0.64432661, 0.01167762, 0.64751607, 0.16209529, 0.78853259])"
      ]
     },
     "execution_count": 33,
     "metadata": {},
     "output_type": "execute_result"
    }
   ],
   "source": [
    "np.random.rand(10) # 0~1 사이의 실수값을 랜덤값을 뽑는다"
   ]
  },
  {
   "cell_type": "code",
   "execution_count": 34,
   "id": "0d46adab",
   "metadata": {},
   "outputs": [
    {
     "data": {
      "text/plain": [
       "array([-1.76956791, -0.0836022 , -0.6176372 ,  0.92520887,  0.76359553,\n",
       "        0.60204654,  0.58110743, -1.69133671, -1.03180358, -1.34407042])"
      ]
     },
     "execution_count": 34,
     "metadata": {},
     "output_type": "execute_result"
    }
   ],
   "source": [
    "np.random.randn(10) # 평균이 0, 표준편차가 1인 분포에서 뽑는다"
   ]
  },
  {
   "cell_type": "code",
   "execution_count": 114,
   "id": "57992a35",
   "metadata": {},
   "outputs": [
    {
     "data": {
      "text/plain": [
       "530"
      ]
     },
     "execution_count": 114,
     "metadata": {},
     "output_type": "execute_result"
    }
   ],
   "source": [
    "a = np.random.randint(2, size=1000) # 동전을 1000번 던진 시뮬레이션\n",
    "a.sum() # 앞면이 나온 횟수"
   ]
  },
  {
   "cell_type": "code",
   "execution_count": null,
   "id": "238bcf63",
   "metadata": {},
   "outputs": [],
   "source": []
  },
  {
   "cell_type": "code",
   "execution_count": 115,
   "id": "6ecf3eb6",
   "metadata": {},
   "outputs": [
    {
     "data": {
      "text/plain": [
       "array([-0.35508689,  0.85670908,  0.17038648, ...,  0.54648484,\n",
       "       -0.10544381, -0.88071877])"
      ]
     },
     "execution_count": 115,
     "metadata": {},
     "output_type": "execute_result"
    }
   ],
   "source": [
    "a = np.random.randn(100000)\n",
    "a"
   ]
  },
  {
   "cell_type": "code",
   "execution_count": 117,
   "id": "a597c971",
   "metadata": {},
   "outputs": [
    {
     "data": {
      "text/plain": [
       "(4.320539964326035, -4.241047304802079)"
      ]
     },
     "execution_count": 117,
     "metadata": {},
     "output_type": "execute_result"
    }
   ],
   "source": [
    "a.max(), a.min()"
   ]
  },
  {
   "cell_type": "code",
   "execution_count": 121,
   "id": "9c664720",
   "metadata": {},
   "outputs": [
    {
     "data": {
      "image/png": "[encoded data removed]",
      "text/plain": [
       "<Figure size 640x480 with 1 Axes>"
      ]
     },
     "metadata": {},
     "output_type": "display_data"
    }
   ],
   "source": [
    "plt.hist(a, bins=200) # 히스토그램\n",
    "pass"
   ]
  },
  {
   "cell_type": "code",
   "execution_count": 144,
   "id": "3c5b465e",
   "metadata": {},
   "outputs": [
    {
     "data": {
      "text/plain": [
       "array([4, 6, 6, 4, 4, 2, 3, 3, 5, 3])"
      ]
     },
     "execution_count": 144,
     "metadata": {},
     "output_type": "execute_result"
    }
   ],
   "source": [
    "a = np.random.randint(1,7, size=10) # 주사위\n",
    "a"
   ]
  },
  {
   "cell_type": "code",
   "execution_count": 145,
   "id": "3695627e",
   "metadata": {},
   "outputs": [
    {
     "data": {
      "text/plain": [
       "array([[3, 2, 2, 6, 5],\n",
       "       [2, 4, 1, 1, 5],\n",
       "       [3, 6, 6, 3, 5],\n",
       "       [6, 5, 3, 3, 5],\n",
       "       [2, 5, 4, 4, 3],\n",
       "       [1, 1, 4, 5, 6],\n",
       "       [3, 2, 5, 1, 4],\n",
       "       [1, 4, 5, 6, 2],\n",
       "       [6, 3, 2, 3, 1],\n",
       "       [4, 3, 3, 4, 2]])"
      ]
     },
     "execution_count": 145,
     "metadata": {},
     "output_type": "execute_result"
    }
   ],
   "source": [
    "a = np.random.randint(1,7, size=[10,5]) # 주사위\n",
    "a"
   ]
  },
  {
   "cell_type": "code",
   "execution_count": 146,
   "id": "0f74f4d6",
   "metadata": {},
   "outputs": [
    {
     "data": {
      "text/plain": [
       "array([3.6, 2.6, 4.6, 4.4, 3.6, 3.4, 3. , 3.6, 3. , 3.2])"
      ]
     },
     "execution_count": 146,
     "metadata": {},
     "output_type": "execute_result"
    }
   ],
   "source": [
    "a.mean(axis=1)"
   ]
  },
  {
   "cell_type": "code",
   "execution_count": 166,
   "id": "24da02e1",
   "metadata": {},
   "outputs": [
    {
     "data": {
      "text/plain": [
       "8"
      ]
     },
     "execution_count": 166,
     "metadata": {},
     "output_type": "execute_result"
    }
   ],
   "source": [
    "a = np.random.randint(1,7, size=[10,5])\n",
    "(a.mean(axis=1)>3).sum()"
   ]
  },
  {
   "cell_type": "code",
   "execution_count": null,
   "id": "fcab6696",
   "metadata": {},
   "outputs": [],
   "source": []
  },
  {
   "cell_type": "markdown",
   "id": "ea66ca2b",
   "metadata": {},
   "source": [
    "### 어레이는 이미지이다"
   ]
  },
  {
   "cell_type": "code",
   "execution_count": 170,
   "id": "5ec50980",
   "metadata": {},
   "outputs": [
    {
     "data": {
      "text/plain": [
       "array([[0., 0., 0., 0., 0., 0., 0., 0., 0., 0.],\n",
       "       [0., 0., 0., 0., 0., 0., 0., 0., 0., 0.],\n",
       "       [0., 0., 0., 0., 0., 0., 0., 0., 0., 0.],\n",
       "       [0., 0., 0., 0., 0., 0., 0., 0., 0., 0.],\n",
       "       [0., 0., 0., 0., 0., 0., 0., 0., 0., 0.],\n",
       "       [0., 0., 0., 0., 0., 0., 0., 0., 0., 0.],\n",
       "       [0., 0., 0., 0., 0., 0., 0., 0., 0., 0.],\n",
       "       [0., 0., 0., 0., 0., 0., 0., 0., 0., 0.],\n",
       "       [0., 0., 0., 0., 0., 0., 0., 0., 0., 0.],\n",
       "       [0., 0., 0., 0., 0., 0., 0., 0., 0., 0.]])"
      ]
     },
     "execution_count": 170,
     "metadata": {},
     "output_type": "execute_result"
    }
   ],
   "source": [
    "a = np.zeros([10,10])\n",
    "a"
   ]
  },
  {
   "cell_type": "code",
   "execution_count": 171,
   "id": "6f7e0e64",
   "metadata": {},
   "outputs": [
    {
     "data": {
      "text/plain": [
       "array([[0., 0., 0., 0., 0., 0., 0., 0., 0., 0.],\n",
       "       [0., 0., 1., 1., 0., 0., 0., 0., 0., 0.],\n",
       "       [0., 0., 0., 1., 1., 0., 0., 0., 0., 0.],\n",
       "       [0., 0., 0., 0., 0., 0., 0., 0., 0., 0.],\n",
       "       [0., 0., 0., 0., 0., 0., 0., 0., 0., 0.],\n",
       "       [0., 0., 0., 0., 0., 0., 0., 0., 0., 0.],\n",
       "       [0., 0., 0., 0., 0., 0., 0., 0., 0., 0.],\n",
       "       [0., 0., 0., 0., 0., 0., 0., 0., 0., 0.],\n",
       "       [0., 0., 0., 0., 0., 0., 0., 0., 0., 0.],\n",
       "       [0., 0., 0., 0., 0., 0., 0., 0., 0., 0.]])"
      ]
     },
     "execution_count": 171,
     "metadata": {},
     "output_type": "execute_result"
    }
   ],
   "source": [
    "a[1,2] = 1\n",
    "a[1,3] = 1\n",
    "a[2,3] = 1\n",
    "a[2,4] = 1\n",
    "a"
   ]
  },
  {
   "cell_type": "code",
   "execution_count": 173,
   "id": "50c0f0fd",
   "metadata": {},
   "outputs": [
    {
     "data": {
      "text/plain": [
       "<matplotlib.colorbar.Colorbar at 0x2c01db674c0>"
      ]
     },
     "execution_count": 173,
     "metadata": {},
     "output_type": "execute_result"
    },
    {
     "data": {
      "image/png": "[encoded data removed]",
      "text/plain": [
       "<Figure size 640x480 with 2 Axes>"
      ]
     },
     "metadata": {},
     "output_type": "display_data"
    }
   ],
   "source": [
    "plt.imshow(a, cmap='gray_r')\n",
    "plt.colorbar()"
   ]
  },
  {
   "cell_type": "code",
   "execution_count": 174,
   "id": "d6b39df2",
   "metadata": {},
   "outputs": [
    {
     "data": {
      "text/plain": [
       "array([[0.95139187, 0.42960739, 0.52943056, 0.37939342, 0.83089754,\n",
       "        0.76404967, 0.81800544, 0.45901969, 0.78427924, 0.02611236],\n",
       "       [0.18602963, 0.17576706, 0.48715329, 0.14324466, 0.05602443,\n",
       "        0.47273408, 0.78311254, 0.12615241, 0.46581437, 0.27304366],\n",
       "       [0.07863168, 0.36483403, 0.90514989, 0.53796702, 0.306291  ,\n",
       "        0.53078846, 0.01016261, 0.83366834, 0.70920009, 0.40011995],\n",
       "       [0.51095674, 0.82506166, 0.97706155, 0.27429215, 0.69425206,\n",
       "        0.1661343 , 0.13318527, 0.55569567, 0.6555425 , 0.29327626],\n",
       "       [0.13227362, 0.24185977, 0.31841925, 0.22045888, 0.79909522,\n",
       "        0.44577202, 0.34383655, 0.44068927, 0.90309595, 0.43986043],\n",
       "       [0.16618905, 0.9330676 , 0.32857598, 0.99976881, 0.48143925,\n",
       "        0.27030373, 0.26936516, 0.10198711, 0.93748952, 0.2938363 ],\n",
       "       [0.4594022 , 0.48490709, 0.37527331, 0.29229047, 0.23812542,\n",
       "        0.19784276, 0.11446611, 0.17079724, 0.36514331, 0.18618871],\n",
       "       [0.6170228 , 0.85727106, 0.356287  , 0.91888997, 0.1230465 ,\n",
       "        0.01269675, 0.38331038, 0.9627151 , 0.8022266 , 0.02728184],\n",
       "       [0.28892635, 0.30220706, 0.22308813, 0.31340787, 0.70698642,\n",
       "        0.01194917, 0.11146128, 0.38405441, 0.93437135, 0.83247635],\n",
       "       [0.412605  , 0.88893784, 0.94720217, 0.35162071, 0.08613048,\n",
       "        0.652558  , 0.05169411, 0.70780291, 0.66880206, 0.19941275]])"
      ]
     },
     "execution_count": 174,
     "metadata": {},
     "output_type": "execute_result"
    }
   ],
   "source": [
    "a = np.random.rand(10,10)\n",
    "a"
   ]
  },
  {
   "cell_type": "code",
   "execution_count": 175,
   "id": "54b8ed02",
   "metadata": {},
   "outputs": [
    {
     "data": {
      "text/plain": [
       "<matplotlib.colorbar.Colorbar at 0x2c01dc2eb60>"
      ]
     },
     "execution_count": 175,
     "metadata": {},
     "output_type": "execute_result"
    },
    {
     "data": {
      "image/png": "[encoded data removed]",
      "text/plain": [
       "<Figure size 640x480 with 2 Axes>"
      ]
     },
     "metadata": {},
     "output_type": "display_data"
    }
   ],
   "source": [
    "plt.imshow(a, cmap='gray')\n",
    "plt.colorbar()"
   ]
  },
  {
   "cell_type": "code",
   "execution_count": 177,
   "id": "55c8642e",
   "metadata": {},
   "outputs": [
    {
     "data": {
      "text/plain": [
       "(10, 20, 3)"
      ]
     },
     "execution_count": 177,
     "metadata": {},
     "output_type": "execute_result"
    }
   ],
   "source": [
    "a = np.random.rand(10,20,3) # 높이, 넓이, 채널(RGB)\n",
    "a.shape"
   ]
  },
  {
   "cell_type": "code",
   "execution_count": 178,
   "id": "16c6a332",
   "metadata": {},
   "outputs": [
    {
     "data": {
      "text/plain": [
       "<matplotlib.image.AxesImage at 0x2c01dee3100>"
      ]
     },
     "execution_count": 178,
     "metadata": {},
     "output_type": "execute_result"
    },
    {
     "data": {
      "image/png": "[encoded data removed]",
      "text/plain": [
       "<Figure size 640x480 with 1 Axes>"
      ]
     },
     "metadata": {},
     "output_type": "display_data"
    }
   ],
   "source": [
    "plt.imshow(a)"
   ]
  },
  {
   "cell_type": "code",
   "execution_count": 179,
   "id": "a98b8071",
   "metadata": {},
   "outputs": [
    {
     "data": {
      "text/plain": [
       "array([[[ 57,  55,  40],\n",
       "        [ 71,  69,  54],\n",
       "        [ 74,  71,  54],\n",
       "        ...,\n",
       "        [146, 147, 129],\n",
       "        [125, 126, 108],\n",
       "        [ 85,  86,  68]],\n",
       "\n",
       "       [[ 51,  49,  34],\n",
       "        [ 67,  65,  50],\n",
       "        [ 73,  70,  53],\n",
       "        ...,\n",
       "        [144, 142, 129],\n",
       "        [ 99,  97,  84],\n",
       "        [ 56,  54,  41]],\n",
       "\n",
       "       [[ 54,  52,  37],\n",
       "        [ 66,  64,  49],\n",
       "        [ 70,  67,  50],\n",
       "        ...,\n",
       "        [122, 117, 111],\n",
       "        [ 59,  54,  48],\n",
       "        [ 25,  20,  14]],\n",
       "\n",
       "       ...,\n",
       "\n",
       "       [[102,  96,  74],\n",
       "        [ 95,  87,  66],\n",
       "        [110,  99,  79],\n",
       "        ...,\n",
       "        [117, 115,  92],\n",
       "        [106, 104,  81],\n",
       "        [ 94,  92,  69]],\n",
       "\n",
       "       [[108, 102,  80],\n",
       "        [112, 104,  83],\n",
       "        [125, 114,  94],\n",
       "        ...,\n",
       "        [113, 111,  88],\n",
       "        [110, 108,  85],\n",
       "        [106, 104,  81]],\n",
       "\n",
       "       [[108, 102,  80],\n",
       "        [129, 121, 100],\n",
       "        [138, 127, 107],\n",
       "        ...,\n",
       "        [101,  99,  76],\n",
       "        [108, 106,  83],\n",
       "        [116, 114,  91]]], dtype=uint8)"
      ]
     },
     "execution_count": 179,
     "metadata": {},
     "output_type": "execute_result"
    }
   ],
   "source": [
    "img = plt.imread('bob_dylan.jpg')\n",
    "img"
   ]
  },
  {
   "cell_type": "code",
   "execution_count": 180,
   "id": "5d786f0f",
   "metadata": {},
   "outputs": [
    {
     "data": {
      "text/plain": [
       "(355, 355, 3)"
      ]
     },
     "execution_count": 180,
     "metadata": {},
     "output_type": "execute_result"
    }
   ],
   "source": [
    "img.shape"
   ]
  },
  {
   "cell_type": "code",
   "execution_count": 181,
   "id": "95bb9820",
   "metadata": {},
   "outputs": [
    {
     "data": {
      "text/plain": [
       "<matplotlib.image.AxesImage at 0x2c01e295030>"
      ]
     },
     "execution_count": 181,
     "metadata": {},
     "output_type": "execute_result"
    },
    {
     "data": {
      "image/png": "[encoded data removed]",
      "text/plain": [
       "<Figure size 640x480 with 1 Axes>"
      ]
     },
     "metadata": {},
     "output_type": "display_data"
    }
   ],
   "source": [
    "plt.imshow(img)"
   ]
  },
  {
   "cell_type": "code",
   "execution_count": 182,
   "id": "3015690c",
   "metadata": {},
   "outputs": [
    {
     "data": {
      "text/plain": [
       "<matplotlib.image.AxesImage at 0x2c01e314ca0>"
      ]
     },
     "execution_count": 182,
     "metadata": {},
     "output_type": "execute_result"
    },
    {
     "data": {
      "image/png": "[encoded data removed]",
      "text/plain": [
       "<Figure size 640x480 with 1 Axes>"
      ]
     },
     "metadata": {},
     "output_type": "display_data"
    }
   ],
   "source": [
    "img2 = img.copy()\n",
    "img2[100:200, 100:200] = 0\n",
    "plt.imshow(img2)"
   ]
  },
  {
   "cell_type": "code",
   "execution_count": null,
   "id": "8de96f5e",
   "metadata": {},
   "outputs": [],
   "source": []
  },
  {
   "cell_type": "markdown",
   "id": "15d56407",
   "metadata": {},
   "source": [
    "### 차원 변환"
   ]
  },
  {
   "cell_type": "code",
   "execution_count": 183,
   "id": "892acae2",
   "metadata": {},
   "outputs": [
    {
     "data": {
      "text/plain": [
       "array([1, 2, 3, 4, 5])"
      ]
     },
     "execution_count": 183,
     "metadata": {},
     "output_type": "execute_result"
    }
   ],
   "source": [
    "a = np.array([1,2,3,4,5])\n",
    "a"
   ]
  },
  {
   "cell_type": "code",
   "execution_count": 184,
   "id": "49945433",
   "metadata": {},
   "outputs": [
    {
     "data": {
      "text/plain": [
       "(5,)"
      ]
     },
     "execution_count": 184,
     "metadata": {},
     "output_type": "execute_result"
    }
   ],
   "source": [
    "a.shape"
   ]
  },
  {
   "cell_type": "code",
   "execution_count": 185,
   "id": "6b6c31c6",
   "metadata": {},
   "outputs": [
    {
     "data": {
      "text/plain": [
       "array([[1, 2, 3, 4, 5]])"
      ]
     },
     "execution_count": 185,
     "metadata": {},
     "output_type": "execute_result"
    }
   ],
   "source": [
    "a.reshape(1,5)"
   ]
  },
  {
   "cell_type": "code",
   "execution_count": 186,
   "id": "33e36497",
   "metadata": {},
   "outputs": [
    {
     "data": {
      "text/plain": [
       "array([[1],\n",
       "       [2],\n",
       "       [3],\n",
       "       [4],\n",
       "       [5]])"
      ]
     },
     "execution_count": 186,
     "metadata": {},
     "output_type": "execute_result"
    }
   ],
   "source": [
    "a.reshape(5,1)"
   ]
  },
  {
   "cell_type": "code",
   "execution_count": null,
   "id": "e702ccbd",
   "metadata": {},
   "outputs": [],
   "source": []
  },
  {
   "cell_type": "markdown",
   "id": "938b127d",
   "metadata": {},
   "source": [
    "### 브로드캐스팅"
   ]
  },
  {
   "cell_type": "code",
   "execution_count": 187,
   "id": "fbb4c226",
   "metadata": {},
   "outputs": [
    {
     "data": {
      "text/plain": [
       "array([[ 0,  1,  2],\n",
       "       [ 3,  4,  5],\n",
       "       [ 6,  7,  8],\n",
       "       [ 9, 10, 11]])"
      ]
     },
     "execution_count": 187,
     "metadata": {},
     "output_type": "execute_result"
    }
   ],
   "source": [
    "a = np.arange(12).reshape(4,3)\n",
    "a"
   ]
  },
  {
   "cell_type": "code",
   "execution_count": 188,
   "id": "0b682fcc",
   "metadata": {},
   "outputs": [
    {
     "data": {
      "text/plain": [
       "array([[0. , 0.5, 0.2],\n",
       "       [3. , 2. , 0.5],\n",
       "       [6. , 3.5, 0.8],\n",
       "       [9. , 5. , 1.1]])"
      ]
     },
     "execution_count": 188,
     "metadata": {},
     "output_type": "execute_result"
    }
   ],
   "source": [
    "a * [1,0.5,0.1] # 열별로 계산을 따로 해준다"
   ]
  },
  {
   "cell_type": "code",
   "execution_count": 189,
   "id": "95b1643c",
   "metadata": {},
   "outputs": [
    {
     "data": {
      "text/plain": [
       "array([[ 1,  3,  5],\n",
       "       [ 4,  6,  8],\n",
       "       [ 7,  9, 11],\n",
       "       [10, 12, 14]])"
      ]
     },
     "execution_count": 189,
     "metadata": {},
     "output_type": "execute_result"
    }
   ],
   "source": [
    "a + [1, 2, 3]"
   ]
  },
  {
   "cell_type": "code",
   "execution_count": 192,
   "id": "3c619126",
   "metadata": {},
   "outputs": [
    {
     "data": {
      "text/plain": [
       "array([[ 1,  2,  3],\n",
       "       [ 5,  6,  7],\n",
       "       [ 9, 10, 11],\n",
       "       [13, 14, 15]])"
      ]
     },
     "execution_count": 192,
     "metadata": {},
     "output_type": "execute_result"
    }
   ],
   "source": [
    "a + [[1],[2],[3],[4]] # 행별로 각자 계산해준다"
   ]
  },
  {
   "cell_type": "code",
   "execution_count": null,
   "id": "4ba50724",
   "metadata": {},
   "outputs": [],
   "source": []
  },
  {
   "cell_type": "markdown",
   "id": "8068f1cd",
   "metadata": {},
   "source": [
    "### 어레이 합치기"
   ]
  },
  {
   "cell_type": "code",
   "execution_count": 3,
   "id": "2c5d71c8",
   "metadata": {},
   "outputs": [
    {
     "data": {
      "text/plain": [
       "array([[0., 0.],\n",
       "       [0., 0.],\n",
       "       [0., 0.]])"
      ]
     },
     "execution_count": 3,
     "metadata": {},
     "output_type": "execute_result"
    }
   ],
   "source": [
    "a = np.zeros([3,2])\n",
    "a"
   ]
  },
  {
   "cell_type": "code",
   "execution_count": 4,
   "id": "82a37b79",
   "metadata": {},
   "outputs": [
    {
     "data": {
      "text/plain": [
       "array([[1., 1.],\n",
       "       [1., 1.],\n",
       "       [1., 1.],\n",
       "       [1., 1.]])"
      ]
     },
     "execution_count": 4,
     "metadata": {},
     "output_type": "execute_result"
    }
   ],
   "source": [
    "b = np.ones([4,2])\n",
    "b"
   ]
  },
  {
   "cell_type": "code",
   "execution_count": 5,
   "id": "bda9d7ba",
   "metadata": {},
   "outputs": [
    {
     "data": {
      "text/plain": [
       "array([[0., 0.],\n",
       "       [0., 0.],\n",
       "       [0., 0.],\n",
       "       [1., 1.],\n",
       "       [1., 1.],\n",
       "       [1., 1.],\n",
       "       [1., 1.]])"
      ]
     },
     "execution_count": 5,
     "metadata": {},
     "output_type": "execute_result"
    }
   ],
   "source": [
    "np.r_[a,b] # row 를 붙인다"
   ]
  },
  {
   "cell_type": "code",
   "execution_count": 6,
   "id": "2fef6db6",
   "metadata": {},
   "outputs": [
    {
     "data": {
      "text/plain": [
       "array([[2., 2., 2.],\n",
       "       [2., 2., 2.],\n",
       "       [2., 2., 2.]])"
      ]
     },
     "execution_count": 6,
     "metadata": {},
     "output_type": "execute_result"
    }
   ],
   "source": [
    "c = np.ones([3,3])+1\n",
    "c"
   ]
  },
  {
   "cell_type": "code",
   "execution_count": 7,
   "id": "acb02954",
   "metadata": {},
   "outputs": [
    {
     "data": {
      "text/plain": [
       "array([[0., 0., 2., 2., 2.],\n",
       "       [0., 0., 2., 2., 2.],\n",
       "       [0., 0., 2., 2., 2.]])"
      ]
     },
     "execution_count": 7,
     "metadata": {},
     "output_type": "execute_result"
    }
   ],
   "source": [
    "np.c_[a, c] # column 을 붙인다"
   ]
  },
  {
   "cell_type": "code",
   "execution_count": 8,
   "id": "5f262be8",
   "metadata": {},
   "outputs": [
    {
     "ename": "ValueError",
     "evalue": "all the input array dimensions for the concatenation axis must match exactly, but along dimension 0, the array at index 0 has size 3 and the array at index 1 has size 4",
     "output_type": "error",
     "traceback": [
      "\u001b[1;31m---------------------------------------------------------------------------\u001b[0m",
      "\u001b[1;31mValueError\u001b[0m                                Traceback (most recent call last)",
      "Cell \u001b[1;32mIn[8], line 1\u001b[0m\n\u001b[1;32m----> 1\u001b[0m \u001b[43mnp\u001b[49m\u001b[38;5;241;43m.\u001b[39;49m\u001b[43mc_\u001b[49m\u001b[43m[\u001b[49m\u001b[43ma\u001b[49m\u001b[43m,\u001b[49m\u001b[43mb\u001b[49m\u001b[43m]\u001b[49m\n",
      "File \u001b[1;32md:\\anaconda3\\lib\\site-packages\\numpy\\lib\\index_tricks.py:412\u001b[0m, in \u001b[0;36mAxisConcatenator.__getitem__\u001b[1;34m(self, key)\u001b[0m\n\u001b[0;32m    409\u001b[0m     \u001b[38;5;28;01mfor\u001b[39;00m k \u001b[38;5;129;01min\u001b[39;00m scalars:\n\u001b[0;32m    410\u001b[0m         objs[k] \u001b[38;5;241m=\u001b[39m objs[k]\u001b[38;5;241m.\u001b[39mastype(final_dtype)\n\u001b[1;32m--> 412\u001b[0m res \u001b[38;5;241m=\u001b[39m \u001b[38;5;28;43mself\u001b[39;49m\u001b[38;5;241;43m.\u001b[39;49m\u001b[43mconcatenate\u001b[49m\u001b[43m(\u001b[49m\u001b[38;5;28;43mtuple\u001b[39;49m\u001b[43m(\u001b[49m\u001b[43mobjs\u001b[49m\u001b[43m)\u001b[49m\u001b[43m,\u001b[49m\u001b[43m \u001b[49m\u001b[43maxis\u001b[49m\u001b[38;5;241;43m=\u001b[39;49m\u001b[43maxis\u001b[49m\u001b[43m)\u001b[49m\n\u001b[0;32m    414\u001b[0m \u001b[38;5;28;01mif\u001b[39;00m matrix:\n\u001b[0;32m    415\u001b[0m     oldndim \u001b[38;5;241m=\u001b[39m res\u001b[38;5;241m.\u001b[39mndim\n",
      "File \u001b[1;32m<__array_function__ internals>:180\u001b[0m, in \u001b[0;36mconcatenate\u001b[1;34m(*args, **kwargs)\u001b[0m\n",
      "\u001b[1;31mValueError\u001b[0m: all the input array dimensions for the concatenation axis must match exactly, but along dimension 0, the array at index 0 has size 3 and the array at index 1 has size 4"
     ]
    }
   ],
   "source": [
    "np.c_[a,b]"
   ]
  },
  {
   "cell_type": "code",
   "execution_count": null,
   "id": "8c95bf52",
   "metadata": {},
   "outputs": [],
   "source": []
  },
  {
   "cell_type": "markdown",
   "id": "0f12d40c",
   "metadata": {},
   "source": [
    "### 함수 그리기"
   ]
  },
  {
   "cell_type": "code",
   "execution_count": 9,
   "id": "2d3a00a1",
   "metadata": {
    "collapsed": true
   },
   "outputs": [
    {
     "data": {
      "text/plain": [
       "array([-5.00000000e+00, -4.90000000e+00, -4.80000000e+00, -4.70000000e+00,\n",
       "       -4.60000000e+00, -4.50000000e+00, -4.40000000e+00, -4.30000000e+00,\n",
       "       -4.20000000e+00, -4.10000000e+00, -4.00000000e+00, -3.90000000e+00,\n",
       "       -3.80000000e+00, -3.70000000e+00, -3.60000000e+00, -3.50000000e+00,\n",
       "       -3.40000000e+00, -3.30000000e+00, -3.20000000e+00, -3.10000000e+00,\n",
       "       -3.00000000e+00, -2.90000000e+00, -2.80000000e+00, -2.70000000e+00,\n",
       "       -2.60000000e+00, -2.50000000e+00, -2.40000000e+00, -2.30000000e+00,\n",
       "       -2.20000000e+00, -2.10000000e+00, -2.00000000e+00, -1.90000000e+00,\n",
       "       -1.80000000e+00, -1.70000000e+00, -1.60000000e+00, -1.50000000e+00,\n",
       "       -1.40000000e+00, -1.30000000e+00, -1.20000000e+00, -1.10000000e+00,\n",
       "       -1.00000000e+00, -9.00000000e-01, -8.00000000e-01, -7.00000000e-01,\n",
       "       -6.00000000e-01, -5.00000000e-01, -4.00000000e-01, -3.00000000e-01,\n",
       "       -2.00000000e-01, -1.00000000e-01, -1.77635684e-14,  1.00000000e-01,\n",
       "        2.00000000e-01,  3.00000000e-01,  4.00000000e-01,  5.00000000e-01,\n",
       "        6.00000000e-01,  7.00000000e-01,  8.00000000e-01,  9.00000000e-01,\n",
       "        1.00000000e+00,  1.10000000e+00,  1.20000000e+00,  1.30000000e+00,\n",
       "        1.40000000e+00,  1.50000000e+00,  1.60000000e+00,  1.70000000e+00,\n",
       "        1.80000000e+00,  1.90000000e+00,  2.00000000e+00,  2.10000000e+00,\n",
       "        2.20000000e+00,  2.30000000e+00,  2.40000000e+00,  2.50000000e+00,\n",
       "        2.60000000e+00,  2.70000000e+00,  2.80000000e+00,  2.90000000e+00,\n",
       "        3.00000000e+00,  3.10000000e+00,  3.20000000e+00,  3.30000000e+00,\n",
       "        3.40000000e+00,  3.50000000e+00,  3.60000000e+00,  3.70000000e+00,\n",
       "        3.80000000e+00,  3.90000000e+00,  4.00000000e+00,  4.10000000e+00,\n",
       "        4.20000000e+00,  4.30000000e+00,  4.40000000e+00,  4.50000000e+00,\n",
       "        4.60000000e+00,  4.70000000e+00,  4.80000000e+00,  4.90000000e+00])"
      ]
     },
     "execution_count": 9,
     "metadata": {},
     "output_type": "execute_result"
    }
   ],
   "source": [
    "x = np.arange(-5,5,0.1)\n",
    "x"
   ]
  },
  {
   "cell_type": "code",
   "execution_count": 14,
   "id": "fc8b771f",
   "metadata": {},
   "outputs": [
    {
     "data": {
      "text/plain": [
       "(-5.494999999999998, 5.394999999999963, -1.25, 26.25)"
      ]
     },
     "execution_count": 14,
     "metadata": {},
     "output_type": "execute_result"
    },
    {
     "data": {
      "image/png": "[encoded data removed]",
      "text/plain": [
       "<Figure size 640x480 with 1 Axes>"
      ]
     },
     "metadata": {},
     "output_type": "display_data"
    }
   ],
   "source": [
    "y = x**2\n",
    "plt.plot(x, y, 'ro-') # r: red, o : point, -: line\n",
    "plt.axis('scaled')"
   ]
  },
  {
   "cell_type": "code",
   "execution_count": null,
   "id": "b11b434d",
   "metadata": {},
   "outputs": [],
   "source": []
  },
  {
   "cell_type": "markdown",
   "id": "510b9b94",
   "metadata": {},
   "source": [
    "### 정렬"
   ]
  },
  {
   "cell_type": "code",
   "execution_count": 15,
   "id": "8b2f6b98",
   "metadata": {},
   "outputs": [
    {
     "data": {
      "text/plain": [
       "array([1, 2, 3, 4, 5])"
      ]
     },
     "execution_count": 15,
     "metadata": {},
     "output_type": "execute_result"
    }
   ],
   "source": [
    "a = np.array([3,5,1,4,2])\n",
    "np.sort(a) # 결과를 출력, a 는 변경 없음"
   ]
  },
  {
   "cell_type": "code",
   "execution_count": 16,
   "id": "afaefd9b",
   "metadata": {},
   "outputs": [],
   "source": [
    "a.sort() # a 가 바뀐다"
   ]
  },
  {
   "cell_type": "code",
   "execution_count": 17,
   "id": "d527ed5f",
   "metadata": {},
   "outputs": [
    {
     "data": {
      "text/plain": [
       "array([1, 2, 3, 4, 5])"
      ]
     },
     "execution_count": 17,
     "metadata": {},
     "output_type": "execute_result"
    }
   ],
   "source": [
    "a"
   ]
  },
  {
   "cell_type": "code",
   "execution_count": 18,
   "id": "1fdcd0e0",
   "metadata": {},
   "outputs": [
    {
     "data": {
      "text/plain": [
       "array([1, 2, 3, 4, 5])"
      ]
     },
     "execution_count": 18,
     "metadata": {},
     "output_type": "execute_result"
    }
   ],
   "source": [
    "a = np.array([3,5,1,4,2])\n",
    "a2 = np.sort(a) # 결과를 출력, a 는 변경 없음\n",
    "a2"
   ]
  },
  {
   "cell_type": "code",
   "execution_count": 20,
   "id": "40e6315e",
   "metadata": {},
   "outputs": [
    {
     "data": {
      "text/plain": [
       "array([2, 4, 0, 3, 1], dtype=int64)"
      ]
     },
     "execution_count": 20,
     "metadata": {},
     "output_type": "execute_result"
    }
   ],
   "source": [
    "a = np.array([54,73,26,68,44])\n",
    "np.argsort(a) # 번호를 출력한다"
   ]
  },
  {
   "cell_type": "code",
   "execution_count": 21,
   "id": "875031fc",
   "metadata": {},
   "outputs": [
    {
     "data": {
      "text/plain": [
       "array([[9, 0, 1, 9, 6],\n",
       "       [5, 7, 7, 0, 9],\n",
       "       [7, 2, 8, 0, 4]])"
      ]
     },
     "execution_count": 21,
     "metadata": {},
     "output_type": "execute_result"
    }
   ],
   "source": [
    "a = np.random.randint(10, size=[3,5])\n",
    "a"
   ]
  },
  {
   "cell_type": "code",
   "execution_count": 23,
   "id": "45fe2852",
   "metadata": {},
   "outputs": [
    {
     "data": {
      "text/plain": [
       "array([2, 0, 1], dtype=int64)"
      ]
     },
     "execution_count": 23,
     "metadata": {},
     "output_type": "execute_result"
    }
   ],
   "source": [
    "np.argsort(a[:,-1])"
   ]
  },
  {
   "cell_type": "code",
   "execution_count": 24,
   "id": "affbde5c",
   "metadata": {},
   "outputs": [
    {
     "data": {
      "text/plain": [
       "array([[7, 2, 8, 0, 4],\n",
       "       [9, 0, 1, 9, 6],\n",
       "       [5, 7, 7, 0, 9]])"
      ]
     },
     "execution_count": 24,
     "metadata": {},
     "output_type": "execute_result"
    }
   ],
   "source": [
    "a[[2,0,1]]"
   ]
  },
  {
   "cell_type": "code",
   "execution_count": 25,
   "id": "b3796955",
   "metadata": {},
   "outputs": [
    {
     "data": {
      "text/plain": [
       "array([[7, 2, 8, 0, 4],\n",
       "       [9, 0, 1, 9, 6],\n",
       "       [5, 7, 7, 0, 9]])"
      ]
     },
     "execution_count": 25,
     "metadata": {},
     "output_type": "execute_result"
    }
   ],
   "source": [
    "a[np.argsort(a[:,-1])]"
   ]
  },
  {
   "cell_type": "code",
   "execution_count": null,
   "id": "1aef9e66",
   "metadata": {},
   "outputs": [],
   "source": []
  },
  {
   "cell_type": "markdown",
   "id": "a23188ce",
   "metadata": {},
   "source": [
    "### 행렬곱"
   ]
  },
  {
   "cell_type": "code",
   "execution_count": 26,
   "id": "ad15ee8e",
   "metadata": {},
   "outputs": [
    {
     "data": {
      "text/plain": [
       "array([[1, 2],\n",
       "       [3, 4]])"
      ]
     },
     "execution_count": 26,
     "metadata": {},
     "output_type": "execute_result"
    }
   ],
   "source": [
    "a = np.array([[1,2], [3,4]])\n",
    "a"
   ]
  },
  {
   "cell_type": "code",
   "execution_count": 27,
   "id": "804892d6",
   "metadata": {},
   "outputs": [
    {
     "data": {
      "text/plain": [
       "array([[4, 3],\n",
       "       [2, 1]])"
      ]
     },
     "execution_count": 27,
     "metadata": {},
     "output_type": "execute_result"
    }
   ],
   "source": [
    "b = np.array([[4,3],[2,1]])\n",
    "b"
   ]
  },
  {
   "cell_type": "code",
   "execution_count": 28,
   "id": "73dbaba2",
   "metadata": {},
   "outputs": [
    {
     "data": {
      "text/plain": [
       "array([[4, 6],\n",
       "       [6, 4]])"
      ]
     },
     "execution_count": 28,
     "metadata": {},
     "output_type": "execute_result"
    }
   ],
   "source": [
    "a*b"
   ]
  },
  {
   "cell_type": "code",
   "execution_count": 29,
   "id": "6b6c7095",
   "metadata": {},
   "outputs": [
    {
     "data": {
      "text/plain": [
       "array([[ 8,  5],\n",
       "       [20, 13]])"
      ]
     },
     "execution_count": 29,
     "metadata": {},
     "output_type": "execute_result"
    }
   ],
   "source": [
    "a@b # 행렬곱"
   ]
  },
  {
   "cell_type": "code",
   "execution_count": null,
   "id": "c8c8ecd0",
   "metadata": {},
   "outputs": [],
   "source": []
  },
  {
   "cell_type": "markdown",
   "id": "ed440c4e",
   "metadata": {},
   "source": [
    "# PANDAS"
   ]
  },
  {
   "cell_type": "code",
   "execution_count": 30,
   "id": "fecd46d1",
   "metadata": {},
   "outputs": [],
   "source": [
    "import pandas as pd"
   ]
  },
  {
   "cell_type": "code",
   "execution_count": 31,
   "id": "84de999c",
   "metadata": {},
   "outputs": [
    {
     "data": {
      "text/html": [
       "<div>\n",
       "<style scoped>\n",
       "    .dataframe tbody tr th:only-of-type {\n",
       "        vertical-align: middle;\n",
       "    }\n",
       "\n",
       "    .dataframe tbody tr th {\n",
       "        vertical-align: top;\n",
       "    }\n",
       "\n",
       "    .dataframe thead th {\n",
       "        text-align: right;\n",
       "    }\n",
       "</style>\n",
       "<table border=\"1\" class=\"dataframe\">\n",
       "  <thead>\n",
       "    <tr style=\"text-align: right;\">\n",
       "      <th></th>\n",
       "      <th>Country name</th>\n",
       "      <th>Regional indicator</th>\n",
       "      <th>Ladder score</th>\n",
       "      <th>Standard error of ladder score</th>\n",
       "      <th>upperwhisker</th>\n",
       "      <th>lowerwhisker</th>\n",
       "      <th>Logged GDP per capita</th>\n",
       "      <th>Social support</th>\n",
       "      <th>Healthy life expectancy</th>\n",
       "      <th>Freedom to make life choices</th>\n",
       "      <th>Generosity</th>\n",
       "      <th>Perceptions of corruption</th>\n",
       "      <th>Ladder score in Dystopia</th>\n",
       "      <th>Explained by: Log GDP per capita</th>\n",
       "      <th>Explained by: Social support</th>\n",
       "      <th>Explained by: Healthy life expectancy</th>\n",
       "      <th>Explained by: Freedom to make life choices</th>\n",
       "      <th>Explained by: Generosity</th>\n",
       "      <th>Explained by: Perceptions of corruption</th>\n",
       "      <th>Dystopia + residual</th>\n",
       "    </tr>\n",
       "  </thead>\n",
       "  <tbody>\n",
       "    <tr>\n",
       "      <th>0</th>\n",
       "      <td>Finland</td>\n",
       "      <td>Western Europe</td>\n",
       "      <td>7.842</td>\n",
       "      <td>0.032</td>\n",
       "      <td>7.904</td>\n",
       "      <td>7.780</td>\n",
       "      <td>10.775</td>\n",
       "      <td>0.954</td>\n",
       "      <td>72.000</td>\n",
       "      <td>0.949</td>\n",
       "      <td>-0.098</td>\n",
       "      <td>0.186</td>\n",
       "      <td>2.43</td>\n",
       "      <td>1.446</td>\n",
       "      <td>1.106</td>\n",
       "      <td>0.741</td>\n",
       "      <td>0.691</td>\n",
       "      <td>0.124</td>\n",
       "      <td>0.481</td>\n",
       "      <td>3.253</td>\n",
       "    </tr>\n",
       "    <tr>\n",
       "      <th>1</th>\n",
       "      <td>Denmark</td>\n",
       "      <td>Western Europe</td>\n",
       "      <td>7.620</td>\n",
       "      <td>0.035</td>\n",
       "      <td>7.687</td>\n",
       "      <td>7.552</td>\n",
       "      <td>10.933</td>\n",
       "      <td>0.954</td>\n",
       "      <td>72.700</td>\n",
       "      <td>0.946</td>\n",
       "      <td>0.030</td>\n",
       "      <td>0.179</td>\n",
       "      <td>2.43</td>\n",
       "      <td>1.502</td>\n",
       "      <td>1.108</td>\n",
       "      <td>0.763</td>\n",
       "      <td>0.686</td>\n",
       "      <td>0.208</td>\n",
       "      <td>0.485</td>\n",
       "      <td>2.868</td>\n",
       "    </tr>\n",
       "    <tr>\n",
       "      <th>2</th>\n",
       "      <td>Switzerland</td>\n",
       "      <td>Western Europe</td>\n",
       "      <td>7.571</td>\n",
       "      <td>0.036</td>\n",
       "      <td>7.643</td>\n",
       "      <td>7.500</td>\n",
       "      <td>11.117</td>\n",
       "      <td>0.942</td>\n",
       "      <td>74.400</td>\n",
       "      <td>0.919</td>\n",
       "      <td>0.025</td>\n",
       "      <td>0.292</td>\n",
       "      <td>2.43</td>\n",
       "      <td>1.566</td>\n",
       "      <td>1.079</td>\n",
       "      <td>0.816</td>\n",
       "      <td>0.653</td>\n",
       "      <td>0.204</td>\n",
       "      <td>0.413</td>\n",
       "      <td>2.839</td>\n",
       "    </tr>\n",
       "    <tr>\n",
       "      <th>3</th>\n",
       "      <td>Iceland</td>\n",
       "      <td>Western Europe</td>\n",
       "      <td>7.554</td>\n",
       "      <td>0.059</td>\n",
       "      <td>7.670</td>\n",
       "      <td>7.438</td>\n",
       "      <td>10.878</td>\n",
       "      <td>0.983</td>\n",
       "      <td>73.000</td>\n",
       "      <td>0.955</td>\n",
       "      <td>0.160</td>\n",
       "      <td>0.673</td>\n",
       "      <td>2.43</td>\n",
       "      <td>1.482</td>\n",
       "      <td>1.172</td>\n",
       "      <td>0.772</td>\n",
       "      <td>0.698</td>\n",
       "      <td>0.293</td>\n",
       "      <td>0.170</td>\n",
       "      <td>2.967</td>\n",
       "    </tr>\n",
       "    <tr>\n",
       "      <th>4</th>\n",
       "      <td>Netherlands</td>\n",
       "      <td>Western Europe</td>\n",
       "      <td>7.464</td>\n",
       "      <td>0.027</td>\n",
       "      <td>7.518</td>\n",
       "      <td>7.410</td>\n",
       "      <td>10.932</td>\n",
       "      <td>0.942</td>\n",
       "      <td>72.400</td>\n",
       "      <td>0.913</td>\n",
       "      <td>0.175</td>\n",
       "      <td>0.338</td>\n",
       "      <td>2.43</td>\n",
       "      <td>1.501</td>\n",
       "      <td>1.079</td>\n",
       "      <td>0.753</td>\n",
       "      <td>0.647</td>\n",
       "      <td>0.302</td>\n",
       "      <td>0.384</td>\n",
       "      <td>2.798</td>\n",
       "    </tr>\n",
       "    <tr>\n",
       "      <th>...</th>\n",
       "      <td>...</td>\n",
       "      <td>...</td>\n",
       "      <td>...</td>\n",
       "      <td>...</td>\n",
       "      <td>...</td>\n",
       "      <td>...</td>\n",
       "      <td>...</td>\n",
       "      <td>...</td>\n",
       "      <td>...</td>\n",
       "      <td>...</td>\n",
       "      <td>...</td>\n",
       "      <td>...</td>\n",
       "      <td>...</td>\n",
       "      <td>...</td>\n",
       "      <td>...</td>\n",
       "      <td>...</td>\n",
       "      <td>...</td>\n",
       "      <td>...</td>\n",
       "      <td>...</td>\n",
       "      <td>...</td>\n",
       "    </tr>\n",
       "    <tr>\n",
       "      <th>144</th>\n",
       "      <td>Lesotho</td>\n",
       "      <td>Sub-Saharan Africa</td>\n",
       "      <td>3.512</td>\n",
       "      <td>0.120</td>\n",
       "      <td>3.748</td>\n",
       "      <td>3.276</td>\n",
       "      <td>7.926</td>\n",
       "      <td>0.787</td>\n",
       "      <td>48.700</td>\n",
       "      <td>0.715</td>\n",
       "      <td>-0.131</td>\n",
       "      <td>0.915</td>\n",
       "      <td>2.43</td>\n",
       "      <td>0.451</td>\n",
       "      <td>0.731</td>\n",
       "      <td>0.007</td>\n",
       "      <td>0.405</td>\n",
       "      <td>0.103</td>\n",
       "      <td>0.015</td>\n",
       "      <td>1.800</td>\n",
       "    </tr>\n",
       "    <tr>\n",
       "      <th>145</th>\n",
       "      <td>Botswana</td>\n",
       "      <td>Sub-Saharan Africa</td>\n",
       "      <td>3.467</td>\n",
       "      <td>0.074</td>\n",
       "      <td>3.611</td>\n",
       "      <td>3.322</td>\n",
       "      <td>9.782</td>\n",
       "      <td>0.784</td>\n",
       "      <td>59.269</td>\n",
       "      <td>0.824</td>\n",
       "      <td>-0.246</td>\n",
       "      <td>0.801</td>\n",
       "      <td>2.43</td>\n",
       "      <td>1.099</td>\n",
       "      <td>0.724</td>\n",
       "      <td>0.340</td>\n",
       "      <td>0.539</td>\n",
       "      <td>0.027</td>\n",
       "      <td>0.088</td>\n",
       "      <td>0.648</td>\n",
       "    </tr>\n",
       "    <tr>\n",
       "      <th>146</th>\n",
       "      <td>Rwanda</td>\n",
       "      <td>Sub-Saharan Africa</td>\n",
       "      <td>3.415</td>\n",
       "      <td>0.068</td>\n",
       "      <td>3.548</td>\n",
       "      <td>3.282</td>\n",
       "      <td>7.676</td>\n",
       "      <td>0.552</td>\n",
       "      <td>61.400</td>\n",
       "      <td>0.897</td>\n",
       "      <td>0.061</td>\n",
       "      <td>0.167</td>\n",
       "      <td>2.43</td>\n",
       "      <td>0.364</td>\n",
       "      <td>0.202</td>\n",
       "      <td>0.407</td>\n",
       "      <td>0.627</td>\n",
       "      <td>0.227</td>\n",
       "      <td>0.493</td>\n",
       "      <td>1.095</td>\n",
       "    </tr>\n",
       "    <tr>\n",
       "      <th>147</th>\n",
       "      <td>Zimbabwe</td>\n",
       "      <td>Sub-Saharan Africa</td>\n",
       "      <td>3.145</td>\n",
       "      <td>0.058</td>\n",
       "      <td>3.259</td>\n",
       "      <td>3.030</td>\n",
       "      <td>7.943</td>\n",
       "      <td>0.750</td>\n",
       "      <td>56.201</td>\n",
       "      <td>0.677</td>\n",
       "      <td>-0.047</td>\n",
       "      <td>0.821</td>\n",
       "      <td>2.43</td>\n",
       "      <td>0.457</td>\n",
       "      <td>0.649</td>\n",
       "      <td>0.243</td>\n",
       "      <td>0.359</td>\n",
       "      <td>0.157</td>\n",
       "      <td>0.075</td>\n",
       "      <td>1.205</td>\n",
       "    </tr>\n",
       "    <tr>\n",
       "      <th>148</th>\n",
       "      <td>Afghanistan</td>\n",
       "      <td>South Asia</td>\n",
       "      <td>2.523</td>\n",
       "      <td>0.038</td>\n",
       "      <td>2.596</td>\n",
       "      <td>2.449</td>\n",
       "      <td>7.695</td>\n",
       "      <td>0.463</td>\n",
       "      <td>52.493</td>\n",
       "      <td>0.382</td>\n",
       "      <td>-0.102</td>\n",
       "      <td>0.924</td>\n",
       "      <td>2.43</td>\n",
       "      <td>0.370</td>\n",
       "      <td>0.000</td>\n",
       "      <td>0.126</td>\n",
       "      <td>0.000</td>\n",
       "      <td>0.122</td>\n",
       "      <td>0.010</td>\n",
       "      <td>1.895</td>\n",
       "    </tr>\n",
       "  </tbody>\n",
       "</table>\n",
       "<p>149 rows × 20 columns</p>\n",
       "</div>"
      ],
      "text/plain": [
       "    Country name  Regional indicator  Ladder score  \\\n",
       "0        Finland      Western Europe         7.842   \n",
       "1        Denmark      Western Europe         7.620   \n",
       "2    Switzerland      Western Europe         7.571   \n",
       "3        Iceland      Western Europe         7.554   \n",
       "4    Netherlands      Western Europe         7.464   \n",
       "..           ...                 ...           ...   \n",
       "144      Lesotho  Sub-Saharan Africa         3.512   \n",
       "145     Botswana  Sub-Saharan Africa         3.467   \n",
       "146       Rwanda  Sub-Saharan Africa         3.415   \n",
       "147     Zimbabwe  Sub-Saharan Africa         3.145   \n",
       "148  Afghanistan          South Asia         2.523   \n",
       "\n",
       "     Standard error of ladder score  upperwhisker  lowerwhisker  \\\n",
       "0                             0.032         7.904         7.780   \n",
       "1                             0.035         7.687         7.552   \n",
       "2                             0.036         7.643         7.500   \n",
       "3                             0.059         7.670         7.438   \n",
       "4                             0.027         7.518         7.410   \n",
       "..                              ...           ...           ...   \n",
       "144                           0.120         3.748         3.276   \n",
       "145                           0.074         3.611         3.322   \n",
       "146                           0.068         3.548         3.282   \n",
       "147                           0.058         3.259         3.030   \n",
       "148                           0.038         2.596         2.449   \n",
       "\n",
       "     Logged GDP per capita  Social support  Healthy life expectancy  \\\n",
       "0                   10.775           0.954                   72.000   \n",
       "1                   10.933           0.954                   72.700   \n",
       "2                   11.117           0.942                   74.400   \n",
       "3                   10.878           0.983                   73.000   \n",
       "4                   10.932           0.942                   72.400   \n",
       "..                     ...             ...                      ...   \n",
       "144                  7.926           0.787                   48.700   \n",
       "145                  9.782           0.784                   59.269   \n",
       "146                  7.676           0.552                   61.400   \n",
       "147                  7.943           0.750                   56.201   \n",
       "148                  7.695           0.463                   52.493   \n",
       "\n",
       "     Freedom to make life choices  Generosity  Perceptions of corruption  \\\n",
       "0                           0.949      -0.098                      0.186   \n",
       "1                           0.946       0.030                      0.179   \n",
       "2                           0.919       0.025                      0.292   \n",
       "3                           0.955       0.160                      0.673   \n",
       "4                           0.913       0.175                      0.338   \n",
       "..                            ...         ...                        ...   \n",
       "144                         0.715      -0.131                      0.915   \n",
       "145                         0.824      -0.246                      0.801   \n",
       "146                         0.897       0.061                      0.167   \n",
       "147                         0.677      -0.047                      0.821   \n",
       "148                         0.382      -0.102                      0.924   \n",
       "\n",
       "     Ladder score in Dystopia  Explained by: Log GDP per capita  \\\n",
       "0                        2.43                             1.446   \n",
       "1                        2.43                             1.502   \n",
       "2                        2.43                             1.566   \n",
       "3                        2.43                             1.482   \n",
       "4                        2.43                             1.501   \n",
       "..                        ...                               ...   \n",
       "144                      2.43                             0.451   \n",
       "145                      2.43                             1.099   \n",
       "146                      2.43                             0.364   \n",
       "147                      2.43                             0.457   \n",
       "148                      2.43                             0.370   \n",
       "\n",
       "     Explained by: Social support  Explained by: Healthy life expectancy  \\\n",
       "0                           1.106                                  0.741   \n",
       "1                           1.108                                  0.763   \n",
       "2                           1.079                                  0.816   \n",
       "3                           1.172                                  0.772   \n",
       "4                           1.079                                  0.753   \n",
       "..                            ...                                    ...   \n",
       "144                         0.731                                  0.007   \n",
       "145                         0.724                                  0.340   \n",
       "146                         0.202                                  0.407   \n",
       "147                         0.649                                  0.243   \n",
       "148                         0.000                                  0.126   \n",
       "\n",
       "     Explained by: Freedom to make life choices  Explained by: Generosity  \\\n",
       "0                                         0.691                     0.124   \n",
       "1                                         0.686                     0.208   \n",
       "2                                         0.653                     0.204   \n",
       "3                                         0.698                     0.293   \n",
       "4                                         0.647                     0.302   \n",
       "..                                          ...                       ...   \n",
       "144                                       0.405                     0.103   \n",
       "145                                       0.539                     0.027   \n",
       "146                                       0.627                     0.227   \n",
       "147                                       0.359                     0.157   \n",
       "148                                       0.000                     0.122   \n",
       "\n",
       "     Explained by: Perceptions of corruption  Dystopia + residual  \n",
       "0                                      0.481                3.253  \n",
       "1                                      0.485                2.868  \n",
       "2                                      0.413                2.839  \n",
       "3                                      0.170                2.967  \n",
       "4                                      0.384                2.798  \n",
       "..                                       ...                  ...  \n",
       "144                                    0.015                1.800  \n",
       "145                                    0.088                0.648  \n",
       "146                                    0.493                1.095  \n",
       "147                                    0.075                1.205  \n",
       "148                                    0.010                1.895  \n",
       "\n",
       "[149 rows x 20 columns]"
      ]
     },
     "execution_count": 31,
     "metadata": {},
     "output_type": "execute_result"
    }
   ],
   "source": [
    "data = pd.read_csv('world_happiness_report_2021.csv')\n",
    "data"
   ]
  },
  {
   "cell_type": "code",
   "execution_count": 32,
   "id": "3afae2d7",
   "metadata": {},
   "outputs": [
    {
     "data": {
      "text/plain": [
       "(149, 20)"
      ]
     },
     "execution_count": 32,
     "metadata": {},
     "output_type": "execute_result"
    }
   ],
   "source": [
    "data.shape"
   ]
  },
  {
   "cell_type": "code",
   "execution_count": 33,
   "id": "52ecce92",
   "metadata": {},
   "outputs": [
    {
     "name": "stdout",
     "output_type": "stream",
     "text": [
      "<class 'pandas.core.frame.DataFrame'>\n",
      "RangeIndex: 149 entries, 0 to 148\n",
      "Data columns (total 20 columns):\n",
      " #   Column                                      Non-Null Count  Dtype  \n",
      "---  ------                                      --------------  -----  \n",
      " 0   Country name                                149 non-null    object \n",
      " 1   Regional indicator                          149 non-null    object \n",
      " 2   Ladder score                                149 non-null    float64\n",
      " 3   Standard error of ladder score              149 non-null    float64\n",
      " 4   upperwhisker                                149 non-null    float64\n",
      " 5   lowerwhisker                                149 non-null    float64\n",
      " 6   Logged GDP per capita                       149 non-null    float64\n",
      " 7   Social support                              149 non-null    float64\n",
      " 8   Healthy life expectancy                     149 non-null    float64\n",
      " 9   Freedom to make life choices                149 non-null    float64\n",
      " 10  Generosity                                  149 non-null    float64\n",
      " 11  Perceptions of corruption                   149 non-null    float64\n",
      " 12  Ladder score in Dystopia                    149 non-null    float64\n",
      " 13  Explained by: Log GDP per capita            149 non-null    float64\n",
      " 14  Explained by: Social support                149 non-null    float64\n",
      " 15  Explained by: Healthy life expectancy       149 non-null    float64\n",
      " 16  Explained by: Freedom to make life choices  149 non-null    float64\n",
      " 17  Explained by: Generosity                    149 non-null    float64\n",
      " 18  Explained by: Perceptions of corruption     149 non-null    float64\n",
      " 19  Dystopia + residual                         149 non-null    float64\n",
      "dtypes: float64(18), object(2)\n",
      "memory usage: 23.4+ KB\n"
     ]
    }
   ],
   "source": [
    "data.info()"
   ]
  },
  {
   "cell_type": "code",
   "execution_count": 36,
   "id": "8c3b52cf",
   "metadata": {},
   "outputs": [
    {
     "data": {
      "text/plain": [
       "['Country name',\n",
       " 'Regional indicator',\n",
       " 'Ladder score',\n",
       " 'Standard error of ladder score',\n",
       " 'upperwhisker',\n",
       " 'lowerwhisker',\n",
       " 'Logged GDP per capita',\n",
       " 'Social support',\n",
       " 'Healthy life expectancy',\n",
       " 'Freedom to make life choices',\n",
       " 'Generosity',\n",
       " 'Perceptions of corruption',\n",
       " 'Ladder score in Dystopia',\n",
       " 'Explained by: Log GDP per capita',\n",
       " 'Explained by: Social support',\n",
       " 'Explained by: Healthy life expectancy',\n",
       " 'Explained by: Freedom to make life choices',\n",
       " 'Explained by: Generosity',\n",
       " 'Explained by: Perceptions of corruption',\n",
       " 'Dystopia + residual']"
      ]
     },
     "execution_count": 36,
     "metadata": {},
     "output_type": "execute_result"
    }
   ],
   "source": [
    "list(data.columns)"
   ]
  },
  {
   "cell_type": "code",
   "execution_count": 39,
   "id": "70338fb0",
   "metadata": {},
   "outputs": [
    {
     "data": {
      "text/plain": [
       "RangeIndex(start=0, stop=149, step=1)"
      ]
     },
     "execution_count": 39,
     "metadata": {},
     "output_type": "execute_result"
    }
   ],
   "source": [
    "data.index"
   ]
  },
  {
   "cell_type": "code",
   "execution_count": 40,
   "id": "3abb402e",
   "metadata": {},
   "outputs": [
    {
     "data": {
      "text/plain": [
       "pandas.core.frame.DataFrame"
      ]
     },
     "execution_count": 40,
     "metadata": {},
     "output_type": "execute_result"
    }
   ],
   "source": [
    "type(data)"
   ]
  },
  {
   "cell_type": "code",
   "execution_count": null,
   "id": "e5a2851d",
   "metadata": {},
   "outputs": [],
   "source": []
  },
  {
   "cell_type": "markdown",
   "id": "4e9d1b61",
   "metadata": {},
   "source": [
    "### DataFrame 만들기"
   ]
  },
  {
   "cell_type": "code",
   "execution_count": 41,
   "id": "ba18d360",
   "metadata": {},
   "outputs": [
    {
     "data": {
      "text/html": [
       "<div>\n",
       "<style scoped>\n",
       "    .dataframe tbody tr th:only-of-type {\n",
       "        vertical-align: middle;\n",
       "    }\n",
       "\n",
       "    .dataframe tbody tr th {\n",
       "        vertical-align: top;\n",
       "    }\n",
       "\n",
       "    .dataframe thead th {\n",
       "        text-align: right;\n",
       "    }\n",
       "</style>\n",
       "<table border=\"1\" class=\"dataframe\">\n",
       "  <thead>\n",
       "    <tr style=\"text-align: right;\">\n",
       "      <th></th>\n",
       "      <th>0</th>\n",
       "      <th>1</th>\n",
       "    </tr>\n",
       "  </thead>\n",
       "  <tbody>\n",
       "    <tr>\n",
       "      <th>0</th>\n",
       "      <td>1</td>\n",
       "      <td>2</td>\n",
       "    </tr>\n",
       "    <tr>\n",
       "      <th>1</th>\n",
       "      <td>3</td>\n",
       "      <td>4</td>\n",
       "    </tr>\n",
       "  </tbody>\n",
       "</table>\n",
       "</div>"
      ],
      "text/plain": [
       "   0  1\n",
       "0  1  2\n",
       "1  3  4"
      ]
     },
     "execution_count": 41,
     "metadata": {},
     "output_type": "execute_result"
    }
   ],
   "source": [
    "d = pd.DataFrame([[1,2],[3,4]])\n",
    "d"
   ]
  },
  {
   "cell_type": "code",
   "execution_count": 42,
   "id": "9106d43e",
   "metadata": {},
   "outputs": [
    {
     "data": {
      "text/html": [
       "<div>\n",
       "<style scoped>\n",
       "    .dataframe tbody tr th:only-of-type {\n",
       "        vertical-align: middle;\n",
       "    }\n",
       "\n",
       "    .dataframe tbody tr th {\n",
       "        vertical-align: top;\n",
       "    }\n",
       "\n",
       "    .dataframe thead th {\n",
       "        text-align: right;\n",
       "    }\n",
       "</style>\n",
       "<table border=\"1\" class=\"dataframe\">\n",
       "  <thead>\n",
       "    <tr style=\"text-align: right;\">\n",
       "      <th></th>\n",
       "      <th>국어</th>\n",
       "      <th>영어</th>\n",
       "    </tr>\n",
       "  </thead>\n",
       "  <tbody>\n",
       "    <tr>\n",
       "      <th>0</th>\n",
       "      <td>1</td>\n",
       "      <td>2</td>\n",
       "    </tr>\n",
       "    <tr>\n",
       "      <th>1</th>\n",
       "      <td>3</td>\n",
       "      <td>4</td>\n",
       "    </tr>\n",
       "  </tbody>\n",
       "</table>\n",
       "</div>"
      ],
      "text/plain": [
       "   국어  영어\n",
       "0   1   2\n",
       "1   3   4"
      ]
     },
     "execution_count": 42,
     "metadata": {},
     "output_type": "execute_result"
    }
   ],
   "source": [
    "d = pd.DataFrame([[1,2],[3,4]], columns=['국어','영어'])\n",
    "d"
   ]
  },
  {
   "cell_type": "code",
   "execution_count": 43,
   "id": "6efa006a",
   "metadata": {},
   "outputs": [
    {
     "data": {
      "text/html": [
       "<div>\n",
       "<style scoped>\n",
       "    .dataframe tbody tr th:only-of-type {\n",
       "        vertical-align: middle;\n",
       "    }\n",
       "\n",
       "    .dataframe tbody tr th {\n",
       "        vertical-align: top;\n",
       "    }\n",
       "\n",
       "    .dataframe thead th {\n",
       "        text-align: right;\n",
       "    }\n",
       "</style>\n",
       "<table border=\"1\" class=\"dataframe\">\n",
       "  <thead>\n",
       "    <tr style=\"text-align: right;\">\n",
       "      <th></th>\n",
       "      <th>국어</th>\n",
       "      <th>영어</th>\n",
       "    </tr>\n",
       "  </thead>\n",
       "  <tbody>\n",
       "    <tr>\n",
       "      <th>0</th>\n",
       "      <td>1</td>\n",
       "      <td>2</td>\n",
       "    </tr>\n",
       "    <tr>\n",
       "      <th>1</th>\n",
       "      <td>3</td>\n",
       "      <td>4</td>\n",
       "    </tr>\n",
       "  </tbody>\n",
       "</table>\n",
       "</div>"
      ],
      "text/plain": [
       "   국어  영어\n",
       "0   1   2\n",
       "1   3   4"
      ]
     },
     "execution_count": 43,
     "metadata": {},
     "output_type": "execute_result"
    }
   ],
   "source": [
    "d = pd.DataFrame([[1,2],[3,4]])\n",
    "d.columns=['국어','영어']\n",
    "d"
   ]
  },
  {
   "cell_type": "code",
   "execution_count": 44,
   "id": "dab86e93",
   "metadata": {},
   "outputs": [
    {
     "data": {
      "text/html": [
       "<div>\n",
       "<style scoped>\n",
       "    .dataframe tbody tr th:only-of-type {\n",
       "        vertical-align: middle;\n",
       "    }\n",
       "\n",
       "    .dataframe tbody tr th {\n",
       "        vertical-align: top;\n",
       "    }\n",
       "\n",
       "    .dataframe thead th {\n",
       "        text-align: right;\n",
       "    }\n",
       "</style>\n",
       "<table border=\"1\" class=\"dataframe\">\n",
       "  <thead>\n",
       "    <tr style=\"text-align: right;\">\n",
       "      <th></th>\n",
       "      <th>이름</th>\n",
       "      <th>성적</th>\n",
       "    </tr>\n",
       "  </thead>\n",
       "  <tbody>\n",
       "    <tr>\n",
       "      <th>0</th>\n",
       "      <td>홍길동</td>\n",
       "      <td>9</td>\n",
       "    </tr>\n",
       "    <tr>\n",
       "      <th>1</th>\n",
       "      <td>장길산</td>\n",
       "      <td>8</td>\n",
       "    </tr>\n",
       "  </tbody>\n",
       "</table>\n",
       "</div>"
      ],
      "text/plain": [
       "    이름  성적\n",
       "0  홍길동   9\n",
       "1  장길산   8"
      ]
     },
     "execution_count": 44,
     "metadata": {},
     "output_type": "execute_result"
    }
   ],
   "source": [
    "d = pd.DataFrame([['홍길동',9],['장길산',8]], columns=['이름','성적'])\n",
    "d"
   ]
  },
  {
   "cell_type": "code",
   "execution_count": 45,
   "id": "6f7ebd17",
   "metadata": {},
   "outputs": [
    {
     "name": "stdout",
     "output_type": "stream",
     "text": [
      "<class 'pandas.core.frame.DataFrame'>\n",
      "RangeIndex: 2 entries, 0 to 1\n",
      "Data columns (total 2 columns):\n",
      " #   Column  Non-Null Count  Dtype \n",
      "---  ------  --------------  ----- \n",
      " 0   이름      2 non-null      object\n",
      " 1   성적      2 non-null      int64 \n",
      "dtypes: int64(1), object(1)\n",
      "memory usage: 160.0+ bytes\n"
     ]
    }
   ],
   "source": [
    "d.info()"
   ]
  },
  {
   "cell_type": "code",
   "execution_count": 46,
   "id": "6dd166ee",
   "metadata": {},
   "outputs": [
    {
     "data": {
      "text/html": [
       "<div>\n",
       "<style scoped>\n",
       "    .dataframe tbody tr th:only-of-type {\n",
       "        vertical-align: middle;\n",
       "    }\n",
       "\n",
       "    .dataframe tbody tr th {\n",
       "        vertical-align: top;\n",
       "    }\n",
       "\n",
       "    .dataframe thead th {\n",
       "        text-align: right;\n",
       "    }\n",
       "</style>\n",
       "<table border=\"1\" class=\"dataframe\">\n",
       "  <thead>\n",
       "    <tr style=\"text-align: right;\">\n",
       "      <th></th>\n",
       "      <th>name</th>\n",
       "      <th>score</th>\n",
       "    </tr>\n",
       "  </thead>\n",
       "  <tbody>\n",
       "    <tr>\n",
       "      <th>0</th>\n",
       "      <td>홍길동</td>\n",
       "      <td>9</td>\n",
       "    </tr>\n",
       "    <tr>\n",
       "      <th>1</th>\n",
       "      <td>장길산</td>\n",
       "      <td>8</td>\n",
       "    </tr>\n",
       "  </tbody>\n",
       "</table>\n",
       "</div>"
      ],
      "text/plain": [
       "  name  score\n",
       "0  홍길동      9\n",
       "1  장길산      8"
      ]
     },
     "execution_count": 46,
     "metadata": {},
     "output_type": "execute_result"
    }
   ],
   "source": [
    "d.columns = ['name','score']\n",
    "d"
   ]
  },
  {
   "cell_type": "code",
   "execution_count": null,
   "id": "54b2fe1e",
   "metadata": {},
   "outputs": [],
   "source": []
  },
  {
   "cell_type": "markdown",
   "id": "d1dc559a",
   "metadata": {},
   "source": [
    "### 열속성 뽑아내기"
   ]
  },
  {
   "cell_type": "code",
   "execution_count": 47,
   "id": "55b84dd9",
   "metadata": {},
   "outputs": [
    {
     "data": {
      "text/html": [
       "<div>\n",
       "<style scoped>\n",
       "    .dataframe tbody tr th:only-of-type {\n",
       "        vertical-align: middle;\n",
       "    }\n",
       "\n",
       "    .dataframe tbody tr th {\n",
       "        vertical-align: top;\n",
       "    }\n",
       "\n",
       "    .dataframe thead th {\n",
       "        text-align: right;\n",
       "    }\n",
       "</style>\n",
       "<table border=\"1\" class=\"dataframe\">\n",
       "  <thead>\n",
       "    <tr style=\"text-align: right;\">\n",
       "      <th></th>\n",
       "      <th>Country name</th>\n",
       "      <th>Regional indicator</th>\n",
       "      <th>Ladder score</th>\n",
       "      <th>Standard error of ladder score</th>\n",
       "      <th>upperwhisker</th>\n",
       "      <th>lowerwhisker</th>\n",
       "      <th>Logged GDP per capita</th>\n",
       "      <th>Social support</th>\n",
       "      <th>Healthy life expectancy</th>\n",
       "      <th>Freedom to make life choices</th>\n",
       "      <th>Generosity</th>\n",
       "      <th>Perceptions of corruption</th>\n",
       "      <th>Ladder score in Dystopia</th>\n",
       "      <th>Explained by: Log GDP per capita</th>\n",
       "      <th>Explained by: Social support</th>\n",
       "      <th>Explained by: Healthy life expectancy</th>\n",
       "      <th>Explained by: Freedom to make life choices</th>\n",
       "      <th>Explained by: Generosity</th>\n",
       "      <th>Explained by: Perceptions of corruption</th>\n",
       "      <th>Dystopia + residual</th>\n",
       "    </tr>\n",
       "  </thead>\n",
       "  <tbody>\n",
       "    <tr>\n",
       "      <th>0</th>\n",
       "      <td>Finland</td>\n",
       "      <td>Western Europe</td>\n",
       "      <td>7.842</td>\n",
       "      <td>0.032</td>\n",
       "      <td>7.904</td>\n",
       "      <td>7.780</td>\n",
       "      <td>10.775</td>\n",
       "      <td>0.954</td>\n",
       "      <td>72.000</td>\n",
       "      <td>0.949</td>\n",
       "      <td>-0.098</td>\n",
       "      <td>0.186</td>\n",
       "      <td>2.43</td>\n",
       "      <td>1.446</td>\n",
       "      <td>1.106</td>\n",
       "      <td>0.741</td>\n",
       "      <td>0.691</td>\n",
       "      <td>0.124</td>\n",
       "      <td>0.481</td>\n",
       "      <td>3.253</td>\n",
       "    </tr>\n",
       "    <tr>\n",
       "      <th>1</th>\n",
       "      <td>Denmark</td>\n",
       "      <td>Western Europe</td>\n",
       "      <td>7.620</td>\n",
       "      <td>0.035</td>\n",
       "      <td>7.687</td>\n",
       "      <td>7.552</td>\n",
       "      <td>10.933</td>\n",
       "      <td>0.954</td>\n",
       "      <td>72.700</td>\n",
       "      <td>0.946</td>\n",
       "      <td>0.030</td>\n",
       "      <td>0.179</td>\n",
       "      <td>2.43</td>\n",
       "      <td>1.502</td>\n",
       "      <td>1.108</td>\n",
       "      <td>0.763</td>\n",
       "      <td>0.686</td>\n",
       "      <td>0.208</td>\n",
       "      <td>0.485</td>\n",
       "      <td>2.868</td>\n",
       "    </tr>\n",
       "    <tr>\n",
       "      <th>2</th>\n",
       "      <td>Switzerland</td>\n",
       "      <td>Western Europe</td>\n",
       "      <td>7.571</td>\n",
       "      <td>0.036</td>\n",
       "      <td>7.643</td>\n",
       "      <td>7.500</td>\n",
       "      <td>11.117</td>\n",
       "      <td>0.942</td>\n",
       "      <td>74.400</td>\n",
       "      <td>0.919</td>\n",
       "      <td>0.025</td>\n",
       "      <td>0.292</td>\n",
       "      <td>2.43</td>\n",
       "      <td>1.566</td>\n",
       "      <td>1.079</td>\n",
       "      <td>0.816</td>\n",
       "      <td>0.653</td>\n",
       "      <td>0.204</td>\n",
       "      <td>0.413</td>\n",
       "      <td>2.839</td>\n",
       "    </tr>\n",
       "    <tr>\n",
       "      <th>3</th>\n",
       "      <td>Iceland</td>\n",
       "      <td>Western Europe</td>\n",
       "      <td>7.554</td>\n",
       "      <td>0.059</td>\n",
       "      <td>7.670</td>\n",
       "      <td>7.438</td>\n",
       "      <td>10.878</td>\n",
       "      <td>0.983</td>\n",
       "      <td>73.000</td>\n",
       "      <td>0.955</td>\n",
       "      <td>0.160</td>\n",
       "      <td>0.673</td>\n",
       "      <td>2.43</td>\n",
       "      <td>1.482</td>\n",
       "      <td>1.172</td>\n",
       "      <td>0.772</td>\n",
       "      <td>0.698</td>\n",
       "      <td>0.293</td>\n",
       "      <td>0.170</td>\n",
       "      <td>2.967</td>\n",
       "    </tr>\n",
       "    <tr>\n",
       "      <th>4</th>\n",
       "      <td>Netherlands</td>\n",
       "      <td>Western Europe</td>\n",
       "      <td>7.464</td>\n",
       "      <td>0.027</td>\n",
       "      <td>7.518</td>\n",
       "      <td>7.410</td>\n",
       "      <td>10.932</td>\n",
       "      <td>0.942</td>\n",
       "      <td>72.400</td>\n",
       "      <td>0.913</td>\n",
       "      <td>0.175</td>\n",
       "      <td>0.338</td>\n",
       "      <td>2.43</td>\n",
       "      <td>1.501</td>\n",
       "      <td>1.079</td>\n",
       "      <td>0.753</td>\n",
       "      <td>0.647</td>\n",
       "      <td>0.302</td>\n",
       "      <td>0.384</td>\n",
       "      <td>2.798</td>\n",
       "    </tr>\n",
       "    <tr>\n",
       "      <th>...</th>\n",
       "      <td>...</td>\n",
       "      <td>...</td>\n",
       "      <td>...</td>\n",
       "      <td>...</td>\n",
       "      <td>...</td>\n",
       "      <td>...</td>\n",
       "      <td>...</td>\n",
       "      <td>...</td>\n",
       "      <td>...</td>\n",
       "      <td>...</td>\n",
       "      <td>...</td>\n",
       "      <td>...</td>\n",
       "      <td>...</td>\n",
       "      <td>...</td>\n",
       "      <td>...</td>\n",
       "      <td>...</td>\n",
       "      <td>...</td>\n",
       "      <td>...</td>\n",
       "      <td>...</td>\n",
       "      <td>...</td>\n",
       "    </tr>\n",
       "    <tr>\n",
       "      <th>144</th>\n",
       "      <td>Lesotho</td>\n",
       "      <td>Sub-Saharan Africa</td>\n",
       "      <td>3.512</td>\n",
       "      <td>0.120</td>\n",
       "      <td>3.748</td>\n",
       "      <td>3.276</td>\n",
       "      <td>7.926</td>\n",
       "      <td>0.787</td>\n",
       "      <td>48.700</td>\n",
       "      <td>0.715</td>\n",
       "      <td>-0.131</td>\n",
       "      <td>0.915</td>\n",
       "      <td>2.43</td>\n",
       "      <td>0.451</td>\n",
       "      <td>0.731</td>\n",
       "      <td>0.007</td>\n",
       "      <td>0.405</td>\n",
       "      <td>0.103</td>\n",
       "      <td>0.015</td>\n",
       "      <td>1.800</td>\n",
       "    </tr>\n",
       "    <tr>\n",
       "      <th>145</th>\n",
       "      <td>Botswana</td>\n",
       "      <td>Sub-Saharan Africa</td>\n",
       "      <td>3.467</td>\n",
       "      <td>0.074</td>\n",
       "      <td>3.611</td>\n",
       "      <td>3.322</td>\n",
       "      <td>9.782</td>\n",
       "      <td>0.784</td>\n",
       "      <td>59.269</td>\n",
       "      <td>0.824</td>\n",
       "      <td>-0.246</td>\n",
       "      <td>0.801</td>\n",
       "      <td>2.43</td>\n",
       "      <td>1.099</td>\n",
       "      <td>0.724</td>\n",
       "      <td>0.340</td>\n",
       "      <td>0.539</td>\n",
       "      <td>0.027</td>\n",
       "      <td>0.088</td>\n",
       "      <td>0.648</td>\n",
       "    </tr>\n",
       "    <tr>\n",
       "      <th>146</th>\n",
       "      <td>Rwanda</td>\n",
       "      <td>Sub-Saharan Africa</td>\n",
       "      <td>3.415</td>\n",
       "      <td>0.068</td>\n",
       "      <td>3.548</td>\n",
       "      <td>3.282</td>\n",
       "      <td>7.676</td>\n",
       "      <td>0.552</td>\n",
       "      <td>61.400</td>\n",
       "      <td>0.897</td>\n",
       "      <td>0.061</td>\n",
       "      <td>0.167</td>\n",
       "      <td>2.43</td>\n",
       "      <td>0.364</td>\n",
       "      <td>0.202</td>\n",
       "      <td>0.407</td>\n",
       "      <td>0.627</td>\n",
       "      <td>0.227</td>\n",
       "      <td>0.493</td>\n",
       "      <td>1.095</td>\n",
       "    </tr>\n",
       "    <tr>\n",
       "      <th>147</th>\n",
       "      <td>Zimbabwe</td>\n",
       "      <td>Sub-Saharan Africa</td>\n",
       "      <td>3.145</td>\n",
       "      <td>0.058</td>\n",
       "      <td>3.259</td>\n",
       "      <td>3.030</td>\n",
       "      <td>7.943</td>\n",
       "      <td>0.750</td>\n",
       "      <td>56.201</td>\n",
       "      <td>0.677</td>\n",
       "      <td>-0.047</td>\n",
       "      <td>0.821</td>\n",
       "      <td>2.43</td>\n",
       "      <td>0.457</td>\n",
       "      <td>0.649</td>\n",
       "      <td>0.243</td>\n",
       "      <td>0.359</td>\n",
       "      <td>0.157</td>\n",
       "      <td>0.075</td>\n",
       "      <td>1.205</td>\n",
       "    </tr>\n",
       "    <tr>\n",
       "      <th>148</th>\n",
       "      <td>Afghanistan</td>\n",
       "      <td>South Asia</td>\n",
       "      <td>2.523</td>\n",
       "      <td>0.038</td>\n",
       "      <td>2.596</td>\n",
       "      <td>2.449</td>\n",
       "      <td>7.695</td>\n",
       "      <td>0.463</td>\n",
       "      <td>52.493</td>\n",
       "      <td>0.382</td>\n",
       "      <td>-0.102</td>\n",
       "      <td>0.924</td>\n",
       "      <td>2.43</td>\n",
       "      <td>0.370</td>\n",
       "      <td>0.000</td>\n",
       "      <td>0.126</td>\n",
       "      <td>0.000</td>\n",
       "      <td>0.122</td>\n",
       "      <td>0.010</td>\n",
       "      <td>1.895</td>\n",
       "    </tr>\n",
       "  </tbody>\n",
       "</table>\n",
       "<p>149 rows × 20 columns</p>\n",
       "</div>"
      ],
      "text/plain": [
       "    Country name  Regional indicator  Ladder score  \\\n",
       "0        Finland      Western Europe         7.842   \n",
       "1        Denmark      Western Europe         7.620   \n",
       "2    Switzerland      Western Europe         7.571   \n",
       "3        Iceland      Western Europe         7.554   \n",
       "4    Netherlands      Western Europe         7.464   \n",
       "..           ...                 ...           ...   \n",
       "144      Lesotho  Sub-Saharan Africa         3.512   \n",
       "145     Botswana  Sub-Saharan Africa         3.467   \n",
       "146       Rwanda  Sub-Saharan Africa         3.415   \n",
       "147     Zimbabwe  Sub-Saharan Africa         3.145   \n",
       "148  Afghanistan          South Asia         2.523   \n",
       "\n",
       "     Standard error of ladder score  upperwhisker  lowerwhisker  \\\n",
       "0                             0.032         7.904         7.780   \n",
       "1                             0.035         7.687         7.552   \n",
       "2                             0.036         7.643         7.500   \n",
       "3                             0.059         7.670         7.438   \n",
       "4                             0.027         7.518         7.410   \n",
       "..                              ...           ...           ...   \n",
       "144                           0.120         3.748         3.276   \n",
       "145                           0.074         3.611         3.322   \n",
       "146                           0.068         3.548         3.282   \n",
       "147                           0.058         3.259         3.030   \n",
       "148                           0.038         2.596         2.449   \n",
       "\n",
       "     Logged GDP per capita  Social support  Healthy life expectancy  \\\n",
       "0                   10.775           0.954                   72.000   \n",
       "1                   10.933           0.954                   72.700   \n",
       "2                   11.117           0.942                   74.400   \n",
       "3                   10.878           0.983                   73.000   \n",
       "4                   10.932           0.942                   72.400   \n",
       "..                     ...             ...                      ...   \n",
       "144                  7.926           0.787                   48.700   \n",
       "145                  9.782           0.784                   59.269   \n",
       "146                  7.676           0.552                   61.400   \n",
       "147                  7.943           0.750                   56.201   \n",
       "148                  7.695           0.463                   52.493   \n",
       "\n",
       "     Freedom to make life choices  Generosity  Perceptions of corruption  \\\n",
       "0                           0.949      -0.098                      0.186   \n",
       "1                           0.946       0.030                      0.179   \n",
       "2                           0.919       0.025                      0.292   \n",
       "3                           0.955       0.160                      0.673   \n",
       "4                           0.913       0.175                      0.338   \n",
       "..                            ...         ...                        ...   \n",
       "144                         0.715      -0.131                      0.915   \n",
       "145                         0.824      -0.246                      0.801   \n",
       "146                         0.897       0.061                      0.167   \n",
       "147                         0.677      -0.047                      0.821   \n",
       "148                         0.382      -0.102                      0.924   \n",
       "\n",
       "     Ladder score in Dystopia  Explained by: Log GDP per capita  \\\n",
       "0                        2.43                             1.446   \n",
       "1                        2.43                             1.502   \n",
       "2                        2.43                             1.566   \n",
       "3                        2.43                             1.482   \n",
       "4                        2.43                             1.501   \n",
       "..                        ...                               ...   \n",
       "144                      2.43                             0.451   \n",
       "145                      2.43                             1.099   \n",
       "146                      2.43                             0.364   \n",
       "147                      2.43                             0.457   \n",
       "148                      2.43                             0.370   \n",
       "\n",
       "     Explained by: Social support  Explained by: Healthy life expectancy  \\\n",
       "0                           1.106                                  0.741   \n",
       "1                           1.108                                  0.763   \n",
       "2                           1.079                                  0.816   \n",
       "3                           1.172                                  0.772   \n",
       "4                           1.079                                  0.753   \n",
       "..                            ...                                    ...   \n",
       "144                         0.731                                  0.007   \n",
       "145                         0.724                                  0.340   \n",
       "146                         0.202                                  0.407   \n",
       "147                         0.649                                  0.243   \n",
       "148                         0.000                                  0.126   \n",
       "\n",
       "     Explained by: Freedom to make life choices  Explained by: Generosity  \\\n",
       "0                                         0.691                     0.124   \n",
       "1                                         0.686                     0.208   \n",
       "2                                         0.653                     0.204   \n",
       "3                                         0.698                     0.293   \n",
       "4                                         0.647                     0.302   \n",
       "..                                          ...                       ...   \n",
       "144                                       0.405                     0.103   \n",
       "145                                       0.539                     0.027   \n",
       "146                                       0.627                     0.227   \n",
       "147                                       0.359                     0.157   \n",
       "148                                       0.000                     0.122   \n",
       "\n",
       "     Explained by: Perceptions of corruption  Dystopia + residual  \n",
       "0                                      0.481                3.253  \n",
       "1                                      0.485                2.868  \n",
       "2                                      0.413                2.839  \n",
       "3                                      0.170                2.967  \n",
       "4                                      0.384                2.798  \n",
       "..                                       ...                  ...  \n",
       "144                                    0.015                1.800  \n",
       "145                                    0.088                0.648  \n",
       "146                                    0.493                1.095  \n",
       "147                                    0.075                1.205  \n",
       "148                                    0.010                1.895  \n",
       "\n",
       "[149 rows x 20 columns]"
      ]
     },
     "execution_count": 47,
     "metadata": {},
     "output_type": "execute_result"
    }
   ],
   "source": [
    "data"
   ]
  },
  {
   "cell_type": "code",
   "execution_count": 48,
   "id": "d534db0e",
   "metadata": {},
   "outputs": [
    {
     "data": {
      "text/plain": [
       "0      7.842\n",
       "1      7.620\n",
       "2      7.571\n",
       "3      7.554\n",
       "4      7.464\n",
       "       ...  \n",
       "144    3.512\n",
       "145    3.467\n",
       "146    3.415\n",
       "147    3.145\n",
       "148    2.523\n",
       "Name: Ladder score, Length: 149, dtype: float64"
      ]
     },
     "execution_count": 48,
     "metadata": {},
     "output_type": "execute_result"
    }
   ],
   "source": [
    "data['Ladder score']"
   ]
  },
  {
   "cell_type": "code",
   "execution_count": 52,
   "id": "ccde4ef3",
   "metadata": {},
   "outputs": [
    {
     "data": {
      "text/html": [
       "<div>\n",
       "<style scoped>\n",
       "    .dataframe tbody tr th:only-of-type {\n",
       "        vertical-align: middle;\n",
       "    }\n",
       "\n",
       "    .dataframe tbody tr th {\n",
       "        vertical-align: top;\n",
       "    }\n",
       "\n",
       "    .dataframe thead th {\n",
       "        text-align: right;\n",
       "    }\n",
       "</style>\n",
       "<table border=\"1\" class=\"dataframe\">\n",
       "  <thead>\n",
       "    <tr style=\"text-align: right;\">\n",
       "      <th></th>\n",
       "      <th>Ladder score</th>\n",
       "      <th>Logged GDP per capita</th>\n",
       "    </tr>\n",
       "  </thead>\n",
       "  <tbody>\n",
       "    <tr>\n",
       "      <th>0</th>\n",
       "      <td>7.842</td>\n",
       "      <td>10.775</td>\n",
       "    </tr>\n",
       "    <tr>\n",
       "      <th>1</th>\n",
       "      <td>7.620</td>\n",
       "      <td>10.933</td>\n",
       "    </tr>\n",
       "    <tr>\n",
       "      <th>2</th>\n",
       "      <td>7.571</td>\n",
       "      <td>11.117</td>\n",
       "    </tr>\n",
       "    <tr>\n",
       "      <th>3</th>\n",
       "      <td>7.554</td>\n",
       "      <td>10.878</td>\n",
       "    </tr>\n",
       "    <tr>\n",
       "      <th>4</th>\n",
       "      <td>7.464</td>\n",
       "      <td>10.932</td>\n",
       "    </tr>\n",
       "    <tr>\n",
       "      <th>...</th>\n",
       "      <td>...</td>\n",
       "      <td>...</td>\n",
       "    </tr>\n",
       "    <tr>\n",
       "      <th>144</th>\n",
       "      <td>3.512</td>\n",
       "      <td>7.926</td>\n",
       "    </tr>\n",
       "    <tr>\n",
       "      <th>145</th>\n",
       "      <td>3.467</td>\n",
       "      <td>9.782</td>\n",
       "    </tr>\n",
       "    <tr>\n",
       "      <th>146</th>\n",
       "      <td>3.415</td>\n",
       "      <td>7.676</td>\n",
       "    </tr>\n",
       "    <tr>\n",
       "      <th>147</th>\n",
       "      <td>3.145</td>\n",
       "      <td>7.943</td>\n",
       "    </tr>\n",
       "    <tr>\n",
       "      <th>148</th>\n",
       "      <td>2.523</td>\n",
       "      <td>7.695</td>\n",
       "    </tr>\n",
       "  </tbody>\n",
       "</table>\n",
       "<p>149 rows × 2 columns</p>\n",
       "</div>"
      ],
      "text/plain": [
       "     Ladder score  Logged GDP per capita\n",
       "0           7.842                 10.775\n",
       "1           7.620                 10.933\n",
       "2           7.571                 11.117\n",
       "3           7.554                 10.878\n",
       "4           7.464                 10.932\n",
       "..            ...                    ...\n",
       "144         3.512                  7.926\n",
       "145         3.467                  9.782\n",
       "146         3.415                  7.676\n",
       "147         3.145                  7.943\n",
       "148         2.523                  7.695\n",
       "\n",
       "[149 rows x 2 columns]"
      ]
     },
     "execution_count": 52,
     "metadata": {},
     "output_type": "execute_result"
    }
   ],
   "source": [
    "data[['Ladder score', 'Logged GDP per capita']]"
   ]
  },
  {
   "cell_type": "code",
   "execution_count": 54,
   "id": "f59111ba",
   "metadata": {},
   "outputs": [
    {
     "data": {
      "text/plain": [
       "array([[ 7.842, 10.775],\n",
       "       [ 7.62 , 10.933],\n",
       "       [ 7.571, 11.117],\n",
       "       [ 7.554, 10.878],\n",
       "       [ 7.464, 10.932],\n",
       "       [ 7.392, 11.053],\n",
       "       [ 7.363, 10.867],\n",
       "       [ 7.324, 11.647],\n",
       "       [ 7.277, 10.643],\n",
       "       [ 7.268, 10.906],\n",
       "       [ 7.183, 10.796],\n",
       "       [ 7.157, 10.575],\n",
       "       [ 7.155, 10.873],\n",
       "       [ 7.103, 10.776],\n",
       "       [ 7.085, 11.342],\n",
       "       [ 7.069,  9.88 ],\n",
       "       [ 7.064, 10.707],\n",
       "       [ 6.965, 10.556],\n",
       "       [ 6.951, 11.023],\n",
       "       [ 6.834, 10.823],\n",
       "       [ 6.69 , 10.704],\n",
       "       [ 6.647, 10.669],\n",
       "       [ 6.602, 10.674],\n",
       "       [ 6.584, 10.871],\n",
       "       [ 6.561, 11.085],\n",
       "       [ 6.494, 10.743],\n",
       "       [ 6.491, 10.571],\n",
       "       [ 6.483, 10.623],\n",
       "       [ 6.461, 10.529],\n",
       "       [ 6.435,  9.053],\n",
       "       [ 6.431,  9.966],\n",
       "       [ 6.377, 11.488],\n",
       "       [ 6.372,  9.318],\n",
       "       [ 6.331, 10.369],\n",
       "       [ 6.33 ,  9.577],\n",
       "       [ 6.317,  9.859],\n",
       "       [ 6.309,  9.186],\n",
       "       [ 6.255, 10.499],\n",
       "       [ 6.223, 10.576],\n",
       "       [ 6.189, 10.481],\n",
       "       [ 6.18 , 10.35 ],\n",
       "       [ 6.179,  8.836],\n",
       "       [ 6.172, 10.071],\n",
       "       [ 6.166, 10.382],\n",
       "       [ 6.152, 10.155],\n",
       "       [ 6.14 , 10.284],\n",
       "       [ 6.106, 10.817],\n",
       "       [ 6.078,  9.787],\n",
       "       [ 6.061,  9.054],\n",
       "       [ 6.049, 10.008],\n",
       "       [ 6.032, 10.315],\n",
       "       [ 6.012,  9.557],\n",
       "       [ 5.992, 10.358],\n",
       "       [ 5.985,  9.805],\n",
       "       [ 5.972,  8.62 ],\n",
       "       [ 5.94 , 10.611],\n",
       "       [ 5.929,  9.962],\n",
       "       [ 5.929, 10.421],\n",
       "       [ 5.919,  8.648],\n",
       "       [ 5.882, 10.217],\n",
       "       [ 5.88 ,  9.076],\n",
       "       [ 5.845, 10.651],\n",
       "       [ 5.84 ,  9.458],\n",
       "       [ 5.813,  9.59 ],\n",
       "       [ 5.766,  9.454],\n",
       "       [ 5.764,  9.313],\n",
       "       [ 5.744,  8.538],\n",
       "       [ 5.723, 10.279],\n",
       "       [ 5.716,  9.046],\n",
       "       [ 5.677,  9.4  ],\n",
       "       [ 5.653,  9.448],\n",
       "       [ 5.581,  9.94 ],\n",
       "       [ 5.545,  9.802],\n",
       "       [ 5.536, 10.576],\n",
       "       [ 5.534,  9.853],\n",
       "       [ 5.477, 10.189],\n",
       "       [ 5.477, 11.   ],\n",
       "       [ 5.466,  8.091],\n",
       "       [ 5.411,  8.973],\n",
       "       [ 5.41 ,  9.622],\n",
       "       [ 5.384, 10.238],\n",
       "       [ 5.345,  9.365],\n",
       "       [ 5.342,  8.117],\n",
       "       [ 5.339,  9.673],\n",
       "       [ 5.306,  8.551],\n",
       "       [ 5.283,  9.487],\n",
       "       [ 5.269,  8.12 ],\n",
       "       [ 5.266, 10.016],\n",
       "       [ 5.198,  9.826],\n",
       "       [ 5.171,  9.569],\n",
       "       [ 5.142,  8.189],\n",
       "       [ 5.132,  8.118],\n",
       "       [ 5.117,  9.52 ],\n",
       "       [ 5.101,  9.693],\n",
       "       [ 5.088,  8.58 ],\n",
       "       [ 5.074,  7.098],\n",
       "       [ 5.066,  9.629],\n",
       "       [ 5.051,  7.686],\n",
       "       [ 5.045,  8.087],\n",
       "       [ 5.03 ,  8.947],\n",
       "       [ 5.025,  8.454],\n",
       "       [ 4.984,  7.838],\n",
       "       [ 4.956,  9.403],\n",
       "       [ 4.948, 10.24 ],\n",
       "       [ 4.934,  8.458],\n",
       "       [ 4.918,  8.903],\n",
       "       [ 4.892,  9.073],\n",
       "       [ 4.891,  9.585],\n",
       "       [ 4.887,  9.342],\n",
       "       [ 4.875,  9.436],\n",
       "       [ 4.854,  9.24 ],\n",
       "       [ 4.852,  9.603],\n",
       "       [ 4.834,  7.678],\n",
       "       [ 4.83 ,  8.36 ],\n",
       "       [ 4.794,  7.158],\n",
       "       [ 4.759,  8.533],\n",
       "       [ 4.723,  7.744],\n",
       "       [ 4.721,  9.584],\n",
       "       [ 4.636,  7.677],\n",
       "       [ 4.625,  7.288],\n",
       "       [ 4.607,  8.361],\n",
       "       [ 4.596,  9.266],\n",
       "       [ 4.584,  9.626],\n",
       "       [ 4.574,  9.161],\n",
       "       [ 4.517,  8.485],\n",
       "       [ 4.426,  8.541],\n",
       "       [ 4.395,  9.182],\n",
       "       [ 4.355,  7.364],\n",
       "       [ 4.325,  9.47 ],\n",
       "       [ 4.308,  9.065],\n",
       "       [ 4.289,  8.031],\n",
       "       [ 4.283,  9.367],\n",
       "       [ 4.275,  7.694],\n",
       "       [ 4.227,  8.542],\n",
       "       [ 4.208,  7.396],\n",
       "       [ 4.107,  7.362],\n",
       "       [ 4.073,  8.145],\n",
       "       [ 3.849,  7.434],\n",
       "       [ 3.819,  8.755],\n",
       "       [ 3.775,  6.635],\n",
       "       [ 3.658,  7.578],\n",
       "       [ 3.623,  7.876],\n",
       "       [ 3.615,  7.477],\n",
       "       [ 3.6  ,  6.958],\n",
       "       [ 3.512,  7.926],\n",
       "       [ 3.467,  9.782],\n",
       "       [ 3.415,  7.676],\n",
       "       [ 3.145,  7.943],\n",
       "       [ 2.523,  7.695]])"
      ]
     },
     "execution_count": 54,
     "metadata": {},
     "output_type": "execute_result"
    }
   ],
   "source": [
    "a = data[['Ladder score', 'Logged GDP per capita']].values # numpy 어레이로 변환한다\n",
    "a"
   ]
  },
  {
   "cell_type": "code",
   "execution_count": 55,
   "id": "1381e28e",
   "metadata": {},
   "outputs": [
    {
     "data": {
      "text/plain": [
       "array([5.53283893, 9.43220805])"
      ]
     },
     "execution_count": 55,
     "metadata": {},
     "output_type": "execute_result"
    }
   ],
   "source": [
    "a.mean(axis=0)"
   ]
  },
  {
   "cell_type": "code",
   "execution_count": null,
   "id": "3e2a8cea",
   "metadata": {},
   "outputs": [],
   "source": []
  },
  {
   "cell_type": "code",
   "execution_count": 58,
   "id": "1a525e58",
   "metadata": {},
   "outputs": [
    {
     "data": {
      "text/html": [
       "<div>\n",
       "<style scoped>\n",
       "    .dataframe tbody tr th:only-of-type {\n",
       "        vertical-align: middle;\n",
       "    }\n",
       "\n",
       "    .dataframe tbody tr th {\n",
       "        vertical-align: top;\n",
       "    }\n",
       "\n",
       "    .dataframe thead th {\n",
       "        text-align: right;\n",
       "    }\n",
       "</style>\n",
       "<table border=\"1\" class=\"dataframe\">\n",
       "  <thead>\n",
       "    <tr style=\"text-align: right;\">\n",
       "      <th></th>\n",
       "      <th>이름</th>\n",
       "      <th>국어</th>\n",
       "      <th>영어</th>\n",
       "    </tr>\n",
       "  </thead>\n",
       "  <tbody>\n",
       "    <tr>\n",
       "      <th>0</th>\n",
       "      <td>홍길동</td>\n",
       "      <td>9</td>\n",
       "      <td>8</td>\n",
       "    </tr>\n",
       "    <tr>\n",
       "      <th>1</th>\n",
       "      <td>장길산</td>\n",
       "      <td>8</td>\n",
       "      <td>10</td>\n",
       "    </tr>\n",
       "  </tbody>\n",
       "</table>\n",
       "</div>"
      ],
      "text/plain": [
       "    이름  국어  영어\n",
       "0  홍길동   9   8\n",
       "1  장길산   8  10"
      ]
     },
     "execution_count": 58,
     "metadata": {},
     "output_type": "execute_result"
    }
   ],
   "source": [
    "d = pd.DataFrame([['홍길동',9,8], ['장길산',8,10]], columns=['이름','국어','영어'])\n",
    "d"
   ]
  },
  {
   "cell_type": "code",
   "execution_count": 61,
   "id": "2845b78e",
   "metadata": {},
   "outputs": [],
   "source": [
    "d['수학'] = [7,8]"
   ]
  },
  {
   "cell_type": "code",
   "execution_count": 62,
   "id": "5f1ed681",
   "metadata": {},
   "outputs": [
    {
     "data": {
      "text/html": [
       "<div>\n",
       "<style scoped>\n",
       "    .dataframe tbody tr th:only-of-type {\n",
       "        vertical-align: middle;\n",
       "    }\n",
       "\n",
       "    .dataframe tbody tr th {\n",
       "        vertical-align: top;\n",
       "    }\n",
       "\n",
       "    .dataframe thead th {\n",
       "        text-align: right;\n",
       "    }\n",
       "</style>\n",
       "<table border=\"1\" class=\"dataframe\">\n",
       "  <thead>\n",
       "    <tr style=\"text-align: right;\">\n",
       "      <th></th>\n",
       "      <th>이름</th>\n",
       "      <th>국어</th>\n",
       "      <th>영어</th>\n",
       "      <th>수학</th>\n",
       "    </tr>\n",
       "  </thead>\n",
       "  <tbody>\n",
       "    <tr>\n",
       "      <th>0</th>\n",
       "      <td>홍길동</td>\n",
       "      <td>9</td>\n",
       "      <td>8</td>\n",
       "      <td>7</td>\n",
       "    </tr>\n",
       "    <tr>\n",
       "      <th>1</th>\n",
       "      <td>장길산</td>\n",
       "      <td>8</td>\n",
       "      <td>10</td>\n",
       "      <td>8</td>\n",
       "    </tr>\n",
       "  </tbody>\n",
       "</table>\n",
       "</div>"
      ],
      "text/plain": [
       "    이름  국어  영어  수학\n",
       "0  홍길동   9   8   7\n",
       "1  장길산   8  10   8"
      ]
     },
     "execution_count": 62,
     "metadata": {},
     "output_type": "execute_result"
    }
   ],
   "source": [
    "d"
   ]
  },
  {
   "cell_type": "code",
   "execution_count": 64,
   "id": "cb3fdfbb",
   "metadata": {},
   "outputs": [
    {
     "data": {
      "text/html": [
       "<div>\n",
       "<style scoped>\n",
       "    .dataframe tbody tr th:only-of-type {\n",
       "        vertical-align: middle;\n",
       "    }\n",
       "\n",
       "    .dataframe tbody tr th {\n",
       "        vertical-align: top;\n",
       "    }\n",
       "\n",
       "    .dataframe thead th {\n",
       "        text-align: right;\n",
       "    }\n",
       "</style>\n",
       "<table border=\"1\" class=\"dataframe\">\n",
       "  <thead>\n",
       "    <tr style=\"text-align: right;\">\n",
       "      <th></th>\n",
       "      <th>이름</th>\n",
       "      <th>국어</th>\n",
       "      <th>영어</th>\n",
       "      <th>수학</th>\n",
       "      <th>기타</th>\n",
       "    </tr>\n",
       "  </thead>\n",
       "  <tbody>\n",
       "    <tr>\n",
       "      <th>0</th>\n",
       "      <td>홍길동</td>\n",
       "      <td>9</td>\n",
       "      <td>8</td>\n",
       "      <td>7</td>\n",
       "      <td>8.000000</td>\n",
       "    </tr>\n",
       "    <tr>\n",
       "      <th>1</th>\n",
       "      <td>장길산</td>\n",
       "      <td>8</td>\n",
       "      <td>10</td>\n",
       "      <td>8</td>\n",
       "      <td>8.666667</td>\n",
       "    </tr>\n",
       "  </tbody>\n",
       "</table>\n",
       "</div>"
      ],
      "text/plain": [
       "    이름  국어  영어  수학        기타\n",
       "0  홍길동   9   8   7  8.000000\n",
       "1  장길산   8  10   8  8.666667"
      ]
     },
     "execution_count": 64,
     "metadata": {},
     "output_type": "execute_result"
    }
   ],
   "source": [
    "d['기타'] = (d['국어'] + d['영어'] + d['수학'])/3\n",
    "d"
   ]
  },
  {
   "cell_type": "code",
   "execution_count": null,
   "id": "fa723391",
   "metadata": {},
   "outputs": [],
   "source": []
  },
  {
   "cell_type": "code",
   "execution_count": 65,
   "id": "4a132431",
   "metadata": {},
   "outputs": [
    {
     "data": {
      "text/html": [
       "<div>\n",
       "<style scoped>\n",
       "    .dataframe tbody tr th:only-of-type {\n",
       "        vertical-align: middle;\n",
       "    }\n",
       "\n",
       "    .dataframe tbody tr th {\n",
       "        vertical-align: top;\n",
       "    }\n",
       "\n",
       "    .dataframe thead th {\n",
       "        text-align: right;\n",
       "    }\n",
       "</style>\n",
       "<table border=\"1\" class=\"dataframe\">\n",
       "  <thead>\n",
       "    <tr style=\"text-align: right;\">\n",
       "      <th></th>\n",
       "      <th>이름</th>\n",
       "      <th>국어</th>\n",
       "      <th>영어</th>\n",
       "    </tr>\n",
       "  </thead>\n",
       "  <tbody>\n",
       "    <tr>\n",
       "      <th>0</th>\n",
       "      <td>홍길동</td>\n",
       "      <td>9</td>\n",
       "      <td>8</td>\n",
       "    </tr>\n",
       "    <tr>\n",
       "      <th>1</th>\n",
       "      <td>장길산</td>\n",
       "      <td>8</td>\n",
       "      <td>10</td>\n",
       "    </tr>\n",
       "    <tr>\n",
       "      <th>2</th>\n",
       "      <td>사임당</td>\n",
       "      <td>9</td>\n",
       "      <td>7</td>\n",
       "    </tr>\n",
       "  </tbody>\n",
       "</table>\n",
       "</div>"
      ],
      "text/plain": [
       "    이름  국어  영어\n",
       "0  홍길동   9   8\n",
       "1  장길산   8  10\n",
       "2  사임당   9   7"
      ]
     },
     "execution_count": 65,
     "metadata": {},
     "output_type": "execute_result"
    }
   ],
   "source": [
    "d = pd.DataFrame([['홍길동',9,8], ['장길산',8,10], ['사임당',9,7]], columns=['이름','국어','영어'])\n",
    "d"
   ]
  },
  {
   "cell_type": "code",
   "execution_count": 67,
   "id": "d8fcdc9c",
   "metadata": {},
   "outputs": [
    {
     "data": {
      "text/plain": [
       "이름    장길산\n",
       "국어      8\n",
       "영어     10\n",
       "Name: 1, dtype: object"
      ]
     },
     "execution_count": 67,
     "metadata": {},
     "output_type": "execute_result"
    }
   ],
   "source": [
    "d.iloc[1]"
   ]
  },
  {
   "cell_type": "code",
   "execution_count": 68,
   "id": "0b7a4e4a",
   "metadata": {},
   "outputs": [
    {
     "data": {
      "text/plain": [
       "10"
      ]
     },
     "execution_count": 68,
     "metadata": {},
     "output_type": "execute_result"
    }
   ],
   "source": [
    "d.iloc[1,2]"
   ]
  },
  {
   "cell_type": "code",
   "execution_count": 69,
   "id": "97f9dc0e",
   "metadata": {},
   "outputs": [
    {
     "data": {
      "text/html": [
       "<div>\n",
       "<style scoped>\n",
       "    .dataframe tbody tr th:only-of-type {\n",
       "        vertical-align: middle;\n",
       "    }\n",
       "\n",
       "    .dataframe tbody tr th {\n",
       "        vertical-align: top;\n",
       "    }\n",
       "\n",
       "    .dataframe thead th {\n",
       "        text-align: right;\n",
       "    }\n",
       "</style>\n",
       "<table border=\"1\" class=\"dataframe\">\n",
       "  <thead>\n",
       "    <tr style=\"text-align: right;\">\n",
       "      <th></th>\n",
       "      <th>국어</th>\n",
       "      <th>영어</th>\n",
       "    </tr>\n",
       "  </thead>\n",
       "  <tbody>\n",
       "    <tr>\n",
       "      <th>1</th>\n",
       "      <td>8</td>\n",
       "      <td>10</td>\n",
       "    </tr>\n",
       "    <tr>\n",
       "      <th>2</th>\n",
       "      <td>9</td>\n",
       "      <td>7</td>\n",
       "    </tr>\n",
       "  </tbody>\n",
       "</table>\n",
       "</div>"
      ],
      "text/plain": [
       "   국어  영어\n",
       "1   8  10\n",
       "2   9   7"
      ]
     },
     "execution_count": 69,
     "metadata": {},
     "output_type": "execute_result"
    }
   ],
   "source": [
    "d.iloc[1:,1:]"
   ]
  },
  {
   "cell_type": "code",
   "execution_count": 70,
   "id": "e8d807eb",
   "metadata": {},
   "outputs": [
    {
     "data": {
      "text/html": [
       "<div>\n",
       "<style scoped>\n",
       "    .dataframe tbody tr th:only-of-type {\n",
       "        vertical-align: middle;\n",
       "    }\n",
       "\n",
       "    .dataframe tbody tr th {\n",
       "        vertical-align: top;\n",
       "    }\n",
       "\n",
       "    .dataframe thead th {\n",
       "        text-align: right;\n",
       "    }\n",
       "</style>\n",
       "<table border=\"1\" class=\"dataframe\">\n",
       "  <thead>\n",
       "    <tr style=\"text-align: right;\">\n",
       "      <th></th>\n",
       "      <th>이름</th>\n",
       "      <th>국어</th>\n",
       "      <th>영어</th>\n",
       "    </tr>\n",
       "  </thead>\n",
       "  <tbody>\n",
       "    <tr>\n",
       "      <th>0</th>\n",
       "      <td>홍길동</td>\n",
       "      <td>9</td>\n",
       "      <td>8</td>\n",
       "    </tr>\n",
       "    <tr>\n",
       "      <th>1</th>\n",
       "      <td>장길산</td>\n",
       "      <td>8</td>\n",
       "      <td>10</td>\n",
       "    </tr>\n",
       "  </tbody>\n",
       "</table>\n",
       "</div>"
      ],
      "text/plain": [
       "    이름  국어  영어\n",
       "0  홍길동   9   8\n",
       "1  장길산   8  10"
      ]
     },
     "execution_count": 70,
     "metadata": {},
     "output_type": "execute_result"
    }
   ],
   "source": [
    "d[:2] # 범위를 지정하면 행이 뽑힌다"
   ]
  },
  {
   "cell_type": "code",
   "execution_count": 71,
   "id": "97ae9775",
   "metadata": {},
   "outputs": [
    {
     "data": {
      "text/html": [
       "<div>\n",
       "<style scoped>\n",
       "    .dataframe tbody tr th:only-of-type {\n",
       "        vertical-align: middle;\n",
       "    }\n",
       "\n",
       "    .dataframe tbody tr th {\n",
       "        vertical-align: top;\n",
       "    }\n",
       "\n",
       "    .dataframe thead th {\n",
       "        text-align: right;\n",
       "    }\n",
       "</style>\n",
       "<table border=\"1\" class=\"dataframe\">\n",
       "  <thead>\n",
       "    <tr style=\"text-align: right;\">\n",
       "      <th></th>\n",
       "      <th>Country name</th>\n",
       "      <th>Regional indicator</th>\n",
       "      <th>Ladder score</th>\n",
       "      <th>Standard error of ladder score</th>\n",
       "      <th>upperwhisker</th>\n",
       "      <th>lowerwhisker</th>\n",
       "      <th>Logged GDP per capita</th>\n",
       "      <th>Social support</th>\n",
       "      <th>Healthy life expectancy</th>\n",
       "      <th>Freedom to make life choices</th>\n",
       "      <th>Generosity</th>\n",
       "      <th>Perceptions of corruption</th>\n",
       "      <th>Ladder score in Dystopia</th>\n",
       "      <th>Explained by: Log GDP per capita</th>\n",
       "      <th>Explained by: Social support</th>\n",
       "      <th>Explained by: Healthy life expectancy</th>\n",
       "      <th>Explained by: Freedom to make life choices</th>\n",
       "      <th>Explained by: Generosity</th>\n",
       "      <th>Explained by: Perceptions of corruption</th>\n",
       "      <th>Dystopia + residual</th>\n",
       "    </tr>\n",
       "  </thead>\n",
       "  <tbody>\n",
       "    <tr>\n",
       "      <th>144</th>\n",
       "      <td>Lesotho</td>\n",
       "      <td>Sub-Saharan Africa</td>\n",
       "      <td>3.512</td>\n",
       "      <td>0.120</td>\n",
       "      <td>3.748</td>\n",
       "      <td>3.276</td>\n",
       "      <td>7.926</td>\n",
       "      <td>0.787</td>\n",
       "      <td>48.700</td>\n",
       "      <td>0.715</td>\n",
       "      <td>-0.131</td>\n",
       "      <td>0.915</td>\n",
       "      <td>2.43</td>\n",
       "      <td>0.451</td>\n",
       "      <td>0.731</td>\n",
       "      <td>0.007</td>\n",
       "      <td>0.405</td>\n",
       "      <td>0.103</td>\n",
       "      <td>0.015</td>\n",
       "      <td>1.800</td>\n",
       "    </tr>\n",
       "    <tr>\n",
       "      <th>145</th>\n",
       "      <td>Botswana</td>\n",
       "      <td>Sub-Saharan Africa</td>\n",
       "      <td>3.467</td>\n",
       "      <td>0.074</td>\n",
       "      <td>3.611</td>\n",
       "      <td>3.322</td>\n",
       "      <td>9.782</td>\n",
       "      <td>0.784</td>\n",
       "      <td>59.269</td>\n",
       "      <td>0.824</td>\n",
       "      <td>-0.246</td>\n",
       "      <td>0.801</td>\n",
       "      <td>2.43</td>\n",
       "      <td>1.099</td>\n",
       "      <td>0.724</td>\n",
       "      <td>0.340</td>\n",
       "      <td>0.539</td>\n",
       "      <td>0.027</td>\n",
       "      <td>0.088</td>\n",
       "      <td>0.648</td>\n",
       "    </tr>\n",
       "    <tr>\n",
       "      <th>146</th>\n",
       "      <td>Rwanda</td>\n",
       "      <td>Sub-Saharan Africa</td>\n",
       "      <td>3.415</td>\n",
       "      <td>0.068</td>\n",
       "      <td>3.548</td>\n",
       "      <td>3.282</td>\n",
       "      <td>7.676</td>\n",
       "      <td>0.552</td>\n",
       "      <td>61.400</td>\n",
       "      <td>0.897</td>\n",
       "      <td>0.061</td>\n",
       "      <td>0.167</td>\n",
       "      <td>2.43</td>\n",
       "      <td>0.364</td>\n",
       "      <td>0.202</td>\n",
       "      <td>0.407</td>\n",
       "      <td>0.627</td>\n",
       "      <td>0.227</td>\n",
       "      <td>0.493</td>\n",
       "      <td>1.095</td>\n",
       "    </tr>\n",
       "    <tr>\n",
       "      <th>147</th>\n",
       "      <td>Zimbabwe</td>\n",
       "      <td>Sub-Saharan Africa</td>\n",
       "      <td>3.145</td>\n",
       "      <td>0.058</td>\n",
       "      <td>3.259</td>\n",
       "      <td>3.030</td>\n",
       "      <td>7.943</td>\n",
       "      <td>0.750</td>\n",
       "      <td>56.201</td>\n",
       "      <td>0.677</td>\n",
       "      <td>-0.047</td>\n",
       "      <td>0.821</td>\n",
       "      <td>2.43</td>\n",
       "      <td>0.457</td>\n",
       "      <td>0.649</td>\n",
       "      <td>0.243</td>\n",
       "      <td>0.359</td>\n",
       "      <td>0.157</td>\n",
       "      <td>0.075</td>\n",
       "      <td>1.205</td>\n",
       "    </tr>\n",
       "    <tr>\n",
       "      <th>148</th>\n",
       "      <td>Afghanistan</td>\n",
       "      <td>South Asia</td>\n",
       "      <td>2.523</td>\n",
       "      <td>0.038</td>\n",
       "      <td>2.596</td>\n",
       "      <td>2.449</td>\n",
       "      <td>7.695</td>\n",
       "      <td>0.463</td>\n",
       "      <td>52.493</td>\n",
       "      <td>0.382</td>\n",
       "      <td>-0.102</td>\n",
       "      <td>0.924</td>\n",
       "      <td>2.43</td>\n",
       "      <td>0.370</td>\n",
       "      <td>0.000</td>\n",
       "      <td>0.126</td>\n",
       "      <td>0.000</td>\n",
       "      <td>0.122</td>\n",
       "      <td>0.010</td>\n",
       "      <td>1.895</td>\n",
       "    </tr>\n",
       "  </tbody>\n",
       "</table>\n",
       "</div>"
      ],
      "text/plain": [
       "    Country name  Regional indicator  Ladder score  \\\n",
       "144      Lesotho  Sub-Saharan Africa         3.512   \n",
       "145     Botswana  Sub-Saharan Africa         3.467   \n",
       "146       Rwanda  Sub-Saharan Africa         3.415   \n",
       "147     Zimbabwe  Sub-Saharan Africa         3.145   \n",
       "148  Afghanistan          South Asia         2.523   \n",
       "\n",
       "     Standard error of ladder score  upperwhisker  lowerwhisker  \\\n",
       "144                           0.120         3.748         3.276   \n",
       "145                           0.074         3.611         3.322   \n",
       "146                           0.068         3.548         3.282   \n",
       "147                           0.058         3.259         3.030   \n",
       "148                           0.038         2.596         2.449   \n",
       "\n",
       "     Logged GDP per capita  Social support  Healthy life expectancy  \\\n",
       "144                  7.926           0.787                   48.700   \n",
       "145                  9.782           0.784                   59.269   \n",
       "146                  7.676           0.552                   61.400   \n",
       "147                  7.943           0.750                   56.201   \n",
       "148                  7.695           0.463                   52.493   \n",
       "\n",
       "     Freedom to make life choices  Generosity  Perceptions of corruption  \\\n",
       "144                         0.715      -0.131                      0.915   \n",
       "145                         0.824      -0.246                      0.801   \n",
       "146                         0.897       0.061                      0.167   \n",
       "147                         0.677      -0.047                      0.821   \n",
       "148                         0.382      -0.102                      0.924   \n",
       "\n",
       "     Ladder score in Dystopia  Explained by: Log GDP per capita  \\\n",
       "144                      2.43                             0.451   \n",
       "145                      2.43                             1.099   \n",
       "146                      2.43                             0.364   \n",
       "147                      2.43                             0.457   \n",
       "148                      2.43                             0.370   \n",
       "\n",
       "     Explained by: Social support  Explained by: Healthy life expectancy  \\\n",
       "144                         0.731                                  0.007   \n",
       "145                         0.724                                  0.340   \n",
       "146                         0.202                                  0.407   \n",
       "147                         0.649                                  0.243   \n",
       "148                         0.000                                  0.126   \n",
       "\n",
       "     Explained by: Freedom to make life choices  Explained by: Generosity  \\\n",
       "144                                       0.405                     0.103   \n",
       "145                                       0.539                     0.027   \n",
       "146                                       0.627                     0.227   \n",
       "147                                       0.359                     0.157   \n",
       "148                                       0.000                     0.122   \n",
       "\n",
       "     Explained by: Perceptions of corruption  Dystopia + residual  \n",
       "144                                    0.015                1.800  \n",
       "145                                    0.088                0.648  \n",
       "146                                    0.493                1.095  \n",
       "147                                    0.075                1.205  \n",
       "148                                    0.010                1.895  "
      ]
     },
     "execution_count": 71,
     "metadata": {},
     "output_type": "execute_result"
    }
   ],
   "source": [
    "data[-5:]"
   ]
  },
  {
   "cell_type": "code",
   "execution_count": 72,
   "id": "6124e703",
   "metadata": {},
   "outputs": [
    {
     "data": {
      "text/html": [
       "<div>\n",
       "<style scoped>\n",
       "    .dataframe tbody tr th:only-of-type {\n",
       "        vertical-align: middle;\n",
       "    }\n",
       "\n",
       "    .dataframe tbody tr th {\n",
       "        vertical-align: top;\n",
       "    }\n",
       "\n",
       "    .dataframe thead th {\n",
       "        text-align: right;\n",
       "    }\n",
       "</style>\n",
       "<table border=\"1\" class=\"dataframe\">\n",
       "  <thead>\n",
       "    <tr style=\"text-align: right;\">\n",
       "      <th></th>\n",
       "      <th>이름</th>\n",
       "      <th>국어</th>\n",
       "      <th>영어</th>\n",
       "    </tr>\n",
       "  </thead>\n",
       "  <tbody>\n",
       "    <tr>\n",
       "      <th>0</th>\n",
       "      <td>홍길동</td>\n",
       "      <td>9</td>\n",
       "      <td>8</td>\n",
       "    </tr>\n",
       "    <tr>\n",
       "      <th>1</th>\n",
       "      <td>장길산</td>\n",
       "      <td>8</td>\n",
       "      <td>10</td>\n",
       "    </tr>\n",
       "    <tr>\n",
       "      <th>2</th>\n",
       "      <td>사임당</td>\n",
       "      <td>9</td>\n",
       "      <td>7</td>\n",
       "    </tr>\n",
       "  </tbody>\n",
       "</table>\n",
       "</div>"
      ],
      "text/plain": [
       "    이름  국어  영어\n",
       "0  홍길동   9   8\n",
       "1  장길산   8  10\n",
       "2  사임당   9   7"
      ]
     },
     "execution_count": 72,
     "metadata": {},
     "output_type": "execute_result"
    }
   ],
   "source": [
    "d"
   ]
  },
  {
   "cell_type": "code",
   "execution_count": 73,
   "id": "dd5e7c1f",
   "metadata": {},
   "outputs": [
    {
     "data": {
      "text/plain": [
       "0    홍길동\n",
       "1    장길산\n",
       "2    사임당\n",
       "Name: 이름, dtype: object"
      ]
     },
     "execution_count": 73,
     "metadata": {},
     "output_type": "execute_result"
    }
   ],
   "source": [
    "d['이름']"
   ]
  },
  {
   "cell_type": "code",
   "execution_count": 74,
   "id": "227d6572",
   "metadata": {},
   "outputs": [
    {
     "data": {
      "text/plain": [
       "0    홍길동\n",
       "1    장길산\n",
       "2    사임당\n",
       "Name: 이름, dtype: object"
      ]
     },
     "execution_count": 74,
     "metadata": {},
     "output_type": "execute_result"
    }
   ],
   "source": [
    "d.이름"
   ]
  },
  {
   "cell_type": "code",
   "execution_count": null,
   "id": "050833c8",
   "metadata": {},
   "outputs": [],
   "source": []
  },
  {
   "cell_type": "markdown",
   "id": "05518b30",
   "metadata": {},
   "source": [
    "### 코드화"
   ]
  },
  {
   "cell_type": "code",
   "execution_count": 77,
   "id": "9812c04d",
   "metadata": {},
   "outputs": [
    {
     "data": {
      "text/html": [
       "<div>\n",
       "<style scoped>\n",
       "    .dataframe tbody tr th:only-of-type {\n",
       "        vertical-align: middle;\n",
       "    }\n",
       "\n",
       "    .dataframe tbody tr th {\n",
       "        vertical-align: top;\n",
       "    }\n",
       "\n",
       "    .dataframe thead th {\n",
       "        text-align: right;\n",
       "    }\n",
       "</style>\n",
       "<table border=\"1\" class=\"dataframe\">\n",
       "  <thead>\n",
       "    <tr style=\"text-align: right;\">\n",
       "      <th></th>\n",
       "      <th>국어</th>\n",
       "      <th>영어</th>\n",
       "      <th>지역</th>\n",
       "    </tr>\n",
       "  </thead>\n",
       "  <tbody>\n",
       "    <tr>\n",
       "      <th>0</th>\n",
       "      <td>99</td>\n",
       "      <td>88</td>\n",
       "      <td>서울</td>\n",
       "    </tr>\n",
       "    <tr>\n",
       "      <th>1</th>\n",
       "      <td>76</td>\n",
       "      <td>89</td>\n",
       "      <td>부산</td>\n",
       "    </tr>\n",
       "    <tr>\n",
       "      <th>2</th>\n",
       "      <td>86</td>\n",
       "      <td>95</td>\n",
       "      <td>원주</td>\n",
       "    </tr>\n",
       "    <tr>\n",
       "      <th>3</th>\n",
       "      <td>63</td>\n",
       "      <td>76</td>\n",
       "      <td>서울</td>\n",
       "    </tr>\n",
       "  </tbody>\n",
       "</table>\n",
       "</div>"
      ],
      "text/plain": [
       "   국어  영어  지역\n",
       "0  99  88  서울\n",
       "1  76  89  부산\n",
       "2  86  95  원주\n",
       "3  63  76  서울"
      ]
     },
     "execution_count": 77,
     "metadata": {},
     "output_type": "execute_result"
    }
   ],
   "source": [
    "d = pd.DataFrame([[99,88,'서울'],[76,89,'부산'],[86,95,'원주'],[63,76,'서울']],\n",
    "                columns=['국어','영어','지역'])\n",
    "d"
   ]
  },
  {
   "cell_type": "code",
   "execution_count": 78,
   "id": "92cc334b",
   "metadata": {},
   "outputs": [
    {
     "data": {
      "text/plain": [
       "0    서울\n",
       "1    부산\n",
       "2    원주\n",
       "3    서울\n",
       "Name: 지역, dtype: object"
      ]
     },
     "execution_count": 78,
     "metadata": {},
     "output_type": "execute_result"
    }
   ],
   "source": [
    "d.지역"
   ]
  },
  {
   "cell_type": "code",
   "execution_count": 79,
   "id": "eb469fd0",
   "metadata": {},
   "outputs": [
    {
     "data": {
      "text/plain": [
       "array(['서울', '부산', '원주'], dtype=object)"
      ]
     },
     "execution_count": 79,
     "metadata": {},
     "output_type": "execute_result"
    }
   ],
   "source": [
    "d.지역.unique()"
   ]
  },
  {
   "cell_type": "code",
   "execution_count": 80,
   "id": "20a3d81f",
   "metadata": {},
   "outputs": [
    {
     "data": {
      "text/plain": [
       "{'서울': 0, '부산': 1, '원주': 2}"
      ]
     },
     "execution_count": 80,
     "metadata": {},
     "output_type": "execute_result"
    }
   ],
   "source": [
    "label = {'서울':0, '부산':1, '원주':2}\n",
    "label"
   ]
  },
  {
   "cell_type": "code",
   "execution_count": 81,
   "id": "b250d9a5",
   "metadata": {},
   "outputs": [
    {
     "data": {
      "text/plain": [
       "0    0\n",
       "1    1\n",
       "2    2\n",
       "3    0\n",
       "Name: 지역, dtype: int64"
      ]
     },
     "execution_count": 81,
     "metadata": {},
     "output_type": "execute_result"
    }
   ],
   "source": [
    "d.지역.map(label)"
   ]
  },
  {
   "cell_type": "code",
   "execution_count": 82,
   "id": "92b49af4",
   "metadata": {},
   "outputs": [
    {
     "data": {
      "text/html": [
       "<div>\n",
       "<style scoped>\n",
       "    .dataframe tbody tr th:only-of-type {\n",
       "        vertical-align: middle;\n",
       "    }\n",
       "\n",
       "    .dataframe tbody tr th {\n",
       "        vertical-align: top;\n",
       "    }\n",
       "\n",
       "    .dataframe thead th {\n",
       "        text-align: right;\n",
       "    }\n",
       "</style>\n",
       "<table border=\"1\" class=\"dataframe\">\n",
       "  <thead>\n",
       "    <tr style=\"text-align: right;\">\n",
       "      <th></th>\n",
       "      <th>국어</th>\n",
       "      <th>영어</th>\n",
       "      <th>지역</th>\n",
       "      <th>지역코드</th>\n",
       "    </tr>\n",
       "  </thead>\n",
       "  <tbody>\n",
       "    <tr>\n",
       "      <th>0</th>\n",
       "      <td>99</td>\n",
       "      <td>88</td>\n",
       "      <td>서울</td>\n",
       "      <td>0</td>\n",
       "    </tr>\n",
       "    <tr>\n",
       "      <th>1</th>\n",
       "      <td>76</td>\n",
       "      <td>89</td>\n",
       "      <td>부산</td>\n",
       "      <td>1</td>\n",
       "    </tr>\n",
       "    <tr>\n",
       "      <th>2</th>\n",
       "      <td>86</td>\n",
       "      <td>95</td>\n",
       "      <td>원주</td>\n",
       "      <td>2</td>\n",
       "    </tr>\n",
       "    <tr>\n",
       "      <th>3</th>\n",
       "      <td>63</td>\n",
       "      <td>76</td>\n",
       "      <td>서울</td>\n",
       "      <td>0</td>\n",
       "    </tr>\n",
       "  </tbody>\n",
       "</table>\n",
       "</div>"
      ],
      "text/plain": [
       "   국어  영어  지역  지역코드\n",
       "0  99  88  서울     0\n",
       "1  76  89  부산     1\n",
       "2  86  95  원주     2\n",
       "3  63  76  서울     0"
      ]
     },
     "execution_count": 82,
     "metadata": {},
     "output_type": "execute_result"
    }
   ],
   "source": [
    "d['지역코드'] = d.지역.map(label)\n",
    "d"
   ]
  },
  {
   "cell_type": "code",
   "execution_count": null,
   "id": "13fbe655",
   "metadata": {},
   "outputs": [],
   "source": []
  },
  {
   "cell_type": "markdown",
   "id": "01880aae",
   "metadata": {},
   "source": [
    "### 날자 처리"
   ]
  },
  {
   "cell_type": "code",
   "execution_count": 86,
   "id": "ceac3298",
   "metadata": {},
   "outputs": [
    {
     "data": {
      "text/html": [
       "<div>\n",
       "<style scoped>\n",
       "    .dataframe tbody tr th:only-of-type {\n",
       "        vertical-align: middle;\n",
       "    }\n",
       "\n",
       "    .dataframe tbody tr th {\n",
       "        vertical-align: top;\n",
       "    }\n",
       "\n",
       "    .dataframe thead th {\n",
       "        text-align: right;\n",
       "    }\n",
       "</style>\n",
       "<table border=\"1\" class=\"dataframe\">\n",
       "  <thead>\n",
       "    <tr style=\"text-align: right;\">\n",
       "      <th></th>\n",
       "      <th>이름</th>\n",
       "      <th>성적</th>\n",
       "      <th>생일</th>\n",
       "    </tr>\n",
       "  </thead>\n",
       "  <tbody>\n",
       "    <tr>\n",
       "      <th>0</th>\n",
       "      <td>홍길동</td>\n",
       "      <td>99</td>\n",
       "      <td>1999/1/1</td>\n",
       "    </tr>\n",
       "    <tr>\n",
       "      <th>1</th>\n",
       "      <td>장길산</td>\n",
       "      <td>85</td>\n",
       "      <td>1987/3/1</td>\n",
       "    </tr>\n",
       "    <tr>\n",
       "      <th>2</th>\n",
       "      <td>둘리</td>\n",
       "      <td>51</td>\n",
       "      <td>2005/5/5</td>\n",
       "    </tr>\n",
       "  </tbody>\n",
       "</table>\n",
       "</div>"
      ],
      "text/plain": [
       "    이름  성적        생일\n",
       "0  홍길동  99  1999/1/1\n",
       "1  장길산  85  1987/3/1\n",
       "2   둘리  51  2005/5/5"
      ]
     },
     "execution_count": 86,
     "metadata": {},
     "output_type": "execute_result"
    }
   ],
   "source": [
    "d = pd.DataFrame([['홍길동',99,'1999/1/1'],['장길산',85,'1987/3/1'],\n",
    "                    ['둘리',51,'2005/5/5']], columns=['이름','성적','생일'])\n",
    "d"
   ]
  },
  {
   "cell_type": "code",
   "execution_count": 87,
   "id": "fffabc1c",
   "metadata": {},
   "outputs": [
    {
     "name": "stdout",
     "output_type": "stream",
     "text": [
      "<class 'pandas.core.frame.DataFrame'>\n",
      "RangeIndex: 3 entries, 0 to 2\n",
      "Data columns (total 3 columns):\n",
      " #   Column  Non-Null Count  Dtype \n",
      "---  ------  --------------  ----- \n",
      " 0   이름      3 non-null      object\n",
      " 1   성적      3 non-null      int64 \n",
      " 2   생일      3 non-null      object\n",
      "dtypes: int64(1), object(2)\n",
      "memory usage: 200.0+ bytes\n"
     ]
    }
   ],
   "source": [
    "d.info()"
   ]
  },
  {
   "cell_type": "code",
   "execution_count": 88,
   "id": "fddb95f3",
   "metadata": {},
   "outputs": [
    {
     "data": {
      "text/plain": [
       "0    1999/1/1\n",
       "1    1987/3/1\n",
       "2    2005/5/5\n",
       "Name: 생일, dtype: object"
      ]
     },
     "execution_count": 88,
     "metadata": {},
     "output_type": "execute_result"
    }
   ],
   "source": [
    "d.생일"
   ]
  },
  {
   "cell_type": "code",
   "execution_count": 89,
   "id": "543a5b2b",
   "metadata": {},
   "outputs": [
    {
     "data": {
      "text/plain": [
       "0   1999-01-01\n",
       "1   1987-03-01\n",
       "2   2005-05-05\n",
       "Name: 생일, dtype: datetime64[ns]"
      ]
     },
     "execution_count": 89,
     "metadata": {},
     "output_type": "execute_result"
    }
   ],
   "source": [
    "pd.to_datetime(d.생일)"
   ]
  },
  {
   "cell_type": "code",
   "execution_count": 91,
   "id": "c51939bc",
   "metadata": {},
   "outputs": [
    {
     "data": {
      "text/plain": [
       "DatetimeIndex(['2023-01-01', '2023-02-01', '2023-03-01'], dtype='datetime64[ns]', freq=None)"
      ]
     },
     "execution_count": 91,
     "metadata": {},
     "output_type": "execute_result"
    }
   ],
   "source": [
    "pd.to_datetime([20230101,20230201,20230301], format='%Y%m%d')"
   ]
  },
  {
   "cell_type": "code",
   "execution_count": 92,
   "id": "1150c419",
   "metadata": {},
   "outputs": [
    {
     "data": {
      "text/plain": [
       "DatetimeIndex(['2023-01-01', '2023-02-01', '2023-03-01'], dtype='datetime64[ns]', freq=None)"
      ]
     },
     "execution_count": 92,
     "metadata": {},
     "output_type": "execute_result"
    }
   ],
   "source": [
    "pd.to_datetime([230101,230201,230301], format='%y%m%d')"
   ]
  },
  {
   "cell_type": "code",
   "execution_count": 93,
   "id": "e44db84f",
   "metadata": {},
   "outputs": [
    {
     "name": "stdout",
     "output_type": "stream",
     "text": [
      "Help on function to_datetime in module pandas.core.tools.datetimes:\n",
      "\n",
      "to_datetime(arg: 'DatetimeScalarOrArrayConvertible | DictConvertible', errors: 'DateTimeErrorChoices' = 'raise', dayfirst: 'bool' = False, yearfirst: 'bool' = False, utc: 'bool | None' = None, format: 'str | None' = None, exact: 'bool' = True, unit: 'str | None' = None, infer_datetime_format: 'bool' = False, origin='unix', cache: 'bool' = True) -> 'DatetimeIndex | Series | DatetimeScalar | NaTType | None'\n",
      "    Convert argument to datetime.\n",
      "    \n",
      "    This function converts a scalar, array-like, :class:`Series` or\n",
      "    :class:`DataFrame`/dict-like to a pandas datetime object.\n",
      "    \n",
      "    Parameters\n",
      "    ----------\n",
      "    arg : int, float, str, datetime, list, tuple, 1-d array, Series, DataFrame/dict-like\n",
      "        The object to convert to a datetime. If a :class:`DataFrame` is provided, the\n",
      "        method expects minimally the following columns: :const:`\"year\"`,\n",
      "        :const:`\"month\"`, :const:`\"day\"`.\n",
      "    errors : {'ignore', 'raise', 'coerce'}, default 'raise'\n",
      "        - If :const:`'raise'`, then invalid parsing will raise an exception.\n",
      "        - If :const:`'coerce'`, then invalid parsing will be set as :const:`NaT`.\n",
      "        - If :const:`'ignore'`, then invalid parsing will return the input.\n",
      "    dayfirst : bool, default False\n",
      "        Specify a date parse order if `arg` is str or is list-like.\n",
      "        If :const:`True`, parses dates with the day first, e.g. :const:`\"10/11/12\"`\n",
      "        is parsed as :const:`2012-11-10`.\n",
      "    \n",
      "        .. warning::\n",
      "    \n",
      "            ``dayfirst=True`` is not strict, but will prefer to parse\n",
      "            with day first. If a delimited date string cannot be parsed in\n",
      "            accordance with the given `dayfirst` option, e.g.\n",
      "            ``to_datetime(['31-12-2021'])``, then a warning will be shown.\n",
      "    \n",
      "    yearfirst : bool, default False\n",
      "        Specify a date parse order if `arg` is str or is list-like.\n",
      "    \n",
      "        - If :const:`True` parses dates with the year first, e.g.\n",
      "          :const:`\"10/11/12\"` is parsed as :const:`2010-11-12`.\n",
      "        - If both `dayfirst` and `yearfirst` are :const:`True`, `yearfirst` is\n",
      "          preceded (same as :mod:`dateutil`).\n",
      "    \n",
      "        .. warning::\n",
      "    \n",
      "            ``yearfirst=True`` is not strict, but will prefer to parse\n",
      "            with year first.\n",
      "    \n",
      "    utc : bool, default None\n",
      "        Control timezone-related parsing, localization and conversion.\n",
      "    \n",
      "        - If :const:`True`, the function *always* returns a timezone-aware\n",
      "          UTC-localized :class:`Timestamp`, :class:`Series` or\n",
      "          :class:`DatetimeIndex`. To do this, timezone-naive inputs are\n",
      "          *localized* as UTC, while timezone-aware inputs are *converted* to UTC.\n",
      "    \n",
      "        - If :const:`False` (default), inputs will not be coerced to UTC.\n",
      "          Timezone-naive inputs will remain naive, while timezone-aware ones\n",
      "          will keep their time offsets. Limitations exist for mixed\n",
      "          offsets (typically, daylight savings), see :ref:`Examples\n",
      "          <to_datetime_tz_examples>` section for details.\n",
      "    \n",
      "        See also: pandas general documentation about `timezone conversion and\n",
      "        localization\n",
      "        <https://pandas.pydata.org/pandas-docs/stable/user_guide/timeseries.html\n",
      "        #time-zone-handling>`_.\n",
      "    \n",
      "    format : str, default None\n",
      "        The strftime to parse time, e.g. :const:`\"%d/%m/%Y\"`. Note that\n",
      "        :const:`\"%f\"` will parse all the way up to nanoseconds. See\n",
      "        `strftime documentation\n",
      "        <https://docs.python.org/3/library/datetime.html\n",
      "        #strftime-and-strptime-behavior>`_ for more information on choices.\n",
      "    exact : bool, default True\n",
      "        Control how `format` is used:\n",
      "    \n",
      "        - If :const:`True`, require an exact `format` match.\n",
      "        - If :const:`False`, allow the `format` to match anywhere in the target\n",
      "          string.\n",
      "    \n",
      "    unit : str, default 'ns'\n",
      "        The unit of the arg (D,s,ms,us,ns) denote the unit, which is an\n",
      "        integer or float number. This will be based off the origin.\n",
      "        Example, with ``unit='ms'`` and ``origin='unix'``, this would calculate\n",
      "        the number of milliseconds to the unix epoch start.\n",
      "    infer_datetime_format : bool, default False\n",
      "        If :const:`True` and no `format` is given, attempt to infer the format\n",
      "        of the datetime strings based on the first non-NaN element,\n",
      "        and if it can be inferred, switch to a faster method of parsing them.\n",
      "        In some cases this can increase the parsing speed by ~5-10x.\n",
      "    origin : scalar, default 'unix'\n",
      "        Define the reference date. The numeric values would be parsed as number\n",
      "        of units (defined by `unit`) since this reference date.\n",
      "    \n",
      "        - If :const:`'unix'` (or POSIX) time; origin is set to 1970-01-01.\n",
      "        - If :const:`'julian'`, unit must be :const:`'D'`, and origin is set to\n",
      "          beginning of Julian Calendar. Julian day number :const:`0` is assigned\n",
      "          to the day starting at noon on January 1, 4713 BC.\n",
      "        - If Timestamp convertible, origin is set to Timestamp identified by\n",
      "          origin.\n",
      "    cache : bool, default True\n",
      "        If :const:`True`, use a cache of unique, converted dates to apply the\n",
      "        datetime conversion. May produce significant speed-up when parsing\n",
      "        duplicate date strings, especially ones with timezone offsets. The cache\n",
      "        is only used when there are at least 50 values. The presence of\n",
      "        out-of-bounds values will render the cache unusable and may slow down\n",
      "        parsing.\n",
      "    \n",
      "        .. versionchanged:: 0.25.0\n",
      "            changed default value from :const:`False` to :const:`True`.\n",
      "    \n",
      "    Returns\n",
      "    -------\n",
      "    datetime\n",
      "        If parsing succeeded.\n",
      "        Return type depends on input (types in parenthesis correspond to\n",
      "        fallback in case of unsuccessful timezone or out-of-range timestamp\n",
      "        parsing):\n",
      "    \n",
      "        - scalar: :class:`Timestamp` (or :class:`datetime.datetime`)\n",
      "        - array-like: :class:`DatetimeIndex` (or :class:`Series` with\n",
      "          :class:`object` dtype containing :class:`datetime.datetime`)\n",
      "        - Series: :class:`Series` of :class:`datetime64` dtype (or\n",
      "          :class:`Series` of :class:`object` dtype containing\n",
      "          :class:`datetime.datetime`)\n",
      "        - DataFrame: :class:`Series` of :class:`datetime64` dtype (or\n",
      "          :class:`Series` of :class:`object` dtype containing\n",
      "          :class:`datetime.datetime`)\n",
      "    \n",
      "    Raises\n",
      "    ------\n",
      "    ParserError\n",
      "        When parsing a date from string fails.\n",
      "    ValueError\n",
      "        When another datetime conversion error happens. For example when one\n",
      "        of 'year', 'month', day' columns is missing in a :class:`DataFrame`, or\n",
      "        when a Timezone-aware :class:`datetime.datetime` is found in an array-like\n",
      "        of mixed time offsets, and ``utc=False``.\n",
      "    \n",
      "    See Also\n",
      "    --------\n",
      "    DataFrame.astype : Cast argument to a specified dtype.\n",
      "    to_timedelta : Convert argument to timedelta.\n",
      "    convert_dtypes : Convert dtypes.\n",
      "    \n",
      "    Notes\n",
      "    -----\n",
      "    \n",
      "    Many input types are supported, and lead to different output types:\n",
      "    \n",
      "    - **scalars** can be int, float, str, datetime object (from stdlib :mod:`datetime`\n",
      "      module or :mod:`numpy`). They are converted to :class:`Timestamp` when\n",
      "      possible, otherwise they are converted to :class:`datetime.datetime`.\n",
      "      None/NaN/null scalars are converted to :const:`NaT`.\n",
      "    \n",
      "    - **array-like** can contain int, float, str, datetime objects. They are\n",
      "      converted to :class:`DatetimeIndex` when possible, otherwise they are\n",
      "      converted to :class:`Index` with :class:`object` dtype, containing\n",
      "      :class:`datetime.datetime`. None/NaN/null entries are converted to\n",
      "      :const:`NaT` in both cases.\n",
      "    \n",
      "    - **Series** are converted to :class:`Series` with :class:`datetime64`\n",
      "      dtype when possible, otherwise they are converted to :class:`Series` with\n",
      "      :class:`object` dtype, containing :class:`datetime.datetime`. None/NaN/null\n",
      "      entries are converted to :const:`NaT` in both cases.\n",
      "    \n",
      "    - **DataFrame/dict-like** are converted to :class:`Series` with\n",
      "      :class:`datetime64` dtype. For each row a datetime is created from assembling\n",
      "      the various dataframe columns. Column keys can be common abbreviations\n",
      "      like [‘year’, ‘month’, ‘day’, ‘minute’, ‘second’, ‘ms’, ‘us’, ‘ns’]) or\n",
      "      plurals of the same.\n",
      "    \n",
      "    The following causes are responsible for :class:`datetime.datetime` objects\n",
      "    being returned (possibly inside an :class:`Index` or a :class:`Series` with\n",
      "    :class:`object` dtype) instead of a proper pandas designated type\n",
      "    (:class:`Timestamp`, :class:`DatetimeIndex` or :class:`Series`\n",
      "    with :class:`datetime64` dtype):\n",
      "    \n",
      "    - when any input element is before :const:`Timestamp.min` or after\n",
      "      :const:`Timestamp.max`, see `timestamp limitations\n",
      "      <https://pandas.pydata.org/pandas-docs/stable/user_guide/timeseries.html\n",
      "      #timeseries-timestamp-limits>`_.\n",
      "    \n",
      "    - when ``utc=False`` (default) and the input is an array-like or\n",
      "      :class:`Series` containing mixed naive/aware datetime, or aware with mixed\n",
      "      time offsets. Note that this happens in the (quite frequent) situation when\n",
      "      the timezone has a daylight savings policy. In that case you may wish to\n",
      "      use ``utc=True``.\n",
      "    \n",
      "    Examples\n",
      "    --------\n",
      "    \n",
      "    **Handling various input formats**\n",
      "    \n",
      "    Assembling a datetime from multiple columns of a :class:`DataFrame`. The keys\n",
      "    can be common abbreviations like ['year', 'month', 'day', 'minute', 'second',\n",
      "    'ms', 'us', 'ns']) or plurals of the same\n",
      "    \n",
      "    >>> df = pd.DataFrame({'year': [2015, 2016],\n",
      "    ...                    'month': [2, 3],\n",
      "    ...                    'day': [4, 5]})\n",
      "    >>> pd.to_datetime(df)\n",
      "    0   2015-02-04\n",
      "    1   2016-03-05\n",
      "    dtype: datetime64[ns]\n",
      "    \n",
      "    Passing ``infer_datetime_format=True`` can often-times speedup a parsing\n",
      "    if its not an ISO8601 format exactly, but in a regular format.\n",
      "    \n",
      "    >>> s = pd.Series(['3/11/2000', '3/12/2000', '3/13/2000'] * 1000)\n",
      "    >>> s.head()\n",
      "    0    3/11/2000\n",
      "    1    3/12/2000\n",
      "    2    3/13/2000\n",
      "    3    3/11/2000\n",
      "    4    3/12/2000\n",
      "    dtype: object\n",
      "    \n",
      "    >>> %timeit pd.to_datetime(s, infer_datetime_format=True)  # doctest: +SKIP\n",
      "    100 loops, best of 3: 10.4 ms per loop\n",
      "    \n",
      "    >>> %timeit pd.to_datetime(s, infer_datetime_format=False)  # doctest: +SKIP\n",
      "    1 loop, best of 3: 471 ms per loop\n",
      "    \n",
      "    Using a unix epoch time\n",
      "    \n",
      "    >>> pd.to_datetime(1490195805, unit='s')\n",
      "    Timestamp('2017-03-22 15:16:45')\n",
      "    >>> pd.to_datetime(1490195805433502912, unit='ns')\n",
      "    Timestamp('2017-03-22 15:16:45.433502912')\n",
      "    \n",
      "    .. warning:: For float arg, precision rounding might happen. To prevent\n",
      "        unexpected behavior use a fixed-width exact type.\n",
      "    \n",
      "    Using a non-unix epoch origin\n",
      "    \n",
      "    >>> pd.to_datetime([1, 2, 3], unit='D',\n",
      "    ...                origin=pd.Timestamp('1960-01-01'))\n",
      "    DatetimeIndex(['1960-01-02', '1960-01-03', '1960-01-04'],\n",
      "                  dtype='datetime64[ns]', freq=None)\n",
      "    \n",
      "    **Non-convertible date/times**\n",
      "    \n",
      "    If a date does not meet the `timestamp limitations\n",
      "    <https://pandas.pydata.org/pandas-docs/stable/user_guide/timeseries.html\n",
      "    #timeseries-timestamp-limits>`_, passing ``errors='ignore'``\n",
      "    will return the original input instead of raising any exception.\n",
      "    \n",
      "    Passing ``errors='coerce'`` will force an out-of-bounds date to :const:`NaT`,\n",
      "    in addition to forcing non-dates (or non-parseable dates) to :const:`NaT`.\n",
      "    \n",
      "    >>> pd.to_datetime('13000101', format='%Y%m%d', errors='ignore')\n",
      "    datetime.datetime(1300, 1, 1, 0, 0)\n",
      "    >>> pd.to_datetime('13000101', format='%Y%m%d', errors='coerce')\n",
      "    NaT\n",
      "    \n",
      "    .. _to_datetime_tz_examples:\n",
      "    \n",
      "    **Timezones and time offsets**\n",
      "    \n",
      "    The default behaviour (``utc=False``) is as follows:\n",
      "    \n",
      "    - Timezone-naive inputs are converted to timezone-naive :class:`DatetimeIndex`:\n",
      "    \n",
      "    >>> pd.to_datetime(['2018-10-26 12:00', '2018-10-26 13:00:15'])\n",
      "    DatetimeIndex(['2018-10-26 12:00:00', '2018-10-26 13:00:15'],\n",
      "                  dtype='datetime64[ns]', freq=None)\n",
      "    \n",
      "    - Timezone-aware inputs *with constant time offset* are converted to\n",
      "      timezone-aware :class:`DatetimeIndex`:\n",
      "    \n",
      "    >>> pd.to_datetime(['2018-10-26 12:00 -0500', '2018-10-26 13:00 -0500'])\n",
      "    DatetimeIndex(['2018-10-26 12:00:00-05:00', '2018-10-26 13:00:00-05:00'],\n",
      "                  dtype='datetime64[ns, pytz.FixedOffset(-300)]', freq=None)\n",
      "    \n",
      "    - However, timezone-aware inputs *with mixed time offsets* (for example\n",
      "      issued from a timezone with daylight savings, such as Europe/Paris)\n",
      "      are **not successfully converted** to a :class:`DatetimeIndex`. Instead a\n",
      "      simple :class:`Index` containing :class:`datetime.datetime` objects is\n",
      "      returned:\n",
      "    \n",
      "    >>> pd.to_datetime(['2020-10-25 02:00 +0200', '2020-10-25 04:00 +0100'])\n",
      "    Index([2020-10-25 02:00:00+02:00, 2020-10-25 04:00:00+01:00],\n",
      "          dtype='object')\n",
      "    \n",
      "    - A mix of timezone-aware and timezone-naive inputs is converted to\n",
      "      a timezone-aware :class:`DatetimeIndex` if the offsets of the timezone-aware\n",
      "      are constant:\n",
      "    \n",
      "    >>> from datetime import datetime\n",
      "    >>> pd.to_datetime([\"2020-01-01 01:00 -01:00\", datetime(2020, 1, 1, 3, 0)])\n",
      "    DatetimeIndex(['2020-01-01 01:00:00-01:00', '2020-01-01 02:00:00-01:00'],\n",
      "                  dtype='datetime64[ns, pytz.FixedOffset(-60)]', freq=None)\n",
      "    \n",
      "    |\n",
      "    \n",
      "    Setting ``utc=True`` solves most of the above issues:\n",
      "    \n",
      "    - Timezone-naive inputs are *localized* as UTC\n",
      "    \n",
      "    >>> pd.to_datetime(['2018-10-26 12:00', '2018-10-26 13:00'], utc=True)\n",
      "    DatetimeIndex(['2018-10-26 12:00:00+00:00', '2018-10-26 13:00:00+00:00'],\n",
      "                  dtype='datetime64[ns, UTC]', freq=None)\n",
      "    \n",
      "    - Timezone-aware inputs are *converted* to UTC (the output represents the\n",
      "      exact same datetime, but viewed from the UTC time offset `+00:00`).\n",
      "    \n",
      "    >>> pd.to_datetime(['2018-10-26 12:00 -0530', '2018-10-26 12:00 -0500'],\n",
      "    ...                utc=True)\n",
      "    DatetimeIndex(['2018-10-26 17:30:00+00:00', '2018-10-26 17:00:00+00:00'],\n",
      "                  dtype='datetime64[ns, UTC]', freq=None)\n",
      "    \n",
      "    - Inputs can contain both naive and aware, string or datetime, the above\n",
      "      rules still apply\n",
      "    \n",
      "    >>> from datetime import timezone, timedelta\n",
      "    >>> pd.to_datetime(['2018-10-26 12:00', '2018-10-26 12:00 -0530',\n",
      "    ...                datetime(2020, 1, 1, 18),\n",
      "    ...                datetime(2020, 1, 1, 18,\n",
      "    ...                tzinfo=timezone(-timedelta(hours=1)))],\n",
      "    ...                utc=True)\n",
      "    DatetimeIndex(['2018-10-26 12:00:00+00:00', '2018-10-26 17:30:00+00:00',\n",
      "                   '2020-01-01 18:00:00+00:00', '2020-01-01 19:00:00+00:00'],\n",
      "                  dtype='datetime64[ns, UTC]', freq=None)\n",
      "\n"
     ]
    }
   ],
   "source": [
    "help(pd.to_datetime)"
   ]
  },
  {
   "cell_type": "code",
   "execution_count": 94,
   "id": "f529bd51",
   "metadata": {},
   "outputs": [
    {
     "data": {
      "text/html": [
       "<div>\n",
       "<style scoped>\n",
       "    .dataframe tbody tr th:only-of-type {\n",
       "        vertical-align: middle;\n",
       "    }\n",
       "\n",
       "    .dataframe tbody tr th {\n",
       "        vertical-align: top;\n",
       "    }\n",
       "\n",
       "    .dataframe thead th {\n",
       "        text-align: right;\n",
       "    }\n",
       "</style>\n",
       "<table border=\"1\" class=\"dataframe\">\n",
       "  <thead>\n",
       "    <tr style=\"text-align: right;\">\n",
       "      <th></th>\n",
       "      <th>이름</th>\n",
       "      <th>성적</th>\n",
       "      <th>생일</th>\n",
       "    </tr>\n",
       "  </thead>\n",
       "  <tbody>\n",
       "    <tr>\n",
       "      <th>0</th>\n",
       "      <td>홍길동</td>\n",
       "      <td>99</td>\n",
       "      <td>1999/1/1</td>\n",
       "    </tr>\n",
       "    <tr>\n",
       "      <th>1</th>\n",
       "      <td>장길산</td>\n",
       "      <td>85</td>\n",
       "      <td>1987/3/1</td>\n",
       "    </tr>\n",
       "    <tr>\n",
       "      <th>2</th>\n",
       "      <td>둘리</td>\n",
       "      <td>51</td>\n",
       "      <td>2005/5/5</td>\n",
       "    </tr>\n",
       "  </tbody>\n",
       "</table>\n",
       "</div>"
      ],
      "text/plain": [
       "    이름  성적        생일\n",
       "0  홍길동  99  1999/1/1\n",
       "1  장길산  85  1987/3/1\n",
       "2   둘리  51  2005/5/5"
      ]
     },
     "execution_count": 94,
     "metadata": {},
     "output_type": "execute_result"
    }
   ],
   "source": [
    "d"
   ]
  },
  {
   "cell_type": "code",
   "execution_count": 95,
   "id": "db18d27c",
   "metadata": {},
   "outputs": [
    {
     "name": "stdout",
     "output_type": "stream",
     "text": [
      "<class 'pandas.core.frame.DataFrame'>\n",
      "RangeIndex: 3 entries, 0 to 2\n",
      "Data columns (total 3 columns):\n",
      " #   Column  Non-Null Count  Dtype \n",
      "---  ------  --------------  ----- \n",
      " 0   이름      3 non-null      object\n",
      " 1   성적      3 non-null      int64 \n",
      " 2   생일      3 non-null      object\n",
      "dtypes: int64(1), object(2)\n",
      "memory usage: 200.0+ bytes\n"
     ]
    }
   ],
   "source": [
    "d.info()"
   ]
  },
  {
   "cell_type": "code",
   "execution_count": 96,
   "id": "4a579838",
   "metadata": {},
   "outputs": [
    {
     "data": {
      "text/html": [
       "<div>\n",
       "<style scoped>\n",
       "    .dataframe tbody tr th:only-of-type {\n",
       "        vertical-align: middle;\n",
       "    }\n",
       "\n",
       "    .dataframe tbody tr th {\n",
       "        vertical-align: top;\n",
       "    }\n",
       "\n",
       "    .dataframe thead th {\n",
       "        text-align: right;\n",
       "    }\n",
       "</style>\n",
       "<table border=\"1\" class=\"dataframe\">\n",
       "  <thead>\n",
       "    <tr style=\"text-align: right;\">\n",
       "      <th></th>\n",
       "      <th>이름</th>\n",
       "      <th>성적</th>\n",
       "      <th>생일</th>\n",
       "      <th>생일2</th>\n",
       "    </tr>\n",
       "  </thead>\n",
       "  <tbody>\n",
       "    <tr>\n",
       "      <th>0</th>\n",
       "      <td>홍길동</td>\n",
       "      <td>99</td>\n",
       "      <td>1999/1/1</td>\n",
       "      <td>1999-01-01</td>\n",
       "    </tr>\n",
       "    <tr>\n",
       "      <th>1</th>\n",
       "      <td>장길산</td>\n",
       "      <td>85</td>\n",
       "      <td>1987/3/1</td>\n",
       "      <td>1987-03-01</td>\n",
       "    </tr>\n",
       "    <tr>\n",
       "      <th>2</th>\n",
       "      <td>둘리</td>\n",
       "      <td>51</td>\n",
       "      <td>2005/5/5</td>\n",
       "      <td>2005-05-05</td>\n",
       "    </tr>\n",
       "  </tbody>\n",
       "</table>\n",
       "</div>"
      ],
      "text/plain": [
       "    이름  성적        생일        생일2\n",
       "0  홍길동  99  1999/1/1 1999-01-01\n",
       "1  장길산  85  1987/3/1 1987-03-01\n",
       "2   둘리  51  2005/5/5 2005-05-05"
      ]
     },
     "execution_count": 96,
     "metadata": {},
     "output_type": "execute_result"
    }
   ],
   "source": [
    "d['생일2'] = pd.to_datetime(d.생일, format='%Y/%m/%d')\n",
    "d"
   ]
  },
  {
   "cell_type": "code",
   "execution_count": 97,
   "id": "1a20dbd9",
   "metadata": {},
   "outputs": [
    {
     "name": "stdout",
     "output_type": "stream",
     "text": [
      "<class 'pandas.core.frame.DataFrame'>\n",
      "RangeIndex: 3 entries, 0 to 2\n",
      "Data columns (total 4 columns):\n",
      " #   Column  Non-Null Count  Dtype         \n",
      "---  ------  --------------  -----         \n",
      " 0   이름      3 non-null      object        \n",
      " 1   성적      3 non-null      int64         \n",
      " 2   생일      3 non-null      object        \n",
      " 3   생일2     3 non-null      datetime64[ns]\n",
      "dtypes: datetime64[ns](1), int64(1), object(2)\n",
      "memory usage: 224.0+ bytes\n"
     ]
    }
   ],
   "source": [
    "d.info()"
   ]
  },
  {
   "cell_type": "code",
   "execution_count": 98,
   "id": "34730eb7",
   "metadata": {},
   "outputs": [
    {
     "data": {
      "text/plain": [
       "0    1999\n",
       "1    1987\n",
       "2    2005\n",
       "Name: 생일2, dtype: int64"
      ]
     },
     "execution_count": 98,
     "metadata": {},
     "output_type": "execute_result"
    }
   ],
   "source": [
    "d.생일2.dt.year"
   ]
  },
  {
   "cell_type": "code",
   "execution_count": 99,
   "id": "a9e4fc14",
   "metadata": {},
   "outputs": [
    {
     "data": {
      "text/html": [
       "<div>\n",
       "<style scoped>\n",
       "    .dataframe tbody tr th:only-of-type {\n",
       "        vertical-align: middle;\n",
       "    }\n",
       "\n",
       "    .dataframe tbody tr th {\n",
       "        vertical-align: top;\n",
       "    }\n",
       "\n",
       "    .dataframe thead th {\n",
       "        text-align: right;\n",
       "    }\n",
       "</style>\n",
       "<table border=\"1\" class=\"dataframe\">\n",
       "  <thead>\n",
       "    <tr style=\"text-align: right;\">\n",
       "      <th></th>\n",
       "      <th>이름</th>\n",
       "      <th>성적</th>\n",
       "      <th>생일</th>\n",
       "      <th>생일2</th>\n",
       "      <th>year</th>\n",
       "    </tr>\n",
       "  </thead>\n",
       "  <tbody>\n",
       "    <tr>\n",
       "      <th>0</th>\n",
       "      <td>홍길동</td>\n",
       "      <td>99</td>\n",
       "      <td>1999/1/1</td>\n",
       "      <td>1999-01-01</td>\n",
       "      <td>1999</td>\n",
       "    </tr>\n",
       "    <tr>\n",
       "      <th>1</th>\n",
       "      <td>장길산</td>\n",
       "      <td>85</td>\n",
       "      <td>1987/3/1</td>\n",
       "      <td>1987-03-01</td>\n",
       "      <td>1987</td>\n",
       "    </tr>\n",
       "    <tr>\n",
       "      <th>2</th>\n",
       "      <td>둘리</td>\n",
       "      <td>51</td>\n",
       "      <td>2005/5/5</td>\n",
       "      <td>2005-05-05</td>\n",
       "      <td>2005</td>\n",
       "    </tr>\n",
       "  </tbody>\n",
       "</table>\n",
       "</div>"
      ],
      "text/plain": [
       "    이름  성적        생일        생일2  year\n",
       "0  홍길동  99  1999/1/1 1999-01-01  1999\n",
       "1  장길산  85  1987/3/1 1987-03-01  1987\n",
       "2   둘리  51  2005/5/5 2005-05-05  2005"
      ]
     },
     "execution_count": 99,
     "metadata": {},
     "output_type": "execute_result"
    }
   ],
   "source": [
    "d['year'] = d.생일2.dt.year\n",
    "d"
   ]
  },
  {
   "cell_type": "code",
   "execution_count": 100,
   "id": "8daa2f61",
   "metadata": {},
   "outputs": [
    {
     "data": {
      "text/html": [
       "<div>\n",
       "<style scoped>\n",
       "    .dataframe tbody tr th:only-of-type {\n",
       "        vertical-align: middle;\n",
       "    }\n",
       "\n",
       "    .dataframe tbody tr th {\n",
       "        vertical-align: top;\n",
       "    }\n",
       "\n",
       "    .dataframe thead th {\n",
       "        text-align: right;\n",
       "    }\n",
       "</style>\n",
       "<table border=\"1\" class=\"dataframe\">\n",
       "  <thead>\n",
       "    <tr style=\"text-align: right;\">\n",
       "      <th></th>\n",
       "      <th>이름</th>\n",
       "      <th>성적</th>\n",
       "      <th>생일</th>\n",
       "      <th>생일2</th>\n",
       "      <th>year</th>\n",
       "      <th>month</th>\n",
       "      <th>day</th>\n",
       "      <th>요일</th>\n",
       "    </tr>\n",
       "  </thead>\n",
       "  <tbody>\n",
       "    <tr>\n",
       "      <th>0</th>\n",
       "      <td>홍길동</td>\n",
       "      <td>99</td>\n",
       "      <td>1999/1/1</td>\n",
       "      <td>1999-01-01</td>\n",
       "      <td>1999</td>\n",
       "      <td>1</td>\n",
       "      <td>1</td>\n",
       "      <td>4</td>\n",
       "    </tr>\n",
       "    <tr>\n",
       "      <th>1</th>\n",
       "      <td>장길산</td>\n",
       "      <td>85</td>\n",
       "      <td>1987/3/1</td>\n",
       "      <td>1987-03-01</td>\n",
       "      <td>1987</td>\n",
       "      <td>3</td>\n",
       "      <td>1</td>\n",
       "      <td>6</td>\n",
       "    </tr>\n",
       "    <tr>\n",
       "      <th>2</th>\n",
       "      <td>둘리</td>\n",
       "      <td>51</td>\n",
       "      <td>2005/5/5</td>\n",
       "      <td>2005-05-05</td>\n",
       "      <td>2005</td>\n",
       "      <td>5</td>\n",
       "      <td>5</td>\n",
       "      <td>3</td>\n",
       "    </tr>\n",
       "  </tbody>\n",
       "</table>\n",
       "</div>"
      ],
      "text/plain": [
       "    이름  성적        생일        생일2  year  month  day  요일\n",
       "0  홍길동  99  1999/1/1 1999-01-01  1999      1    1   4\n",
       "1  장길산  85  1987/3/1 1987-03-01  1987      3    1   6\n",
       "2   둘리  51  2005/5/5 2005-05-05  2005      5    5   3"
      ]
     },
     "execution_count": 100,
     "metadata": {},
     "output_type": "execute_result"
    }
   ],
   "source": [
    "d['month'] = d.생일2.dt.month\n",
    "d['day'] = d.생일2.dt.day\n",
    "d['요일'] = d.생일2.dt.dayofweek # 0:월, 1:화, 6:일\n",
    "d"
   ]
  },
  {
   "cell_type": "code",
   "execution_count": null,
   "id": "6a1e21b4",
   "metadata": {},
   "outputs": [],
   "source": []
  },
  {
   "cell_type": "code",
   "execution_count": 101,
   "id": "646fa1d4",
   "metadata": {},
   "outputs": [
    {
     "data": {
      "text/plain": [
       "DatetimeIndex(['2023-01-01', '2023-01-02', '2023-01-03', '2023-01-04',\n",
       "               '2023-01-05', '2023-01-06', '2023-01-07', '2023-01-08',\n",
       "               '2023-01-09', '2023-01-10', '2023-01-11', '2023-01-12',\n",
       "               '2023-01-13', '2023-01-14', '2023-01-15', '2023-01-16',\n",
       "               '2023-01-17', '2023-01-18', '2023-01-19', '2023-01-20',\n",
       "               '2023-01-21', '2023-01-22', '2023-01-23', '2023-01-24',\n",
       "               '2023-01-25', '2023-01-26', '2023-01-27', '2023-01-28',\n",
       "               '2023-01-29', '2023-01-30', '2023-01-31', '2023-02-01',\n",
       "               '2023-02-02', '2023-02-03', '2023-02-04', '2023-02-05',\n",
       "               '2023-02-06', '2023-02-07', '2023-02-08', '2023-02-09',\n",
       "               '2023-02-10', '2023-02-11', '2023-02-12', '2023-02-13',\n",
       "               '2023-02-14', '2023-02-15', '2023-02-16', '2023-02-17',\n",
       "               '2023-02-18', '2023-02-19', '2023-02-20', '2023-02-21',\n",
       "               '2023-02-22', '2023-02-23', '2023-02-24', '2023-02-25',\n",
       "               '2023-02-26', '2023-02-27', '2023-02-28', '2023-03-01'],\n",
       "              dtype='datetime64[ns]', freq='D')"
      ]
     },
     "execution_count": 101,
     "metadata": {},
     "output_type": "execute_result"
    }
   ],
   "source": [
    "pd.date_range('2023/1/1', '2023/3/1')"
   ]
  },
  {
   "cell_type": "code",
   "execution_count": null,
   "id": "72a7bf14",
   "metadata": {},
   "outputs": [],
   "source": []
  },
  {
   "cell_type": "markdown",
   "id": "46bd6c00",
   "metadata": {},
   "source": [
    "### 문자열 처리"
   ]
  },
  {
   "cell_type": "code",
   "execution_count": 102,
   "id": "2f0de9ff",
   "metadata": {},
   "outputs": [
    {
     "data": {
      "text/html": [
       "<div>\n",
       "<style scoped>\n",
       "    .dataframe tbody tr th:only-of-type {\n",
       "        vertical-align: middle;\n",
       "    }\n",
       "\n",
       "    .dataframe tbody tr th {\n",
       "        vertical-align: top;\n",
       "    }\n",
       "\n",
       "    .dataframe thead th {\n",
       "        text-align: right;\n",
       "    }\n",
       "</style>\n",
       "<table border=\"1\" class=\"dataframe\">\n",
       "  <thead>\n",
       "    <tr style=\"text-align: right;\">\n",
       "      <th></th>\n",
       "      <th>이름</th>\n",
       "      <th>성적</th>\n",
       "      <th>생일</th>\n",
       "      <th>생일2</th>\n",
       "      <th>year</th>\n",
       "      <th>month</th>\n",
       "      <th>day</th>\n",
       "      <th>요일</th>\n",
       "    </tr>\n",
       "  </thead>\n",
       "  <tbody>\n",
       "    <tr>\n",
       "      <th>0</th>\n",
       "      <td>홍길동</td>\n",
       "      <td>99</td>\n",
       "      <td>1999/1/1</td>\n",
       "      <td>1999-01-01</td>\n",
       "      <td>1999</td>\n",
       "      <td>1</td>\n",
       "      <td>1</td>\n",
       "      <td>4</td>\n",
       "    </tr>\n",
       "    <tr>\n",
       "      <th>1</th>\n",
       "      <td>장길산</td>\n",
       "      <td>85</td>\n",
       "      <td>1987/3/1</td>\n",
       "      <td>1987-03-01</td>\n",
       "      <td>1987</td>\n",
       "      <td>3</td>\n",
       "      <td>1</td>\n",
       "      <td>6</td>\n",
       "    </tr>\n",
       "    <tr>\n",
       "      <th>2</th>\n",
       "      <td>둘리</td>\n",
       "      <td>51</td>\n",
       "      <td>2005/5/5</td>\n",
       "      <td>2005-05-05</td>\n",
       "      <td>2005</td>\n",
       "      <td>5</td>\n",
       "      <td>5</td>\n",
       "      <td>3</td>\n",
       "    </tr>\n",
       "  </tbody>\n",
       "</table>\n",
       "</div>"
      ],
      "text/plain": [
       "    이름  성적        생일        생일2  year  month  day  요일\n",
       "0  홍길동  99  1999/1/1 1999-01-01  1999      1    1   4\n",
       "1  장길산  85  1987/3/1 1987-03-01  1987      3    1   6\n",
       "2   둘리  51  2005/5/5 2005-05-05  2005      5    5   3"
      ]
     },
     "execution_count": 102,
     "metadata": {},
     "output_type": "execute_result"
    }
   ],
   "source": [
    "d"
   ]
  },
  {
   "cell_type": "code",
   "execution_count": 103,
   "id": "807cfc0d",
   "metadata": {},
   "outputs": [
    {
     "data": {
      "text/plain": [
       "0    홍\n",
       "1    장\n",
       "2    둘\n",
       "Name: 이름, dtype: object"
      ]
     },
     "execution_count": 103,
     "metadata": {},
     "output_type": "execute_result"
    }
   ],
   "source": [
    "d.이름.str[0]"
   ]
  },
  {
   "cell_type": "code",
   "execution_count": 104,
   "id": "13263ee7",
   "metadata": {},
   "outputs": [
    {
     "data": {
      "text/plain": [
       "0    길동\n",
       "1    길산\n",
       "2     리\n",
       "Name: 이름, dtype: object"
      ]
     },
     "execution_count": 104,
     "metadata": {},
     "output_type": "execute_result"
    }
   ],
   "source": [
    "d.이름.str[1:]"
   ]
  },
  {
   "cell_type": "code",
   "execution_count": 105,
   "id": "9c1127d9",
   "metadata": {},
   "outputs": [
    {
     "data": {
      "text/html": [
       "<div>\n",
       "<style scoped>\n",
       "    .dataframe tbody tr th:only-of-type {\n",
       "        vertical-align: middle;\n",
       "    }\n",
       "\n",
       "    .dataframe tbody tr th {\n",
       "        vertical-align: top;\n",
       "    }\n",
       "\n",
       "    .dataframe thead th {\n",
       "        text-align: right;\n",
       "    }\n",
       "</style>\n",
       "<table border=\"1\" class=\"dataframe\">\n",
       "  <thead>\n",
       "    <tr style=\"text-align: right;\">\n",
       "      <th></th>\n",
       "      <th>이름</th>\n",
       "      <th>성적</th>\n",
       "      <th>생일</th>\n",
       "      <th>생일2</th>\n",
       "      <th>year</th>\n",
       "      <th>month</th>\n",
       "      <th>day</th>\n",
       "      <th>요일</th>\n",
       "      <th>성</th>\n",
       "    </tr>\n",
       "  </thead>\n",
       "  <tbody>\n",
       "    <tr>\n",
       "      <th>0</th>\n",
       "      <td>홍길동</td>\n",
       "      <td>99</td>\n",
       "      <td>1999/1/1</td>\n",
       "      <td>1999-01-01</td>\n",
       "      <td>1999</td>\n",
       "      <td>1</td>\n",
       "      <td>1</td>\n",
       "      <td>4</td>\n",
       "      <td>홍</td>\n",
       "    </tr>\n",
       "    <tr>\n",
       "      <th>1</th>\n",
       "      <td>장길산</td>\n",
       "      <td>85</td>\n",
       "      <td>1987/3/1</td>\n",
       "      <td>1987-03-01</td>\n",
       "      <td>1987</td>\n",
       "      <td>3</td>\n",
       "      <td>1</td>\n",
       "      <td>6</td>\n",
       "      <td>장</td>\n",
       "    </tr>\n",
       "    <tr>\n",
       "      <th>2</th>\n",
       "      <td>둘리</td>\n",
       "      <td>51</td>\n",
       "      <td>2005/5/5</td>\n",
       "      <td>2005-05-05</td>\n",
       "      <td>2005</td>\n",
       "      <td>5</td>\n",
       "      <td>5</td>\n",
       "      <td>3</td>\n",
       "      <td>둘</td>\n",
       "    </tr>\n",
       "  </tbody>\n",
       "</table>\n",
       "</div>"
      ],
      "text/plain": [
       "    이름  성적        생일        생일2  year  month  day  요일  성\n",
       "0  홍길동  99  1999/1/1 1999-01-01  1999      1    1   4  홍\n",
       "1  장길산  85  1987/3/1 1987-03-01  1987      3    1   6  장\n",
       "2   둘리  51  2005/5/5 2005-05-05  2005      5    5   3  둘"
      ]
     },
     "execution_count": 105,
     "metadata": {},
     "output_type": "execute_result"
    }
   ],
   "source": [
    "d['성'] = d.이름.str[0]\n",
    "d"
   ]
  },
  {
   "cell_type": "code",
   "execution_count": null,
   "id": "87991392",
   "metadata": {},
   "outputs": [],
   "source": []
  },
  {
   "cell_type": "markdown",
   "id": "d43c3143",
   "metadata": {},
   "source": [
    "### value_counts()"
   ]
  },
  {
   "cell_type": "code",
   "execution_count": 107,
   "id": "e8902fa5",
   "metadata": {},
   "outputs": [
    {
     "data": {
      "text/html": [
       "<div>\n",
       "<style scoped>\n",
       "    .dataframe tbody tr th:only-of-type {\n",
       "        vertical-align: middle;\n",
       "    }\n",
       "\n",
       "    .dataframe tbody tr th {\n",
       "        vertical-align: top;\n",
       "    }\n",
       "\n",
       "    .dataframe thead th {\n",
       "        text-align: right;\n",
       "    }\n",
       "</style>\n",
       "<table border=\"1\" class=\"dataframe\">\n",
       "  <thead>\n",
       "    <tr style=\"text-align: right;\">\n",
       "      <th></th>\n",
       "      <th>Country name</th>\n",
       "      <th>Regional indicator</th>\n",
       "      <th>Ladder score</th>\n",
       "      <th>Standard error of ladder score</th>\n",
       "      <th>upperwhisker</th>\n",
       "      <th>lowerwhisker</th>\n",
       "      <th>Logged GDP per capita</th>\n",
       "      <th>Social support</th>\n",
       "      <th>Healthy life expectancy</th>\n",
       "      <th>Freedom to make life choices</th>\n",
       "      <th>Generosity</th>\n",
       "      <th>Perceptions of corruption</th>\n",
       "      <th>Ladder score in Dystopia</th>\n",
       "      <th>Explained by: Log GDP per capita</th>\n",
       "      <th>Explained by: Social support</th>\n",
       "      <th>Explained by: Healthy life expectancy</th>\n",
       "      <th>Explained by: Freedom to make life choices</th>\n",
       "      <th>Explained by: Generosity</th>\n",
       "      <th>Explained by: Perceptions of corruption</th>\n",
       "      <th>Dystopia + residual</th>\n",
       "    </tr>\n",
       "  </thead>\n",
       "  <tbody>\n",
       "    <tr>\n",
       "      <th>0</th>\n",
       "      <td>Finland</td>\n",
       "      <td>Western Europe</td>\n",
       "      <td>7.842</td>\n",
       "      <td>0.032</td>\n",
       "      <td>7.904</td>\n",
       "      <td>7.780</td>\n",
       "      <td>10.775</td>\n",
       "      <td>0.954</td>\n",
       "      <td>72.000</td>\n",
       "      <td>0.949</td>\n",
       "      <td>-0.098</td>\n",
       "      <td>0.186</td>\n",
       "      <td>2.43</td>\n",
       "      <td>1.446</td>\n",
       "      <td>1.106</td>\n",
       "      <td>0.741</td>\n",
       "      <td>0.691</td>\n",
       "      <td>0.124</td>\n",
       "      <td>0.481</td>\n",
       "      <td>3.253</td>\n",
       "    </tr>\n",
       "    <tr>\n",
       "      <th>1</th>\n",
       "      <td>Denmark</td>\n",
       "      <td>Western Europe</td>\n",
       "      <td>7.620</td>\n",
       "      <td>0.035</td>\n",
       "      <td>7.687</td>\n",
       "      <td>7.552</td>\n",
       "      <td>10.933</td>\n",
       "      <td>0.954</td>\n",
       "      <td>72.700</td>\n",
       "      <td>0.946</td>\n",
       "      <td>0.030</td>\n",
       "      <td>0.179</td>\n",
       "      <td>2.43</td>\n",
       "      <td>1.502</td>\n",
       "      <td>1.108</td>\n",
       "      <td>0.763</td>\n",
       "      <td>0.686</td>\n",
       "      <td>0.208</td>\n",
       "      <td>0.485</td>\n",
       "      <td>2.868</td>\n",
       "    </tr>\n",
       "    <tr>\n",
       "      <th>2</th>\n",
       "      <td>Switzerland</td>\n",
       "      <td>Western Europe</td>\n",
       "      <td>7.571</td>\n",
       "      <td>0.036</td>\n",
       "      <td>7.643</td>\n",
       "      <td>7.500</td>\n",
       "      <td>11.117</td>\n",
       "      <td>0.942</td>\n",
       "      <td>74.400</td>\n",
       "      <td>0.919</td>\n",
       "      <td>0.025</td>\n",
       "      <td>0.292</td>\n",
       "      <td>2.43</td>\n",
       "      <td>1.566</td>\n",
       "      <td>1.079</td>\n",
       "      <td>0.816</td>\n",
       "      <td>0.653</td>\n",
       "      <td>0.204</td>\n",
       "      <td>0.413</td>\n",
       "      <td>2.839</td>\n",
       "    </tr>\n",
       "    <tr>\n",
       "      <th>3</th>\n",
       "      <td>Iceland</td>\n",
       "      <td>Western Europe</td>\n",
       "      <td>7.554</td>\n",
       "      <td>0.059</td>\n",
       "      <td>7.670</td>\n",
       "      <td>7.438</td>\n",
       "      <td>10.878</td>\n",
       "      <td>0.983</td>\n",
       "      <td>73.000</td>\n",
       "      <td>0.955</td>\n",
       "      <td>0.160</td>\n",
       "      <td>0.673</td>\n",
       "      <td>2.43</td>\n",
       "      <td>1.482</td>\n",
       "      <td>1.172</td>\n",
       "      <td>0.772</td>\n",
       "      <td>0.698</td>\n",
       "      <td>0.293</td>\n",
       "      <td>0.170</td>\n",
       "      <td>2.967</td>\n",
       "    </tr>\n",
       "    <tr>\n",
       "      <th>4</th>\n",
       "      <td>Netherlands</td>\n",
       "      <td>Western Europe</td>\n",
       "      <td>7.464</td>\n",
       "      <td>0.027</td>\n",
       "      <td>7.518</td>\n",
       "      <td>7.410</td>\n",
       "      <td>10.932</td>\n",
       "      <td>0.942</td>\n",
       "      <td>72.400</td>\n",
       "      <td>0.913</td>\n",
       "      <td>0.175</td>\n",
       "      <td>0.338</td>\n",
       "      <td>2.43</td>\n",
       "      <td>1.501</td>\n",
       "      <td>1.079</td>\n",
       "      <td>0.753</td>\n",
       "      <td>0.647</td>\n",
       "      <td>0.302</td>\n",
       "      <td>0.384</td>\n",
       "      <td>2.798</td>\n",
       "    </tr>\n",
       "    <tr>\n",
       "      <th>...</th>\n",
       "      <td>...</td>\n",
       "      <td>...</td>\n",
       "      <td>...</td>\n",
       "      <td>...</td>\n",
       "      <td>...</td>\n",
       "      <td>...</td>\n",
       "      <td>...</td>\n",
       "      <td>...</td>\n",
       "      <td>...</td>\n",
       "      <td>...</td>\n",
       "      <td>...</td>\n",
       "      <td>...</td>\n",
       "      <td>...</td>\n",
       "      <td>...</td>\n",
       "      <td>...</td>\n",
       "      <td>...</td>\n",
       "      <td>...</td>\n",
       "      <td>...</td>\n",
       "      <td>...</td>\n",
       "      <td>...</td>\n",
       "    </tr>\n",
       "    <tr>\n",
       "      <th>144</th>\n",
       "      <td>Lesotho</td>\n",
       "      <td>Sub-Saharan Africa</td>\n",
       "      <td>3.512</td>\n",
       "      <td>0.120</td>\n",
       "      <td>3.748</td>\n",
       "      <td>3.276</td>\n",
       "      <td>7.926</td>\n",
       "      <td>0.787</td>\n",
       "      <td>48.700</td>\n",
       "      <td>0.715</td>\n",
       "      <td>-0.131</td>\n",
       "      <td>0.915</td>\n",
       "      <td>2.43</td>\n",
       "      <td>0.451</td>\n",
       "      <td>0.731</td>\n",
       "      <td>0.007</td>\n",
       "      <td>0.405</td>\n",
       "      <td>0.103</td>\n",
       "      <td>0.015</td>\n",
       "      <td>1.800</td>\n",
       "    </tr>\n",
       "    <tr>\n",
       "      <th>145</th>\n",
       "      <td>Botswana</td>\n",
       "      <td>Sub-Saharan Africa</td>\n",
       "      <td>3.467</td>\n",
       "      <td>0.074</td>\n",
       "      <td>3.611</td>\n",
       "      <td>3.322</td>\n",
       "      <td>9.782</td>\n",
       "      <td>0.784</td>\n",
       "      <td>59.269</td>\n",
       "      <td>0.824</td>\n",
       "      <td>-0.246</td>\n",
       "      <td>0.801</td>\n",
       "      <td>2.43</td>\n",
       "      <td>1.099</td>\n",
       "      <td>0.724</td>\n",
       "      <td>0.340</td>\n",
       "      <td>0.539</td>\n",
       "      <td>0.027</td>\n",
       "      <td>0.088</td>\n",
       "      <td>0.648</td>\n",
       "    </tr>\n",
       "    <tr>\n",
       "      <th>146</th>\n",
       "      <td>Rwanda</td>\n",
       "      <td>Sub-Saharan Africa</td>\n",
       "      <td>3.415</td>\n",
       "      <td>0.068</td>\n",
       "      <td>3.548</td>\n",
       "      <td>3.282</td>\n",
       "      <td>7.676</td>\n",
       "      <td>0.552</td>\n",
       "      <td>61.400</td>\n",
       "      <td>0.897</td>\n",
       "      <td>0.061</td>\n",
       "      <td>0.167</td>\n",
       "      <td>2.43</td>\n",
       "      <td>0.364</td>\n",
       "      <td>0.202</td>\n",
       "      <td>0.407</td>\n",
       "      <td>0.627</td>\n",
       "      <td>0.227</td>\n",
       "      <td>0.493</td>\n",
       "      <td>1.095</td>\n",
       "    </tr>\n",
       "    <tr>\n",
       "      <th>147</th>\n",
       "      <td>Zimbabwe</td>\n",
       "      <td>Sub-Saharan Africa</td>\n",
       "      <td>3.145</td>\n",
       "      <td>0.058</td>\n",
       "      <td>3.259</td>\n",
       "      <td>3.030</td>\n",
       "      <td>7.943</td>\n",
       "      <td>0.750</td>\n",
       "      <td>56.201</td>\n",
       "      <td>0.677</td>\n",
       "      <td>-0.047</td>\n",
       "      <td>0.821</td>\n",
       "      <td>2.43</td>\n",
       "      <td>0.457</td>\n",
       "      <td>0.649</td>\n",
       "      <td>0.243</td>\n",
       "      <td>0.359</td>\n",
       "      <td>0.157</td>\n",
       "      <td>0.075</td>\n",
       "      <td>1.205</td>\n",
       "    </tr>\n",
       "    <tr>\n",
       "      <th>148</th>\n",
       "      <td>Afghanistan</td>\n",
       "      <td>South Asia</td>\n",
       "      <td>2.523</td>\n",
       "      <td>0.038</td>\n",
       "      <td>2.596</td>\n",
       "      <td>2.449</td>\n",
       "      <td>7.695</td>\n",
       "      <td>0.463</td>\n",
       "      <td>52.493</td>\n",
       "      <td>0.382</td>\n",
       "      <td>-0.102</td>\n",
       "      <td>0.924</td>\n",
       "      <td>2.43</td>\n",
       "      <td>0.370</td>\n",
       "      <td>0.000</td>\n",
       "      <td>0.126</td>\n",
       "      <td>0.000</td>\n",
       "      <td>0.122</td>\n",
       "      <td>0.010</td>\n",
       "      <td>1.895</td>\n",
       "    </tr>\n",
       "  </tbody>\n",
       "</table>\n",
       "<p>149 rows × 20 columns</p>\n",
       "</div>"
      ],
      "text/plain": [
       "    Country name  Regional indicator  Ladder score  \\\n",
       "0        Finland      Western Europe         7.842   \n",
       "1        Denmark      Western Europe         7.620   \n",
       "2    Switzerland      Western Europe         7.571   \n",
       "3        Iceland      Western Europe         7.554   \n",
       "4    Netherlands      Western Europe         7.464   \n",
       "..           ...                 ...           ...   \n",
       "144      Lesotho  Sub-Saharan Africa         3.512   \n",
       "145     Botswana  Sub-Saharan Africa         3.467   \n",
       "146       Rwanda  Sub-Saharan Africa         3.415   \n",
       "147     Zimbabwe  Sub-Saharan Africa         3.145   \n",
       "148  Afghanistan          South Asia         2.523   \n",
       "\n",
       "     Standard error of ladder score  upperwhisker  lowerwhisker  \\\n",
       "0                             0.032         7.904         7.780   \n",
       "1                             0.035         7.687         7.552   \n",
       "2                             0.036         7.643         7.500   \n",
       "3                             0.059         7.670         7.438   \n",
       "4                             0.027         7.518         7.410   \n",
       "..                              ...           ...           ...   \n",
       "144                           0.120         3.748         3.276   \n",
       "145                           0.074         3.611         3.322   \n",
       "146                           0.068         3.548         3.282   \n",
       "147                           0.058         3.259         3.030   \n",
       "148                           0.038         2.596         2.449   \n",
       "\n",
       "     Logged GDP per capita  Social support  Healthy life expectancy  \\\n",
       "0                   10.775           0.954                   72.000   \n",
       "1                   10.933           0.954                   72.700   \n",
       "2                   11.117           0.942                   74.400   \n",
       "3                   10.878           0.983                   73.000   \n",
       "4                   10.932           0.942                   72.400   \n",
       "..                     ...             ...                      ...   \n",
       "144                  7.926           0.787                   48.700   \n",
       "145                  9.782           0.784                   59.269   \n",
       "146                  7.676           0.552                   61.400   \n",
       "147                  7.943           0.750                   56.201   \n",
       "148                  7.695           0.463                   52.493   \n",
       "\n",
       "     Freedom to make life choices  Generosity  Perceptions of corruption  \\\n",
       "0                           0.949      -0.098                      0.186   \n",
       "1                           0.946       0.030                      0.179   \n",
       "2                           0.919       0.025                      0.292   \n",
       "3                           0.955       0.160                      0.673   \n",
       "4                           0.913       0.175                      0.338   \n",
       "..                            ...         ...                        ...   \n",
       "144                         0.715      -0.131                      0.915   \n",
       "145                         0.824      -0.246                      0.801   \n",
       "146                         0.897       0.061                      0.167   \n",
       "147                         0.677      -0.047                      0.821   \n",
       "148                         0.382      -0.102                      0.924   \n",
       "\n",
       "     Ladder score in Dystopia  Explained by: Log GDP per capita  \\\n",
       "0                        2.43                             1.446   \n",
       "1                        2.43                             1.502   \n",
       "2                        2.43                             1.566   \n",
       "3                        2.43                             1.482   \n",
       "4                        2.43                             1.501   \n",
       "..                        ...                               ...   \n",
       "144                      2.43                             0.451   \n",
       "145                      2.43                             1.099   \n",
       "146                      2.43                             0.364   \n",
       "147                      2.43                             0.457   \n",
       "148                      2.43                             0.370   \n",
       "\n",
       "     Explained by: Social support  Explained by: Healthy life expectancy  \\\n",
       "0                           1.106                                  0.741   \n",
       "1                           1.108                                  0.763   \n",
       "2                           1.079                                  0.816   \n",
       "3                           1.172                                  0.772   \n",
       "4                           1.079                                  0.753   \n",
       "..                            ...                                    ...   \n",
       "144                         0.731                                  0.007   \n",
       "145                         0.724                                  0.340   \n",
       "146                         0.202                                  0.407   \n",
       "147                         0.649                                  0.243   \n",
       "148                         0.000                                  0.126   \n",
       "\n",
       "     Explained by: Freedom to make life choices  Explained by: Generosity  \\\n",
       "0                                         0.691                     0.124   \n",
       "1                                         0.686                     0.208   \n",
       "2                                         0.653                     0.204   \n",
       "3                                         0.698                     0.293   \n",
       "4                                         0.647                     0.302   \n",
       "..                                          ...                       ...   \n",
       "144                                       0.405                     0.103   \n",
       "145                                       0.539                     0.027   \n",
       "146                                       0.627                     0.227   \n",
       "147                                       0.359                     0.157   \n",
       "148                                       0.000                     0.122   \n",
       "\n",
       "     Explained by: Perceptions of corruption  Dystopia + residual  \n",
       "0                                      0.481                3.253  \n",
       "1                                      0.485                2.868  \n",
       "2                                      0.413                2.839  \n",
       "3                                      0.170                2.967  \n",
       "4                                      0.384                2.798  \n",
       "..                                       ...                  ...  \n",
       "144                                    0.015                1.800  \n",
       "145                                    0.088                0.648  \n",
       "146                                    0.493                1.095  \n",
       "147                                    0.075                1.205  \n",
       "148                                    0.010                1.895  \n",
       "\n",
       "[149 rows x 20 columns]"
      ]
     },
     "execution_count": 107,
     "metadata": {},
     "output_type": "execute_result"
    }
   ],
   "source": [
    "data"
   ]
  },
  {
   "cell_type": "code",
   "execution_count": 108,
   "id": "af19450d",
   "metadata": {},
   "outputs": [
    {
     "data": {
      "text/plain": [
       "Sub-Saharan Africa                    36\n",
       "Western Europe                        21\n",
       "Latin America and Caribbean           20\n",
       "Middle East and North Africa          17\n",
       "Central and Eastern Europe            17\n",
       "Commonwealth of Independent States    12\n",
       "Southeast Asia                         9\n",
       "South Asia                             7\n",
       "East Asia                              6\n",
       "North America and ANZ                  4\n",
       "Name: Regional indicator, dtype: int64"
      ]
     },
     "execution_count": 108,
     "metadata": {},
     "output_type": "execute_result"
    }
   ],
   "source": [
    "data['Regional indicator'].value_counts()"
   ]
  },
  {
   "cell_type": "code",
   "execution_count": 109,
   "id": "77816454",
   "metadata": {},
   "outputs": [
    {
     "data": {
      "text/plain": [
       "Central and Eastern Europe            17\n",
       "Commonwealth of Independent States    12\n",
       "East Asia                              6\n",
       "Latin America and Caribbean           20\n",
       "Middle East and North Africa          17\n",
       "North America and ANZ                  4\n",
       "South Asia                             7\n",
       "Southeast Asia                         9\n",
       "Sub-Saharan Africa                    36\n",
       "Western Europe                        21\n",
       "Name: Regional indicator, dtype: int64"
      ]
     },
     "execution_count": 109,
     "metadata": {},
     "output_type": "execute_result"
    }
   ],
   "source": [
    "data['Regional indicator'].value_counts().sort_index()"
   ]
  },
  {
   "cell_type": "code",
   "execution_count": null,
   "id": "dfda569c",
   "metadata": {},
   "outputs": [],
   "source": []
  },
  {
   "cell_type": "code",
   "execution_count": 110,
   "id": "9e754fa6",
   "metadata": {},
   "outputs": [
    {
     "data": {
      "text/html": [
       "<div>\n",
       "<style scoped>\n",
       "    .dataframe tbody tr th:only-of-type {\n",
       "        vertical-align: middle;\n",
       "    }\n",
       "\n",
       "    .dataframe tbody tr th {\n",
       "        vertical-align: top;\n",
       "    }\n",
       "\n",
       "    .dataframe thead th {\n",
       "        text-align: right;\n",
       "    }\n",
       "</style>\n",
       "<table border=\"1\" class=\"dataframe\">\n",
       "  <thead>\n",
       "    <tr style=\"text-align: right;\">\n",
       "      <th></th>\n",
       "      <th>이름</th>\n",
       "      <th>성적</th>\n",
       "      <th>생일</th>\n",
       "      <th>생일2</th>\n",
       "      <th>year</th>\n",
       "      <th>month</th>\n",
       "      <th>day</th>\n",
       "      <th>요일</th>\n",
       "      <th>성</th>\n",
       "    </tr>\n",
       "  </thead>\n",
       "  <tbody>\n",
       "    <tr>\n",
       "      <th>0</th>\n",
       "      <td>홍길동</td>\n",
       "      <td>99</td>\n",
       "      <td>1999/1/1</td>\n",
       "      <td>1999-01-01</td>\n",
       "      <td>1999</td>\n",
       "      <td>1</td>\n",
       "      <td>1</td>\n",
       "      <td>4</td>\n",
       "      <td>홍</td>\n",
       "    </tr>\n",
       "    <tr>\n",
       "      <th>1</th>\n",
       "      <td>장길산</td>\n",
       "      <td>85</td>\n",
       "      <td>1987/3/1</td>\n",
       "      <td>1987-03-01</td>\n",
       "      <td>1987</td>\n",
       "      <td>3</td>\n",
       "      <td>1</td>\n",
       "      <td>6</td>\n",
       "      <td>장</td>\n",
       "    </tr>\n",
       "    <tr>\n",
       "      <th>2</th>\n",
       "      <td>둘리</td>\n",
       "      <td>51</td>\n",
       "      <td>2005/5/5</td>\n",
       "      <td>2005-05-05</td>\n",
       "      <td>2005</td>\n",
       "      <td>5</td>\n",
       "      <td>5</td>\n",
       "      <td>3</td>\n",
       "      <td>둘</td>\n",
       "    </tr>\n",
       "  </tbody>\n",
       "</table>\n",
       "</div>"
      ],
      "text/plain": [
       "    이름  성적        생일        생일2  year  month  day  요일  성\n",
       "0  홍길동  99  1999/1/1 1999-01-01  1999      1    1   4  홍\n",
       "1  장길산  85  1987/3/1 1987-03-01  1987      3    1   6  장\n",
       "2   둘리  51  2005/5/5 2005-05-05  2005      5    5   3  둘"
      ]
     },
     "execution_count": 110,
     "metadata": {},
     "output_type": "execute_result"
    }
   ],
   "source": [
    "d"
   ]
  },
  {
   "cell_type": "code",
   "execution_count": 111,
   "id": "e1cfcb23",
   "metadata": {},
   "outputs": [
    {
     "name": "stdout",
     "output_type": "stream",
     "text": [
      "<class 'pandas.core.frame.DataFrame'>\n",
      "RangeIndex: 3 entries, 0 to 2\n",
      "Data columns (total 9 columns):\n",
      " #   Column  Non-Null Count  Dtype         \n",
      "---  ------  --------------  -----         \n",
      " 0   이름      3 non-null      object        \n",
      " 1   성적      3 non-null      int64         \n",
      " 2   생일      3 non-null      object        \n",
      " 3   생일2     3 non-null      datetime64[ns]\n",
      " 4   year    3 non-null      int64         \n",
      " 5   month   3 non-null      int64         \n",
      " 6   day     3 non-null      int64         \n",
      " 7   요일      3 non-null      int64         \n",
      " 8   성       3 non-null      object        \n",
      "dtypes: datetime64[ns](1), int64(5), object(3)\n",
      "memory usage: 344.0+ bytes\n"
     ]
    }
   ],
   "source": [
    "d.info() # null 값 유무 확인"
   ]
  },
  {
   "cell_type": "code",
   "execution_count": null,
   "id": "c8e59904",
   "metadata": {},
   "outputs": [],
   "source": []
  },
  {
   "cell_type": "markdown",
   "id": "b34a72c5",
   "metadata": {},
   "source": [
    "### 데이터 변환"
   ]
  },
  {
   "cell_type": "code",
   "execution_count": 112,
   "id": "5c6ffb12",
   "metadata": {},
   "outputs": [
    {
     "data": {
      "text/html": [
       "<div>\n",
       "<style scoped>\n",
       "    .dataframe tbody tr th:only-of-type {\n",
       "        vertical-align: middle;\n",
       "    }\n",
       "\n",
       "    .dataframe tbody tr th {\n",
       "        vertical-align: top;\n",
       "    }\n",
       "\n",
       "    .dataframe thead th {\n",
       "        text-align: right;\n",
       "    }\n",
       "</style>\n",
       "<table border=\"1\" class=\"dataframe\">\n",
       "  <thead>\n",
       "    <tr style=\"text-align: right;\">\n",
       "      <th></th>\n",
       "      <th>이름</th>\n",
       "      <th>성적</th>\n",
       "      <th>생일</th>\n",
       "      <th>생일2</th>\n",
       "      <th>year</th>\n",
       "      <th>month</th>\n",
       "      <th>day</th>\n",
       "      <th>요일</th>\n",
       "      <th>성</th>\n",
       "    </tr>\n",
       "  </thead>\n",
       "  <tbody>\n",
       "    <tr>\n",
       "      <th>0</th>\n",
       "      <td>홍길동</td>\n",
       "      <td>99</td>\n",
       "      <td>1999/1/1</td>\n",
       "      <td>1999-01-01</td>\n",
       "      <td>1999</td>\n",
       "      <td>1</td>\n",
       "      <td>1</td>\n",
       "      <td>4</td>\n",
       "      <td>홍</td>\n",
       "    </tr>\n",
       "    <tr>\n",
       "      <th>1</th>\n",
       "      <td>장길산</td>\n",
       "      <td>85</td>\n",
       "      <td>1987/3/1</td>\n",
       "      <td>1987-03-01</td>\n",
       "      <td>1987</td>\n",
       "      <td>3</td>\n",
       "      <td>1</td>\n",
       "      <td>6</td>\n",
       "      <td>장</td>\n",
       "    </tr>\n",
       "    <tr>\n",
       "      <th>2</th>\n",
       "      <td>둘리</td>\n",
       "      <td>51</td>\n",
       "      <td>2005/5/5</td>\n",
       "      <td>2005-05-05</td>\n",
       "      <td>2005</td>\n",
       "      <td>5</td>\n",
       "      <td>5</td>\n",
       "      <td>3</td>\n",
       "      <td>둘</td>\n",
       "    </tr>\n",
       "  </tbody>\n",
       "</table>\n",
       "</div>"
      ],
      "text/plain": [
       "    이름  성적        생일        생일2  year  month  day  요일  성\n",
       "0  홍길동  99  1999/1/1 1999-01-01  1999      1    1   4  홍\n",
       "1  장길산  85  1987/3/1 1987-03-01  1987      3    1   6  장\n",
       "2   둘리  51  2005/5/5 2005-05-05  2005      5    5   3  둘"
      ]
     },
     "execution_count": 112,
     "metadata": {},
     "output_type": "execute_result"
    }
   ],
   "source": [
    "d"
   ]
  },
  {
   "cell_type": "code",
   "execution_count": 113,
   "id": "ffe72497",
   "metadata": {},
   "outputs": [
    {
     "data": {
      "text/plain": [
       "0    89\n",
       "1    75\n",
       "2    41\n",
       "Name: 성적, dtype: int64"
      ]
     },
     "execution_count": 113,
     "metadata": {},
     "output_type": "execute_result"
    }
   ],
   "source": [
    "d.성적.map(lambda x: x-10)"
   ]
  },
  {
   "cell_type": "code",
   "execution_count": 114,
   "id": "1bdb3fd9",
   "metadata": {},
   "outputs": [
    {
     "data": {
      "text/plain": [
       "0    89\n",
       "1    75\n",
       "2    41\n",
       "Name: 성적, dtype: int64"
      ]
     },
     "execution_count": 114,
     "metadata": {},
     "output_type": "execute_result"
    }
   ],
   "source": [
    "d.성적 - 10"
   ]
  },
  {
   "cell_type": "code",
   "execution_count": 115,
   "id": "617896bb",
   "metadata": {},
   "outputs": [
    {
     "data": {
      "text/plain": [
       "0    금\n",
       "1    일\n",
       "2    목\n",
       "Name: 요일, dtype: object"
      ]
     },
     "execution_count": 115,
     "metadata": {},
     "output_type": "execute_result"
    }
   ],
   "source": [
    "yoil = {0:'월', 1:'화', 2:'수', 3:'목', 4:'금', 5:'토', 6:'일'}\n",
    "d.요일.map(yoil)"
   ]
  },
  {
   "cell_type": "code",
   "execution_count": 116,
   "id": "2989c932",
   "metadata": {},
   "outputs": [
    {
     "data": {
      "text/html": [
       "<div>\n",
       "<style scoped>\n",
       "    .dataframe tbody tr th:only-of-type {\n",
       "        vertical-align: middle;\n",
       "    }\n",
       "\n",
       "    .dataframe tbody tr th {\n",
       "        vertical-align: top;\n",
       "    }\n",
       "\n",
       "    .dataframe thead th {\n",
       "        text-align: right;\n",
       "    }\n",
       "</style>\n",
       "<table border=\"1\" class=\"dataframe\">\n",
       "  <thead>\n",
       "    <tr style=\"text-align: right;\">\n",
       "      <th></th>\n",
       "      <th>이름</th>\n",
       "      <th>성적</th>\n",
       "      <th>생일</th>\n",
       "      <th>생일2</th>\n",
       "      <th>year</th>\n",
       "      <th>month</th>\n",
       "      <th>day</th>\n",
       "      <th>요일</th>\n",
       "      <th>성</th>\n",
       "      <th>요일2</th>\n",
       "    </tr>\n",
       "  </thead>\n",
       "  <tbody>\n",
       "    <tr>\n",
       "      <th>0</th>\n",
       "      <td>홍길동</td>\n",
       "      <td>99</td>\n",
       "      <td>1999/1/1</td>\n",
       "      <td>1999-01-01</td>\n",
       "      <td>1999</td>\n",
       "      <td>1</td>\n",
       "      <td>1</td>\n",
       "      <td>4</td>\n",
       "      <td>홍</td>\n",
       "      <td>금</td>\n",
       "    </tr>\n",
       "    <tr>\n",
       "      <th>1</th>\n",
       "      <td>장길산</td>\n",
       "      <td>85</td>\n",
       "      <td>1987/3/1</td>\n",
       "      <td>1987-03-01</td>\n",
       "      <td>1987</td>\n",
       "      <td>3</td>\n",
       "      <td>1</td>\n",
       "      <td>6</td>\n",
       "      <td>장</td>\n",
       "      <td>일</td>\n",
       "    </tr>\n",
       "    <tr>\n",
       "      <th>2</th>\n",
       "      <td>둘리</td>\n",
       "      <td>51</td>\n",
       "      <td>2005/5/5</td>\n",
       "      <td>2005-05-05</td>\n",
       "      <td>2005</td>\n",
       "      <td>5</td>\n",
       "      <td>5</td>\n",
       "      <td>3</td>\n",
       "      <td>둘</td>\n",
       "      <td>목</td>\n",
       "    </tr>\n",
       "  </tbody>\n",
       "</table>\n",
       "</div>"
      ],
      "text/plain": [
       "    이름  성적        생일        생일2  year  month  day  요일  성 요일2\n",
       "0  홍길동  99  1999/1/1 1999-01-01  1999      1    1   4  홍   금\n",
       "1  장길산  85  1987/3/1 1987-03-01  1987      3    1   6  장   일\n",
       "2   둘리  51  2005/5/5 2005-05-05  2005      5    5   3  둘   목"
      ]
     },
     "execution_count": 116,
     "metadata": {},
     "output_type": "execute_result"
    }
   ],
   "source": [
    "d['요일2'] = d.요일.map(yoil)\n",
    "d"
   ]
  },
  {
   "cell_type": "code",
   "execution_count": null,
   "id": "dc533f37",
   "metadata": {},
   "outputs": [],
   "source": []
  }
 ],
 "metadata": {
  "kernelspec": {
   "display_name": "Python 3 (ipykernel)",
   "language": "python",
   "name": "python3"
  },
  "language_info": {
   "codemirror_mode": {
    "name": "ipython",
    "version": 3
   },
   "file_extension": ".py",
   "mimetype": "text/x-python",
   "name": "python",
   "nbconvert_exporter": "python",
   "pygments_lexer": "ipython3",
   "version": "3.10.9"
  }
 },
 "nbformat": 4,
 "nbformat_minor": 5
}
