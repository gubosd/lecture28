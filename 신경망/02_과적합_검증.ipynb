{
 "cells": [
  {
   "cell_type": "markdown",
   "id": "7cb4e345",
   "metadata": {},
   "source": [
    "# 신경망"
   ]
  },
  {
   "cell_type": "code",
   "execution_count": 1,
   "id": "4bfb271f",
   "metadata": {},
   "outputs": [],
   "source": [
    "import numpy as np\n",
    "import matplotlib.pyplot as plt"
   ]
  },
  {
   "cell_type": "code",
   "execution_count": 10,
   "id": "25a1b209",
   "metadata": {},
   "outputs": [],
   "source": [
    "import tensorflow as tf\n",
    "from tensorflow import keras"
   ]
  },
  {
   "cell_type": "code",
   "execution_count": 2,
   "id": "d01c41ac",
   "metadata": {},
   "outputs": [],
   "source": [
    "from sklearn.datasets import load_breast_cancer"
   ]
  },
  {
   "cell_type": "markdown",
   "id": "bcade2fc",
   "metadata": {},
   "source": [
    "## 유방암 데이터에 신경망 적용"
   ]
  },
  {
   "cell_type": "code",
   "execution_count": 3,
   "id": "2dbf1e55",
   "metadata": {},
   "outputs": [],
   "source": [
    "cancer = load_breast_cancer()"
   ]
  },
  {
   "cell_type": "code",
   "execution_count": 6,
   "id": "0d517e7f",
   "metadata": {},
   "outputs": [
    {
     "data": {
      "text/plain": [
       "((569, 30), (569,))"
      ]
     },
     "execution_count": 6,
     "metadata": {},
     "output_type": "execute_result"
    }
   ],
   "source": [
    "cancer.data.shape, cancer.target.shape"
   ]
  },
  {
   "cell_type": "code",
   "execution_count": 7,
   "id": "7db23946",
   "metadata": {
    "scrolled": true
   },
   "outputs": [
    {
     "data": {
      "text/plain": [
       "array([0, 0, 0, 0, 0, 0, 0, 0, 0, 0, 0, 0, 0, 0, 0, 0, 0, 0, 0, 1, 1, 1,\n",
       "       0, 0, 0, 0, 0, 0, 0, 0, 0, 0, 0, 0, 0, 0, 0, 1, 0, 0, 0, 0, 0, 0,\n",
       "       0, 0, 1, 0, 1, 1, 1, 1, 1, 0, 0, 1, 0, 0, 1, 1, 1, 1, 0, 1, 0, 0,\n",
       "       1, 1, 1, 1, 0, 1, 0, 0, 1, 0, 1, 0, 0, 1, 1, 1, 0, 0, 1, 0, 0, 0,\n",
       "       1, 1, 1, 0, 1, 1, 0, 0, 1, 1, 1, 0, 0, 1, 1, 1, 1, 0, 1, 1, 0, 1,\n",
       "       1, 1, 1, 1, 1, 1, 1, 0, 0, 0, 1, 0, 0, 1, 1, 1, 0, 0, 1, 0, 1, 0,\n",
       "       0, 1, 0, 0, 1, 1, 0, 1, 1, 0, 1, 1, 1, 1, 0, 1, 1, 1, 1, 1, 1, 1,\n",
       "       1, 1, 0, 1, 1, 1, 1, 0, 0, 1, 0, 1, 1, 0, 0, 1, 1, 0, 0, 1, 1, 1,\n",
       "       1, 0, 1, 1, 0, 0, 0, 1, 0, 1, 0, 1, 1, 1, 0, 1, 1, 0, 0, 1, 0, 0,\n",
       "       0, 0, 1, 0, 0, 0, 1, 0, 1, 0, 1, 1, 0, 1, 0, 0, 0, 0, 1, 1, 0, 0,\n",
       "       1, 1, 1, 0, 1, 1, 1, 1, 1, 0, 0, 1, 1, 0, 1, 1, 0, 0, 1, 0, 1, 1,\n",
       "       1, 1, 0, 1, 1, 1, 1, 1, 0, 1, 0, 0, 0, 0, 0, 0, 0, 0, 0, 0, 0, 0,\n",
       "       0, 0, 1, 1, 1, 1, 1, 1, 0, 1, 0, 1, 1, 0, 1, 1, 0, 1, 0, 0, 1, 1,\n",
       "       1, 1, 1, 1, 1, 1, 1, 1, 1, 1, 1, 0, 1, 1, 0, 1, 0, 1, 1, 1, 1, 1,\n",
       "       1, 1, 1, 1, 1, 1, 1, 1, 1, 0, 1, 1, 1, 0, 1, 0, 1, 1, 1, 1, 0, 0,\n",
       "       0, 1, 1, 1, 1, 0, 1, 0, 1, 0, 1, 1, 1, 0, 1, 1, 1, 1, 1, 1, 1, 0,\n",
       "       0, 0, 1, 1, 1, 1, 1, 1, 1, 1, 1, 1, 1, 0, 0, 1, 0, 0, 0, 1, 0, 0,\n",
       "       1, 1, 1, 1, 1, 0, 1, 1, 1, 1, 1, 0, 1, 1, 1, 0, 1, 1, 0, 0, 1, 1,\n",
       "       1, 1, 1, 1, 0, 1, 1, 1, 1, 1, 1, 1, 0, 1, 1, 1, 1, 1, 0, 1, 1, 0,\n",
       "       1, 1, 1, 1, 1, 1, 1, 1, 1, 1, 1, 1, 0, 1, 0, 0, 1, 0, 1, 1, 1, 1,\n",
       "       1, 0, 1, 1, 0, 1, 0, 1, 1, 0, 1, 0, 1, 1, 1, 1, 1, 1, 1, 1, 0, 0,\n",
       "       1, 1, 1, 1, 1, 1, 0, 1, 1, 1, 1, 1, 1, 1, 1, 1, 1, 0, 1, 1, 1, 1,\n",
       "       1, 1, 1, 0, 1, 0, 1, 1, 0, 1, 1, 1, 1, 1, 0, 0, 1, 0, 1, 0, 1, 1,\n",
       "       1, 1, 1, 0, 1, 1, 0, 1, 0, 1, 0, 0, 1, 1, 1, 0, 1, 1, 1, 1, 1, 1,\n",
       "       1, 1, 1, 1, 1, 0, 1, 0, 0, 1, 1, 1, 1, 1, 1, 1, 1, 1, 1, 1, 1, 1,\n",
       "       1, 1, 1, 1, 1, 1, 1, 1, 1, 1, 1, 1, 0, 0, 0, 0, 0, 0, 1])"
      ]
     },
     "execution_count": 7,
     "metadata": {},
     "output_type": "execute_result"
    }
   ],
   "source": [
    "cancer.target"
   ]
  },
  {
   "cell_type": "code",
   "execution_count": null,
   "id": "dea44dfd",
   "metadata": {},
   "outputs": [],
   "source": []
  },
  {
   "cell_type": "code",
   "execution_count": 8,
   "id": "f5d26c64",
   "metadata": {},
   "outputs": [
    {
     "data": {
      "text/plain": [
       "((569, 30), (569,))"
      ]
     },
     "execution_count": 8,
     "metadata": {},
     "output_type": "execute_result"
    }
   ],
   "source": [
    "X = cancer.data\n",
    "y = cancer.target\n",
    "X.shape, y.shape"
   ]
  },
  {
   "cell_type": "code",
   "execution_count": 11,
   "id": "ff258ffe",
   "metadata": {},
   "outputs": [
    {
     "name": "stdout",
     "output_type": "stream",
     "text": [
      "Model: \"sequential\"\n",
      "_________________________________________________________________\n",
      " Layer (type)                Output Shape              Param #   \n",
      "=================================================================\n",
      " dense (Dense)               (None, 50)                1550      \n",
      "                                                                 \n",
      " dense_1 (Dense)             (None, 50)                2550      \n",
      "                                                                 \n",
      " dense_2 (Dense)             (None, 1)                 51        \n",
      "                                                                 \n",
      "=================================================================\n",
      "Total params: 4151 (16.21 KB)\n",
      "Trainable params: 4151 (16.21 KB)\n",
      "Non-trainable params: 0 (0.00 Byte)\n",
      "_________________________________________________________________\n"
     ]
    }
   ],
   "source": [
    "model = keras.models.Sequential()\n",
    "model.add(keras.layers.Dense(50, activation='relu', input_shape=(30,)))\n",
    "model.add(keras.layers.Dense(50, activation='relu'))\n",
    "model.add(keras.layers.Dense(1, activation='sigmoid')) # 0~1 사이의 확률값으로 출력되게 한다\n",
    "\n",
    "model.summary()"
   ]
  },
  {
   "cell_type": "code",
   "execution_count": 12,
   "id": "9454c750",
   "metadata": {},
   "outputs": [],
   "source": [
    "model.compile(loss='binary_crossentropy', optimizer='adam', metrics=['acc'])"
   ]
  },
  {
   "cell_type": "code",
   "execution_count": 13,
   "id": "6b1bfe6d",
   "metadata": {},
   "outputs": [
    {
     "name": "stdout",
     "output_type": "stream",
     "text": [
      "Epoch 1/100\n",
      "18/18 [==============================] - 1s 1ms/step - loss: 1.9826 - acc: 0.7153\n",
      "Epoch 2/100\n",
      "18/18 [==============================] - 0s 1ms/step - loss: 0.3823 - acc: 0.8858\n",
      "Epoch 3/100\n",
      "18/18 [==============================] - 0s 8ms/step - loss: 0.2763 - acc: 0.9121\n",
      "Epoch 4/100\n",
      "18/18 [==============================] - 0s 1ms/step - loss: 0.2400 - acc: 0.9086\n",
      "Epoch 5/100\n",
      "18/18 [==============================] - 0s 1ms/step - loss: 0.3137 - acc: 0.8963\n",
      "Epoch 6/100\n",
      "18/18 [==============================] - 0s 997us/step - loss: 0.3383 - acc: 0.8858\n",
      "Epoch 7/100\n",
      "18/18 [==============================] - 0s 1ms/step - loss: 0.2242 - acc: 0.9227\n",
      "Epoch 8/100\n",
      "18/18 [==============================] - 0s 1ms/step - loss: 0.2732 - acc: 0.9033\n",
      "Epoch 9/100\n",
      "18/18 [==============================] - 0s 998us/step - loss: 0.3239 - acc: 0.8787\n",
      "Epoch 10/100\n",
      "18/18 [==============================] - 0s 997us/step - loss: 0.7333 - acc: 0.8260\n",
      "Epoch 11/100\n",
      "18/18 [==============================] - 0s 980us/step - loss: 0.2727 - acc: 0.9156\n",
      "Epoch 12/100\n",
      "18/18 [==============================] - 0s 1ms/step - loss: 0.3199 - acc: 0.9051\n",
      "Epoch 13/100\n",
      "18/18 [==============================] - 0s 1ms/step - loss: 0.3304 - acc: 0.9104\n",
      "Epoch 14/100\n",
      "18/18 [==============================] - 0s 997us/step - loss: 0.4574 - acc: 0.8858\n",
      "Epoch 15/100\n",
      "18/18 [==============================] - 0s 997us/step - loss: 0.2415 - acc: 0.9244\n",
      "Epoch 16/100\n",
      "18/18 [==============================] - 0s 995us/step - loss: 0.2902 - acc: 0.8998\n",
      "Epoch 17/100\n",
      "18/18 [==============================] - 0s 1ms/step - loss: 0.4475 - acc: 0.8682\n",
      "Epoch 18/100\n",
      "18/18 [==============================] - 0s 1ms/step - loss: 0.2997 - acc: 0.9156\n",
      "Epoch 19/100\n",
      "18/18 [==============================] - 0s 1ms/step - loss: 0.2243 - acc: 0.9209\n",
      "Epoch 20/100\n",
      "18/18 [==============================] - 0s 1ms/step - loss: 0.3332 - acc: 0.8893\n",
      "Epoch 21/100\n",
      "18/18 [==============================] - 0s 1ms/step - loss: 0.2397 - acc: 0.9227\n",
      "Epoch 22/100\n",
      "18/18 [==============================] - 0s 1ms/step - loss: 0.4258 - acc: 0.8752\n",
      "Epoch 23/100\n",
      "18/18 [==============================] - 0s 1ms/step - loss: 1.3064 - acc: 0.8120\n",
      "Epoch 24/100\n",
      "18/18 [==============================] - 0s 1ms/step - loss: 0.8757 - acc: 0.8295\n",
      "Epoch 25/100\n",
      "18/18 [==============================] - 0s 1ms/step - loss: 0.3150 - acc: 0.9051\n",
      "Epoch 26/100\n",
      "18/18 [==============================] - 0s 1ms/step - loss: 0.3613 - acc: 0.9104\n",
      "Epoch 27/100\n",
      "18/18 [==============================] - 0s 1ms/step - loss: 0.2964 - acc: 0.9174\n",
      "Epoch 28/100\n",
      "18/18 [==============================] - 0s 1ms/step - loss: 0.3746 - acc: 0.9139\n",
      "Epoch 29/100\n",
      "18/18 [==============================] - 0s 1ms/step - loss: 0.3298 - acc: 0.9139\n",
      "Epoch 30/100\n",
      "18/18 [==============================] - 0s 1ms/step - loss: 0.2925 - acc: 0.9227\n",
      "Epoch 31/100\n",
      "18/18 [==============================] - 0s 1ms/step - loss: 0.2419 - acc: 0.9332\n",
      "Epoch 32/100\n",
      "18/18 [==============================] - 0s 1ms/step - loss: 0.2730 - acc: 0.9244\n",
      "Epoch 33/100\n",
      "18/18 [==============================] - 0s 1ms/step - loss: 0.3046 - acc: 0.9051\n",
      "Epoch 34/100\n",
      "18/18 [==============================] - 0s 997us/step - loss: 0.2187 - acc: 0.9315\n",
      "Epoch 35/100\n",
      "18/18 [==============================] - 0s 1ms/step - loss: 0.3388 - acc: 0.8998\n",
      "Epoch 36/100\n",
      "18/18 [==============================] - 0s 1ms/step - loss: 0.3040 - acc: 0.9192\n",
      "Epoch 37/100\n",
      "18/18 [==============================] - 0s 1ms/step - loss: 0.2502 - acc: 0.9279\n",
      "Epoch 38/100\n",
      "18/18 [==============================] - 0s 1ms/step - loss: 0.2584 - acc: 0.9244\n",
      "Epoch 39/100\n",
      "18/18 [==============================] - 0s 1ms/step - loss: 0.3254 - acc: 0.8981\n",
      "Epoch 40/100\n",
      "18/18 [==============================] - 0s 1ms/step - loss: 0.4335 - acc: 0.8858\n",
      "Epoch 41/100\n",
      "18/18 [==============================] - 0s 1ms/step - loss: 0.2961 - acc: 0.9033\n",
      "Epoch 42/100\n",
      "18/18 [==============================] - 0s 2ms/step - loss: 0.5866 - acc: 0.8699\n",
      "Epoch 43/100\n",
      "18/18 [==============================] - 0s 1ms/step - loss: 0.2769 - acc: 0.9244\n",
      "Epoch 44/100\n",
      "18/18 [==============================] - 0s 999us/step - loss: 0.2235 - acc: 0.9385\n",
      "Epoch 45/100\n",
      "18/18 [==============================] - 0s 1ms/step - loss: 0.1925 - acc: 0.9332\n",
      "Epoch 46/100\n",
      "18/18 [==============================] - 0s 1ms/step - loss: 0.1940 - acc: 0.9367\n",
      "Epoch 47/100\n",
      "18/18 [==============================] - 0s 1ms/step - loss: 0.2202 - acc: 0.9262\n",
      "Epoch 48/100\n",
      "18/18 [==============================] - 0s 1ms/step - loss: 0.6921 - acc: 0.8348\n",
      "Epoch 49/100\n",
      "18/18 [==============================] - 0s 1ms/step - loss: 0.5382 - acc: 0.8717\n",
      "Epoch 50/100\n",
      "18/18 [==============================] - 0s 1ms/step - loss: 0.6296 - acc: 0.8735\n",
      "Epoch 51/100\n",
      "18/18 [==============================] - 0s 1ms/step - loss: 0.6653 - acc: 0.8735\n",
      "Epoch 52/100\n",
      "18/18 [==============================] - 0s 1ms/step - loss: 0.5957 - acc: 0.8822\n",
      "Epoch 53/100\n",
      "18/18 [==============================] - 0s 998us/step - loss: 0.2731 - acc: 0.9297\n",
      "Epoch 54/100\n",
      "18/18 [==============================] - 0s 1ms/step - loss: 0.2533 - acc: 0.9332\n",
      "Epoch 55/100\n",
      "18/18 [==============================] - 0s 997us/step - loss: 0.2831 - acc: 0.9244\n",
      "Epoch 56/100\n",
      "18/18 [==============================] - 0s 1ms/step - loss: 0.3337 - acc: 0.9156\n",
      "Epoch 57/100\n",
      "18/18 [==============================] - 0s 937us/step - loss: 0.2578 - acc: 0.9262\n",
      "Epoch 58/100\n",
      "18/18 [==============================] - 0s 997us/step - loss: 0.3180 - acc: 0.9209\n",
      "Epoch 59/100\n",
      "18/18 [==============================] - 0s 1ms/step - loss: 0.2168 - acc: 0.9420\n",
      "Epoch 60/100\n",
      "18/18 [==============================] - 0s 1ms/step - loss: 0.4469 - acc: 0.8946\n",
      "Epoch 61/100\n",
      "18/18 [==============================] - 0s 997us/step - loss: 0.3945 - acc: 0.8946\n",
      "Epoch 62/100\n",
      "18/18 [==============================] - 0s 997us/step - loss: 0.2474 - acc: 0.9297\n",
      "Epoch 63/100\n",
      "18/18 [==============================] - 0s 997us/step - loss: 0.2167 - acc: 0.9174\n",
      "Epoch 64/100\n",
      "18/18 [==============================] - 0s 939us/step - loss: 0.3167 - acc: 0.9209\n",
      "Epoch 65/100\n",
      "18/18 [==============================] - 0s 997us/step - loss: 0.2000 - acc: 0.9209\n",
      "Epoch 66/100\n",
      "18/18 [==============================] - 0s 991us/step - loss: 0.2545 - acc: 0.9227\n",
      "Epoch 67/100\n",
      "18/18 [==============================] - 0s 997us/step - loss: 0.1845 - acc: 0.9455\n",
      "Epoch 68/100\n",
      "18/18 [==============================] - 0s 997us/step - loss: 0.1640 - acc: 0.9385\n",
      "Epoch 69/100\n",
      "18/18 [==============================] - 0s 997us/step - loss: 0.1667 - acc: 0.9402\n",
      "Epoch 70/100\n",
      "18/18 [==============================] - 0s 997us/step - loss: 0.1982 - acc: 0.9227\n",
      "Epoch 71/100\n",
      "18/18 [==============================] - 0s 939us/step - loss: 0.2350 - acc: 0.9262\n",
      "Epoch 72/100\n",
      "18/18 [==============================] - 0s 998us/step - loss: 0.1980 - acc: 0.9350\n",
      "Epoch 73/100\n",
      "18/18 [==============================] - 0s 997us/step - loss: 0.2106 - acc: 0.9315\n",
      "Epoch 74/100\n",
      "18/18 [==============================] - 0s 997us/step - loss: 0.1771 - acc: 0.9315\n",
      "Epoch 75/100\n",
      "18/18 [==============================] - 0s 1ms/step - loss: 0.2549 - acc: 0.9086\n",
      "Epoch 76/100\n",
      "18/18 [==============================] - 0s 940us/step - loss: 0.3058 - acc: 0.9069\n",
      "Epoch 77/100\n",
      "18/18 [==============================] - 0s 997us/step - loss: 0.4115 - acc: 0.9016\n",
      "Epoch 78/100\n",
      "18/18 [==============================] - 0s 939us/step - loss: 0.3135 - acc: 0.9156\n",
      "Epoch 79/100\n",
      "18/18 [==============================] - 0s 997us/step - loss: 0.2612 - acc: 0.9350\n",
      "Epoch 80/100\n",
      "18/18 [==============================] - 0s 997us/step - loss: 0.2114 - acc: 0.9350\n",
      "Epoch 81/100\n",
      "18/18 [==============================] - 0s 1ms/step - loss: 0.2317 - acc: 0.9174\n",
      "Epoch 82/100\n",
      "18/18 [==============================] - 0s 997us/step - loss: 0.3018 - acc: 0.9121\n",
      "Epoch 83/100\n",
      "18/18 [==============================] - 0s 997us/step - loss: 0.3489 - acc: 0.9051\n",
      "Epoch 84/100\n",
      "18/18 [==============================] - 0s 997us/step - loss: 0.1820 - acc: 0.9385\n",
      "Epoch 85/100\n",
      "18/18 [==============================] - 0s 997us/step - loss: 0.1849 - acc: 0.9438\n",
      "Epoch 86/100\n"
     ]
    },
    {
     "name": "stdout",
     "output_type": "stream",
     "text": [
      "18/18 [==============================] - 0s 1ms/step - loss: 0.2364 - acc: 0.9244\n",
      "Epoch 87/100\n",
      "18/18 [==============================] - 0s 998us/step - loss: 0.4598 - acc: 0.8822\n",
      "Epoch 88/100\n",
      "18/18 [==============================] - 0s 994us/step - loss: 0.4929 - acc: 0.8928\n",
      "Epoch 89/100\n",
      "18/18 [==============================] - 0s 939us/step - loss: 0.3499 - acc: 0.9033\n",
      "Epoch 90/100\n",
      "18/18 [==============================] - 0s 997us/step - loss: 0.2447 - acc: 0.9262\n",
      "Epoch 91/100\n",
      "18/18 [==============================] - 0s 997us/step - loss: 0.4472 - acc: 0.8840\n",
      "Epoch 92/100\n",
      "18/18 [==============================] - 0s 939us/step - loss: 0.2962 - acc: 0.9297\n",
      "Epoch 93/100\n",
      "18/18 [==============================] - 0s 939us/step - loss: 0.2597 - acc: 0.9279\n",
      "Epoch 94/100\n",
      "18/18 [==============================] - 0s 939us/step - loss: 0.2011 - acc: 0.9367\n",
      "Epoch 95/100\n",
      "18/18 [==============================] - 0s 997us/step - loss: 0.2174 - acc: 0.9332\n",
      "Epoch 96/100\n",
      "18/18 [==============================] - 0s 997us/step - loss: 0.2390 - acc: 0.9297\n",
      "Epoch 97/100\n",
      "18/18 [==============================] - 0s 996us/step - loss: 0.1819 - acc: 0.9455\n",
      "Epoch 98/100\n",
      "18/18 [==============================] - 0s 997us/step - loss: 0.1898 - acc: 0.9332\n",
      "Epoch 99/100\n",
      "18/18 [==============================] - 0s 939us/step - loss: 0.1930 - acc: 0.9332\n",
      "Epoch 100/100\n",
      "18/18 [==============================] - 0s 997us/step - loss: 0.3024 - acc: 0.9121\n"
     ]
    },
    {
     "data": {
      "text/plain": [
       "<keras.src.callbacks.History at 0x254f221dfc0>"
      ]
     },
     "execution_count": 13,
     "metadata": {},
     "output_type": "execute_result"
    }
   ],
   "source": [
    "model.fit(X, y, epochs=100)"
   ]
  },
  {
   "cell_type": "code",
   "execution_count": 14,
   "id": "f93f083e",
   "metadata": {},
   "outputs": [
    {
     "data": {
      "text/plain": [
       "Text(0, 0.5, 'accuracy')"
      ]
     },
     "execution_count": 14,
     "metadata": {},
     "output_type": "execute_result"
    },
    {
     "data": {
      "image/png": "[encoded data removed]",
      "text/plain": [
       "<Figure size 640x480 with 2 Axes>"
      ]
     },
     "metadata": {},
     "output_type": "display_data"
    }
   ],
   "source": [
    "h = model.history.history # 학습이력\n",
    "\n",
    "plt.subplot(1,2,1)\n",
    "plt.plot(h['loss'])\n",
    "plt.xlabel('epoch')\n",
    "plt.ylabel('error')\n",
    "\n",
    "plt.subplot(1,2,2)\n",
    "plt.plot(h['acc'])\n",
    "plt.xlabel('epoch')\n",
    "plt.ylabel('accuracy')"
   ]
  },
  {
   "cell_type": "code",
   "execution_count": null,
   "id": "8536b35e",
   "metadata": {},
   "outputs": [],
   "source": []
  },
  {
   "cell_type": "markdown",
   "id": "10a7c9ac",
   "metadata": {},
   "source": [
    "### 정규화 적용\n",
    "- 신경망에서는 반드시 정규화 적용을 고려해야 한다"
   ]
  },
  {
   "cell_type": "code",
   "execution_count": 16,
   "id": "56164c93",
   "metadata": {},
   "outputs": [
    {
     "data": {
      "image/png": "[encoded data removed]",
      "text/plain": [
       "<Figure size 640x480 with 1 Axes>"
      ]
     },
     "metadata": {},
     "output_type": "display_data"
    }
   ],
   "source": [
    "plt.boxplot(cancer.data)\n",
    "pass"
   ]
  },
  {
   "cell_type": "code",
   "execution_count": 19,
   "id": "adc523d7",
   "metadata": {},
   "outputs": [
    {
     "data": {
      "text/plain": [
       "(569, 30)"
      ]
     },
     "execution_count": 19,
     "metadata": {},
     "output_type": "execute_result"
    }
   ],
   "source": [
    "m = X.mean(axis=0)\n",
    "s = X.std(axis=0)\n",
    "\n",
    "X_norm = (X-m)/s # 평균이 0, 표준편차가 1인 분포로 변환한다\n",
    "X_norm.shape"
   ]
  },
  {
   "cell_type": "code",
   "execution_count": 21,
   "id": "834316c7",
   "metadata": {},
   "outputs": [
    {
     "data": {
      "image/png": "[encoded data removed]",
      "text/plain": [
       "<Figure size 640x480 with 1 Axes>"
      ]
     },
     "metadata": {},
     "output_type": "display_data"
    }
   ],
   "source": [
    "plt.boxplot(X_norm)\n",
    "pass"
   ]
  },
  {
   "cell_type": "code",
   "execution_count": null,
   "id": "5ac95b9a",
   "metadata": {},
   "outputs": [],
   "source": []
  },
  {
   "cell_type": "code",
   "execution_count": 22,
   "id": "830729db",
   "metadata": {},
   "outputs": [
    {
     "name": "stdout",
     "output_type": "stream",
     "text": [
      "Model: \"sequential_1\"\n",
      "_________________________________________________________________\n",
      " Layer (type)                Output Shape              Param #   \n",
      "=================================================================\n",
      " dense_3 (Dense)             (None, 50)                1550      \n",
      "                                                                 \n",
      " dense_4 (Dense)             (None, 50)                2550      \n",
      "                                                                 \n",
      " dense_5 (Dense)             (None, 1)                 51        \n",
      "                                                                 \n",
      "=================================================================\n",
      "Total params: 4151 (16.21 KB)\n",
      "Trainable params: 4151 (16.21 KB)\n",
      "Non-trainable params: 0 (0.00 Byte)\n",
      "_________________________________________________________________\n"
     ]
    }
   ],
   "source": [
    "model = keras.models.Sequential()\n",
    "model.add(keras.layers.Dense(50, activation='relu', input_shape=(30,)))\n",
    "model.add(keras.layers.Dense(50, activation='relu'))\n",
    "model.add(keras.layers.Dense(1, activation='sigmoid')) # 0~1 사이의 확률값으로 출력되게 한다\n",
    "\n",
    "model.summary()"
   ]
  },
  {
   "cell_type": "code",
   "execution_count": 23,
   "id": "b2e35408",
   "metadata": {},
   "outputs": [],
   "source": [
    "model.compile(loss='binary_crossentropy', optimizer='adam', metrics=['acc'])"
   ]
  },
  {
   "cell_type": "code",
   "execution_count": 24,
   "id": "d1b3a457",
   "metadata": {},
   "outputs": [
    {
     "name": "stdout",
     "output_type": "stream",
     "text": [
      "Epoch 1/100\n",
      "18/18 [==============================] - 0s 1ms/step - loss: 0.5884 - acc: 0.6995\n",
      "Epoch 2/100\n",
      "18/18 [==============================] - 0s 1ms/step - loss: 0.2798 - acc: 0.9455\n",
      "Epoch 3/100\n",
      "18/18 [==============================] - 0s 1ms/step - loss: 0.1712 - acc: 0.9525\n",
      "Epoch 4/100\n",
      "18/18 [==============================] - 0s 1ms/step - loss: 0.1235 - acc: 0.9631\n",
      "Epoch 5/100\n",
      "18/18 [==============================] - 0s 1ms/step - loss: 0.0993 - acc: 0.9772\n",
      "Epoch 6/100\n",
      "18/18 [==============================] - 0s 1ms/step - loss: 0.0819 - acc: 0.9772\n",
      "Epoch 7/100\n",
      "18/18 [==============================] - 0s 939us/step - loss: 0.0719 - acc: 0.9807\n",
      "Epoch 8/100\n",
      "18/18 [==============================] - 0s 1ms/step - loss: 0.0642 - acc: 0.9842\n",
      "Epoch 9/100\n",
      "18/18 [==============================] - 0s 1ms/step - loss: 0.0576 - acc: 0.9877\n",
      "Epoch 10/100\n",
      "18/18 [==============================] - 0s 1ms/step - loss: 0.0537 - acc: 0.9859\n",
      "Epoch 11/100\n",
      "18/18 [==============================] - 0s 1ms/step - loss: 0.0493 - acc: 0.9895\n",
      "Epoch 12/100\n",
      "18/18 [==============================] - 0s 1ms/step - loss: 0.0458 - acc: 0.9912\n",
      "Epoch 13/100\n",
      "18/18 [==============================] - 0s 1ms/step - loss: 0.0428 - acc: 0.9930\n",
      "Epoch 14/100\n",
      "18/18 [==============================] - 0s 1ms/step - loss: 0.0403 - acc: 0.9930\n",
      "Epoch 15/100\n",
      "18/18 [==============================] - 0s 1ms/step - loss: 0.0386 - acc: 0.9930\n",
      "Epoch 16/100\n",
      "18/18 [==============================] - 0s 1ms/step - loss: 0.0363 - acc: 0.9930\n",
      "Epoch 17/100\n",
      "18/18 [==============================] - 0s 1ms/step - loss: 0.0343 - acc: 0.9930\n",
      "Epoch 18/100\n",
      "18/18 [==============================] - 0s 1ms/step - loss: 0.0328 - acc: 0.9930\n",
      "Epoch 19/100\n",
      "18/18 [==============================] - 0s 1ms/step - loss: 0.0305 - acc: 0.9930\n",
      "Epoch 20/100\n",
      "18/18 [==============================] - 0s 1ms/step - loss: 0.0292 - acc: 0.9930\n",
      "Epoch 21/100\n",
      "18/18 [==============================] - 0s 1ms/step - loss: 0.0275 - acc: 0.9930\n",
      "Epoch 22/100\n",
      "18/18 [==============================] - 0s 998us/step - loss: 0.0264 - acc: 0.9930\n",
      "Epoch 23/100\n",
      "18/18 [==============================] - 0s 2ms/step - loss: 0.0250 - acc: 0.9930\n",
      "Epoch 24/100\n",
      "18/18 [==============================] - 0s 1ms/step - loss: 0.0238 - acc: 0.9930\n",
      "Epoch 25/100\n",
      "18/18 [==============================] - 0s 1ms/step - loss: 0.0225 - acc: 0.9930\n",
      "Epoch 26/100\n",
      "18/18 [==============================] - 0s 1ms/step - loss: 0.0213 - acc: 0.9930\n",
      "Epoch 27/100\n",
      "18/18 [==============================] - 0s 997us/step - loss: 0.0197 - acc: 0.9930\n",
      "Epoch 28/100\n",
      "18/18 [==============================] - 0s 1ms/step - loss: 0.0190 - acc: 0.9930\n",
      "Epoch 29/100\n",
      "18/18 [==============================] - 0s 1ms/step - loss: 0.0175 - acc: 0.9930\n",
      "Epoch 30/100\n",
      "18/18 [==============================] - 0s 1ms/step - loss: 0.0163 - acc: 0.9930\n",
      "Epoch 31/100\n",
      "18/18 [==============================] - 0s 1ms/step - loss: 0.0151 - acc: 0.9947\n",
      "Epoch 32/100\n",
      "18/18 [==============================] - 0s 1ms/step - loss: 0.0151 - acc: 0.9947\n",
      "Epoch 33/100\n",
      "18/18 [==============================] - 0s 1ms/step - loss: 0.0141 - acc: 0.9930\n",
      "Epoch 34/100\n",
      "18/18 [==============================] - 0s 1ms/step - loss: 0.0144 - acc: 0.9947\n",
      "Epoch 35/100\n",
      "18/18 [==============================] - 0s 1ms/step - loss: 0.0119 - acc: 0.9965\n",
      "Epoch 36/100\n",
      "18/18 [==============================] - 0s 1ms/step - loss: 0.0118 - acc: 0.9965\n",
      "Epoch 37/100\n",
      "18/18 [==============================] - 0s 1ms/step - loss: 0.0102 - acc: 0.9982\n",
      "Epoch 38/100\n",
      "18/18 [==============================] - 0s 1ms/step - loss: 0.0097 - acc: 1.0000\n",
      "Epoch 39/100\n",
      "18/18 [==============================] - 0s 997us/step - loss: 0.0093 - acc: 0.9965\n",
      "Epoch 40/100\n",
      "18/18 [==============================] - 0s 1ms/step - loss: 0.0085 - acc: 0.9982\n",
      "Epoch 41/100\n",
      "18/18 [==============================] - 0s 997us/step - loss: 0.0080 - acc: 1.0000\n",
      "Epoch 42/100\n",
      "18/18 [==============================] - 0s 1ms/step - loss: 0.0076 - acc: 1.0000\n",
      "Epoch 43/100\n",
      "18/18 [==============================] - 0s 1ms/step - loss: 0.0069 - acc: 0.9982\n",
      "Epoch 44/100\n",
      "18/18 [==============================] - 0s 1ms/step - loss: 0.0070 - acc: 1.0000\n",
      "Epoch 45/100\n",
      "18/18 [==============================] - 0s 1ms/step - loss: 0.0066 - acc: 1.0000\n",
      "Epoch 46/100\n",
      "18/18 [==============================] - 0s 1ms/step - loss: 0.0058 - acc: 1.0000\n",
      "Epoch 47/100\n",
      "18/18 [==============================] - 0s 1ms/step - loss: 0.0054 - acc: 1.0000\n",
      "Epoch 48/100\n",
      "18/18 [==============================] - 0s 997us/step - loss: 0.0054 - acc: 1.0000\n",
      "Epoch 49/100\n",
      "18/18 [==============================] - 0s 1ms/step - loss: 0.0049 - acc: 1.0000\n",
      "Epoch 50/100\n",
      "18/18 [==============================] - 0s 1ms/step - loss: 0.0047 - acc: 1.0000\n",
      "Epoch 51/100\n",
      "18/18 [==============================] - 0s 939us/step - loss: 0.0043 - acc: 1.0000\n",
      "Epoch 52/100\n",
      "18/18 [==============================] - 0s 1ms/step - loss: 0.0043 - acc: 1.0000\n",
      "Epoch 53/100\n",
      "18/18 [==============================] - 0s 1ms/step - loss: 0.0040 - acc: 1.0000\n",
      "Epoch 54/100\n",
      "18/18 [==============================] - 0s 1ms/step - loss: 0.0037 - acc: 1.0000\n",
      "Epoch 55/100\n",
      "18/18 [==============================] - 0s 1ms/step - loss: 0.0038 - acc: 1.0000\n",
      "Epoch 56/100\n",
      "18/18 [==============================] - 0s 1ms/step - loss: 0.0034 - acc: 1.0000\n",
      "Epoch 57/100\n",
      "18/18 [==============================] - 0s 939us/step - loss: 0.0036 - acc: 1.0000\n",
      "Epoch 58/100\n",
      "18/18 [==============================] - 0s 997us/step - loss: 0.0031 - acc: 1.0000\n",
      "Epoch 59/100\n",
      "18/18 [==============================] - 0s 1ms/step - loss: 0.0030 - acc: 1.0000\n",
      "Epoch 60/100\n",
      "18/18 [==============================] - 0s 998us/step - loss: 0.0028 - acc: 1.0000\n",
      "Epoch 61/100\n",
      "18/18 [==============================] - 0s 1ms/step - loss: 0.0026 - acc: 1.0000\n",
      "Epoch 62/100\n",
      "18/18 [==============================] - 0s 1ms/step - loss: 0.0026 - acc: 1.0000\n",
      "Epoch 63/100\n",
      "18/18 [==============================] - 0s 997us/step - loss: 0.0026 - acc: 1.0000\n",
      "Epoch 64/100\n",
      "18/18 [==============================] - 0s 1ms/step - loss: 0.0026 - acc: 1.0000\n",
      "Epoch 65/100\n",
      "18/18 [==============================] - 0s 1ms/step - loss: 0.0022 - acc: 1.0000\n",
      "Epoch 66/100\n",
      "18/18 [==============================] - 0s 1ms/step - loss: 0.0021 - acc: 1.0000\n",
      "Epoch 67/100\n",
      "18/18 [==============================] - 0s 997us/step - loss: 0.0019 - acc: 1.0000\n",
      "Epoch 68/100\n",
      "18/18 [==============================] - 0s 997us/step - loss: 0.0021 - acc: 1.0000\n",
      "Epoch 69/100\n",
      "18/18 [==============================] - 0s 997us/step - loss: 0.0019 - acc: 1.0000\n",
      "Epoch 70/100\n",
      "18/18 [==============================] - 0s 1ms/step - loss: 0.0019 - acc: 1.0000\n",
      "Epoch 71/100\n",
      "18/18 [==============================] - 0s 997us/step - loss: 0.0018 - acc: 1.0000\n",
      "Epoch 72/100\n",
      "18/18 [==============================] - 0s 997us/step - loss: 0.0016 - acc: 1.0000\n",
      "Epoch 73/100\n",
      "18/18 [==============================] - 0s 939us/step - loss: 0.0017 - acc: 1.0000\n",
      "Epoch 74/100\n",
      "18/18 [==============================] - 0s 1ms/step - loss: 0.0015 - acc: 1.0000\n",
      "Epoch 75/100\n",
      "18/18 [==============================] - 0s 1ms/step - loss: 0.0015 - acc: 1.0000\n",
      "Epoch 76/100\n",
      "18/18 [==============================] - 0s 1ms/step - loss: 0.0014 - acc: 1.0000\n",
      "Epoch 77/100\n",
      "18/18 [==============================] - 0s 1ms/step - loss: 0.0014 - acc: 1.0000\n",
      "Epoch 78/100\n",
      "18/18 [==============================] - 0s 1ms/step - loss: 0.0013 - acc: 1.0000\n",
      "Epoch 79/100\n",
      "18/18 [==============================] - 0s 1ms/step - loss: 0.0013 - acc: 1.0000\n",
      "Epoch 80/100\n",
      "18/18 [==============================] - 0s 1ms/step - loss: 0.0013 - acc: 1.0000\n",
      "Epoch 81/100\n",
      "18/18 [==============================] - 0s 1ms/step - loss: 0.0012 - acc: 1.0000\n",
      "Epoch 82/100\n",
      "18/18 [==============================] - 0s 1ms/step - loss: 0.0012 - acc: 1.0000\n",
      "Epoch 83/100\n",
      "18/18 [==============================] - 0s 997us/step - loss: 0.0011 - acc: 1.0000\n",
      "Epoch 84/100\n",
      "18/18 [==============================] - 0s 997us/step - loss: 0.0011 - acc: 1.0000\n",
      "Epoch 85/100\n",
      "18/18 [==============================] - 0s 1ms/step - loss: 0.0011 - acc: 1.0000\n",
      "Epoch 86/100\n"
     ]
    },
    {
     "name": "stdout",
     "output_type": "stream",
     "text": [
      "18/18 [==============================] - 0s 1ms/step - loss: 9.7219e-04 - acc: 1.0000\n",
      "Epoch 87/100\n",
      "18/18 [==============================] - 0s 997us/step - loss: 0.0011 - acc: 1.0000\n",
      "Epoch 88/100\n",
      "18/18 [==============================] - 0s 939us/step - loss: 9.1919e-04 - acc: 1.0000\n",
      "Epoch 89/100\n",
      "18/18 [==============================] - 0s 1ms/step - loss: 8.9353e-04 - acc: 1.0000\n",
      "Epoch 90/100\n",
      "18/18 [==============================] - 0s 1ms/step - loss: 8.6576e-04 - acc: 1.0000\n",
      "Epoch 91/100\n",
      "18/18 [==============================] - 0s 997us/step - loss: 8.4667e-04 - acc: 1.0000\n",
      "Epoch 92/100\n",
      "18/18 [==============================] - 0s 997us/step - loss: 8.2156e-04 - acc: 1.0000\n",
      "Epoch 93/100\n",
      "18/18 [==============================] - 0s 1ms/step - loss: 7.9539e-04 - acc: 1.0000\n",
      "Epoch 94/100\n",
      "18/18 [==============================] - 0s 1ms/step - loss: 7.4449e-04 - acc: 1.0000\n",
      "Epoch 95/100\n",
      "18/18 [==============================] - 0s 1ms/step - loss: 7.1785e-04 - acc: 1.0000\n",
      "Epoch 96/100\n",
      "18/18 [==============================] - 0s 996us/step - loss: 6.9582e-04 - acc: 1.0000\n",
      "Epoch 97/100\n",
      "18/18 [==============================] - 0s 939us/step - loss: 6.8112e-04 - acc: 1.0000\n",
      "Epoch 98/100\n",
      "18/18 [==============================] - 0s 939us/step - loss: 6.7692e-04 - acc: 1.0000\n",
      "Epoch 99/100\n",
      "18/18 [==============================] - 0s 939us/step - loss: 6.4504e-04 - acc: 1.0000\n",
      "Epoch 100/100\n",
      "18/18 [==============================] - 0s 939us/step - loss: 6.4068e-04 - acc: 1.0000\n"
     ]
    },
    {
     "data": {
      "text/plain": [
       "<keras.src.callbacks.History at 0x254f5c21d50>"
      ]
     },
     "execution_count": 24,
     "metadata": {},
     "output_type": "execute_result"
    }
   ],
   "source": [
    "model.fit(X_norm, y, epochs=100)"
   ]
  },
  {
   "cell_type": "code",
   "execution_count": 25,
   "id": "f871801b",
   "metadata": {},
   "outputs": [
    {
     "data": {
      "text/plain": [
       "Text(0, 0.5, 'accuracy')"
      ]
     },
     "execution_count": 25,
     "metadata": {},
     "output_type": "execute_result"
    },
    {
     "data": {
      "image/png": "[encoded data removed]",
      "text/plain": [
       "<Figure size 640x480 with 2 Axes>"
      ]
     },
     "metadata": {},
     "output_type": "display_data"
    }
   ],
   "source": [
    "h = model.history.history # 학습이력\n",
    "\n",
    "plt.subplot(1,2,1)\n",
    "plt.plot(h['loss'])\n",
    "plt.xlabel('epoch')\n",
    "plt.ylabel('error')\n",
    "\n",
    "plt.subplot(1,2,2)\n",
    "plt.plot(h['acc'])\n",
    "plt.xlabel('epoch')\n",
    "plt.ylabel('accuracy')"
   ]
  },
  {
   "cell_type": "code",
   "execution_count": null,
   "id": "956c00a9",
   "metadata": {},
   "outputs": [],
   "source": []
  },
  {
   "cell_type": "markdown",
   "id": "dbd1a587",
   "metadata": {},
   "source": [
    "### 훈련/테스트 데이터 분리 적용"
   ]
  },
  {
   "cell_type": "code",
   "execution_count": 26,
   "id": "1e57563e",
   "metadata": {},
   "outputs": [],
   "source": [
    "from sklearn.model_selection import train_test_split"
   ]
  },
  {
   "cell_type": "code",
   "execution_count": 27,
   "id": "25e62ba5",
   "metadata": {},
   "outputs": [
    {
     "data": {
      "text/plain": [
       "((426, 30), (143, 30), (426,), (143,))"
      ]
     },
     "execution_count": 27,
     "metadata": {},
     "output_type": "execute_result"
    }
   ],
   "source": [
    "X_train, X_test, y_train, y_test = train_test_split(X, y)\n",
    "X_train.shape, X_test.shape, y_train.shape, y_test.shape"
   ]
  },
  {
   "cell_type": "code",
   "execution_count": 28,
   "id": "859b21bf",
   "metadata": {},
   "outputs": [
    {
     "data": {
      "text/plain": [
       "((426, 30), (143, 30))"
      ]
     },
     "execution_count": 28,
     "metadata": {},
     "output_type": "execute_result"
    }
   ],
   "source": [
    "m = X_train.mean(axis=0) # 학습데이터로 평균과 표준편차를 구한다\n",
    "s = X_train.std(axis=0)\n",
    "\n",
    "X_train_norm = (X_train-m)/s # 평균이 0, 표준편차가 1인 분포로 변환한다\n",
    "X_test_norm = (X_test-m)/s\n",
    "\n",
    "X_train_norm.shape, X_test_norm.shape"
   ]
  },
  {
   "cell_type": "code",
   "execution_count": null,
   "id": "95dcd2f6",
   "metadata": {},
   "outputs": [],
   "source": []
  },
  {
   "cell_type": "code",
   "execution_count": 38,
   "id": "bdf7c718",
   "metadata": {},
   "outputs": [
    {
     "name": "stdout",
     "output_type": "stream",
     "text": [
      "Model: \"sequential_4\"\n",
      "_________________________________________________________________\n",
      " Layer (type)                Output Shape              Param #   \n",
      "=================================================================\n",
      " dense_12 (Dense)            (None, 50)                1550      \n",
      "                                                                 \n",
      " dense_13 (Dense)            (None, 50)                2550      \n",
      "                                                                 \n",
      " dense_14 (Dense)            (None, 1)                 51        \n",
      "                                                                 \n",
      "=================================================================\n",
      "Total params: 4151 (16.21 KB)\n",
      "Trainable params: 4151 (16.21 KB)\n",
      "Non-trainable params: 0 (0.00 Byte)\n",
      "_________________________________________________________________\n"
     ]
    }
   ],
   "source": [
    "model = keras.models.Sequential()\n",
    "model.add(keras.layers.Dense(50, activation='relu', input_shape=(30,)))\n",
    "model.add(keras.layers.Dense(50, activation='relu'))\n",
    "model.add(keras.layers.Dense(1, activation='sigmoid')) # 0~1 사이의 확률값으로 출력되게 한다\n",
    "\n",
    "model.summary()"
   ]
  },
  {
   "cell_type": "code",
   "execution_count": 39,
   "id": "482cbc64",
   "metadata": {},
   "outputs": [],
   "source": [
    "model.compile(loss='binary_crossentropy', optimizer='adam', metrics=['acc'])"
   ]
  },
  {
   "cell_type": "code",
   "execution_count": 40,
   "id": "c7501773",
   "metadata": {},
   "outputs": [
    {
     "name": "stdout",
     "output_type": "stream",
     "text": [
      "Epoch 1/100\n",
      "14/14 [==============================] - 1s 10ms/step - loss: 0.5315 - acc: 0.8028 - val_loss: 0.3695 - val_acc: 0.9580\n",
      "Epoch 2/100\n",
      "14/14 [==============================] - 0s 3ms/step - loss: 0.3039 - acc: 0.9460 - val_loss: 0.2087 - val_acc: 0.9580\n",
      "Epoch 3/100\n",
      "14/14 [==============================] - 0s 3ms/step - loss: 0.1944 - acc: 0.9507 - val_loss: 0.1396 - val_acc: 0.9580\n",
      "Epoch 4/100\n",
      "14/14 [==============================] - 0s 3ms/step - loss: 0.1465 - acc: 0.9577 - val_loss: 0.1058 - val_acc: 0.9650\n",
      "Epoch 5/100\n",
      "14/14 [==============================] - 0s 3ms/step - loss: 0.1193 - acc: 0.9624 - val_loss: 0.0856 - val_acc: 0.9790\n",
      "Epoch 6/100\n",
      "14/14 [==============================] - 0s 3ms/step - loss: 0.1038 - acc: 0.9718 - val_loss: 0.0729 - val_acc: 0.9790\n",
      "Epoch 7/100\n",
      "14/14 [==============================] - 0s 3ms/step - loss: 0.0918 - acc: 0.9812 - val_loss: 0.0638 - val_acc: 0.9790\n",
      "Epoch 8/100\n",
      "14/14 [==============================] - 0s 3ms/step - loss: 0.0834 - acc: 0.9812 - val_loss: 0.0569 - val_acc: 0.9720\n",
      "Epoch 9/100\n",
      "14/14 [==============================] - 0s 3ms/step - loss: 0.0775 - acc: 0.9812 - val_loss: 0.0498 - val_acc: 0.9860\n",
      "Epoch 10/100\n",
      "14/14 [==============================] - 0s 3ms/step - loss: 0.0714 - acc: 0.9836 - val_loss: 0.0481 - val_acc: 0.9790\n",
      "Epoch 11/100\n",
      "14/14 [==============================] - 0s 3ms/step - loss: 0.0669 - acc: 0.9836 - val_loss: 0.0451 - val_acc: 0.9790\n",
      "Epoch 12/100\n",
      "14/14 [==============================] - 0s 3ms/step - loss: 0.0625 - acc: 0.9836 - val_loss: 0.0444 - val_acc: 0.9860\n",
      "Epoch 13/100\n",
      "14/14 [==============================] - 0s 3ms/step - loss: 0.0595 - acc: 0.9859 - val_loss: 0.0417 - val_acc: 0.9860\n",
      "Epoch 14/100\n",
      "14/14 [==============================] - 0s 3ms/step - loss: 0.0563 - acc: 0.9883 - val_loss: 0.0415 - val_acc: 0.9790\n",
      "Epoch 15/100\n",
      "14/14 [==============================] - 0s 3ms/step - loss: 0.0535 - acc: 0.9883 - val_loss: 0.0394 - val_acc: 0.9790\n",
      "Epoch 16/100\n",
      "14/14 [==============================] - 0s 3ms/step - loss: 0.0506 - acc: 0.9883 - val_loss: 0.0385 - val_acc: 0.9860\n",
      "Epoch 17/100\n",
      "14/14 [==============================] - 0s 3ms/step - loss: 0.0482 - acc: 0.9883 - val_loss: 0.0383 - val_acc: 0.9860\n",
      "Epoch 18/100\n",
      "14/14 [==============================] - 0s 3ms/step - loss: 0.0453 - acc: 0.9906 - val_loss: 0.0398 - val_acc: 0.9860\n",
      "Epoch 19/100\n",
      "14/14 [==============================] - 0s 3ms/step - loss: 0.0434 - acc: 0.9906 - val_loss: 0.0369 - val_acc: 0.9860\n",
      "Epoch 20/100\n",
      "14/14 [==============================] - 0s 3ms/step - loss: 0.0400 - acc: 0.9906 - val_loss: 0.0368 - val_acc: 0.9860\n",
      "Epoch 21/100\n",
      "14/14 [==============================] - 0s 3ms/step - loss: 0.0390 - acc: 0.9906 - val_loss: 0.0360 - val_acc: 0.9860\n",
      "Epoch 22/100\n",
      "14/14 [==============================] - 0s 3ms/step - loss: 0.0368 - acc: 0.9906 - val_loss: 0.0355 - val_acc: 0.9860\n",
      "Epoch 23/100\n",
      "14/14 [==============================] - 0s 3ms/step - loss: 0.0351 - acc: 0.9906 - val_loss: 0.0343 - val_acc: 0.9860\n",
      "Epoch 24/100\n",
      "14/14 [==============================] - 0s 3ms/step - loss: 0.0351 - acc: 0.9906 - val_loss: 0.0370 - val_acc: 0.9860\n",
      "Epoch 25/100\n",
      "14/14 [==============================] - 0s 3ms/step - loss: 0.0318 - acc: 0.9906 - val_loss: 0.0358 - val_acc: 0.9860\n",
      "Epoch 26/100\n",
      "14/14 [==============================] - 0s 3ms/step - loss: 0.0298 - acc: 0.9906 - val_loss: 0.0343 - val_acc: 0.9860\n",
      "Epoch 27/100\n",
      "14/14 [==============================] - 0s 4ms/step - loss: 0.0284 - acc: 0.9906 - val_loss: 0.0336 - val_acc: 0.9860\n",
      "Epoch 28/100\n",
      "14/14 [==============================] - 0s 3ms/step - loss: 0.0266 - acc: 0.9906 - val_loss: 0.0359 - val_acc: 0.9860\n",
      "Epoch 29/100\n",
      "14/14 [==============================] - 0s 3ms/step - loss: 0.0255 - acc: 0.9930 - val_loss: 0.0330 - val_acc: 0.9860\n",
      "Epoch 30/100\n",
      "14/14 [==============================] - 0s 3ms/step - loss: 0.0237 - acc: 0.9906 - val_loss: 0.0341 - val_acc: 0.9860\n",
      "Epoch 31/100\n",
      "14/14 [==============================] - 0s 3ms/step - loss: 0.0232 - acc: 0.9930 - val_loss: 0.0341 - val_acc: 0.9860\n",
      "Epoch 32/100\n",
      "14/14 [==============================] - 0s 4ms/step - loss: 0.0217 - acc: 0.9906 - val_loss: 0.0332 - val_acc: 0.9860\n",
      "Epoch 33/100\n",
      "14/14 [==============================] - 0s 4ms/step - loss: 0.0199 - acc: 0.9930 - val_loss: 0.0343 - val_acc: 0.9860\n",
      "Epoch 34/100\n",
      "14/14 [==============================] - 0s 3ms/step - loss: 0.0185 - acc: 0.9930 - val_loss: 0.0333 - val_acc: 0.9860\n",
      "Epoch 35/100\n",
      "14/14 [==============================] - 0s 3ms/step - loss: 0.0181 - acc: 0.9930 - val_loss: 0.0351 - val_acc: 0.9860\n",
      "Epoch 36/100\n",
      "14/14 [==============================] - 0s 3ms/step - loss: 0.0168 - acc: 0.9930 - val_loss: 0.0341 - val_acc: 0.9860\n",
      "Epoch 37/100\n",
      "14/14 [==============================] - 0s 3ms/step - loss: 0.0161 - acc: 0.9953 - val_loss: 0.0322 - val_acc: 0.9860\n",
      "Epoch 38/100\n",
      "14/14 [==============================] - 0s 3ms/step - loss: 0.0151 - acc: 0.9953 - val_loss: 0.0319 - val_acc: 0.9860\n",
      "Epoch 39/100\n",
      "14/14 [==============================] - 0s 3ms/step - loss: 0.0140 - acc: 0.9977 - val_loss: 0.0346 - val_acc: 0.9860\n",
      "Epoch 40/100\n",
      "14/14 [==============================] - 0s 3ms/step - loss: 0.0139 - acc: 0.9977 - val_loss: 0.0339 - val_acc: 0.9860\n",
      "Epoch 41/100\n",
      "14/14 [==============================] - 0s 3ms/step - loss: 0.0126 - acc: 0.9977 - val_loss: 0.0342 - val_acc: 0.9860\n",
      "Epoch 42/100\n",
      "14/14 [==============================] - 0s 3ms/step - loss: 0.0120 - acc: 0.9977 - val_loss: 0.0352 - val_acc: 0.9860\n",
      "Epoch 43/100\n",
      "14/14 [==============================] - 0s 3ms/step - loss: 0.0116 - acc: 0.9977 - val_loss: 0.0350 - val_acc: 0.9860\n",
      "Epoch 44/100\n",
      "14/14 [==============================] - 0s 3ms/step - loss: 0.0109 - acc: 0.9977 - val_loss: 0.0347 - val_acc: 0.9860\n",
      "Epoch 45/100\n",
      "14/14 [==============================] - 0s 3ms/step - loss: 0.0114 - acc: 0.9953 - val_loss: 0.0341 - val_acc: 0.9860\n",
      "Epoch 46/100\n",
      "14/14 [==============================] - 0s 3ms/step - loss: 0.0098 - acc: 0.9977 - val_loss: 0.0353 - val_acc: 0.9860\n",
      "Epoch 47/100\n",
      "14/14 [==============================] - 0s 3ms/step - loss: 0.0094 - acc: 0.9977 - val_loss: 0.0354 - val_acc: 0.9860\n",
      "Epoch 48/100\n",
      "14/14 [==============================] - 0s 3ms/step - loss: 0.0091 - acc: 0.9977 - val_loss: 0.0350 - val_acc: 0.9860\n",
      "Epoch 49/100\n",
      "14/14 [==============================] - 0s 4ms/step - loss: 0.0085 - acc: 1.0000 - val_loss: 0.0358 - val_acc: 0.9860\n",
      "Epoch 50/100\n",
      "14/14 [==============================] - 0s 3ms/step - loss: 0.0082 - acc: 1.0000 - val_loss: 0.0354 - val_acc: 0.9860\n",
      "Epoch 51/100\n",
      "14/14 [==============================] - 0s 3ms/step - loss: 0.0077 - acc: 1.0000 - val_loss: 0.0361 - val_acc: 0.9860\n",
      "Epoch 52/100\n",
      "14/14 [==============================] - 0s 3ms/step - loss: 0.0075 - acc: 1.0000 - val_loss: 0.0364 - val_acc: 0.9860\n",
      "Epoch 53/100\n",
      "14/14 [==============================] - 0s 3ms/step - loss: 0.0073 - acc: 1.0000 - val_loss: 0.0367 - val_acc: 0.9860\n",
      "Epoch 54/100\n",
      "14/14 [==============================] - 0s 3ms/step - loss: 0.0069 - acc: 1.0000 - val_loss: 0.0363 - val_acc: 0.9860\n",
      "Epoch 55/100\n",
      "14/14 [==============================] - 0s 3ms/step - loss: 0.0065 - acc: 1.0000 - val_loss: 0.0362 - val_acc: 0.9860\n",
      "Epoch 56/100\n",
      "14/14 [==============================] - 0s 3ms/step - loss: 0.0064 - acc: 1.0000 - val_loss: 0.0398 - val_acc: 0.9860\n",
      "Epoch 57/100\n",
      "14/14 [==============================] - 0s 3ms/step - loss: 0.0062 - acc: 1.0000 - val_loss: 0.0371 - val_acc: 0.9860\n",
      "Epoch 58/100\n",
      "14/14 [==============================] - 0s 3ms/step - loss: 0.0057 - acc: 1.0000 - val_loss: 0.0368 - val_acc: 0.9860\n",
      "Epoch 59/100\n",
      "14/14 [==============================] - 0s 3ms/step - loss: 0.0055 - acc: 1.0000 - val_loss: 0.0390 - val_acc: 0.9860\n",
      "Epoch 60/100\n",
      "14/14 [==============================] - 0s 3ms/step - loss: 0.0049 - acc: 1.0000 - val_loss: 0.0362 - val_acc: 0.9860\n",
      "Epoch 61/100\n",
      "14/14 [==============================] - 0s 3ms/step - loss: 0.0050 - acc: 1.0000 - val_loss: 0.0381 - val_acc: 0.9860\n",
      "Epoch 62/100\n",
      "14/14 [==============================] - 0s 3ms/step - loss: 0.0046 - acc: 1.0000 - val_loss: 0.0382 - val_acc: 0.9860\n",
      "Epoch 63/100\n"
     ]
    },
    {
     "name": "stdout",
     "output_type": "stream",
     "text": [
      "14/14 [==============================] - 0s 3ms/step - loss: 0.0044 - acc: 1.0000 - val_loss: 0.0384 - val_acc: 0.9860\n",
      "Epoch 64/100\n",
      "14/14 [==============================] - 0s 3ms/step - loss: 0.0042 - acc: 1.0000 - val_loss: 0.0400 - val_acc: 0.9860\n",
      "Epoch 65/100\n",
      "14/14 [==============================] - 0s 3ms/step - loss: 0.0041 - acc: 1.0000 - val_loss: 0.0413 - val_acc: 0.9860\n",
      "Epoch 66/100\n",
      "14/14 [==============================] - 0s 3ms/step - loss: 0.0039 - acc: 1.0000 - val_loss: 0.0401 - val_acc: 0.9860\n",
      "Epoch 67/100\n",
      "14/14 [==============================] - 0s 3ms/step - loss: 0.0038 - acc: 1.0000 - val_loss: 0.0390 - val_acc: 0.9860\n",
      "Epoch 68/100\n",
      "14/14 [==============================] - 0s 3ms/step - loss: 0.0037 - acc: 1.0000 - val_loss: 0.0399 - val_acc: 0.9860\n",
      "Epoch 69/100\n",
      "14/14 [==============================] - 0s 3ms/step - loss: 0.0037 - acc: 1.0000 - val_loss: 0.0461 - val_acc: 0.9790\n",
      "Epoch 70/100\n",
      "14/14 [==============================] - 0s 3ms/step - loss: 0.0037 - acc: 1.0000 - val_loss: 0.0432 - val_acc: 0.9860\n",
      "Epoch 71/100\n",
      "14/14 [==============================] - 0s 3ms/step - loss: 0.0033 - acc: 1.0000 - val_loss: 0.0364 - val_acc: 0.9860\n",
      "Epoch 72/100\n",
      "14/14 [==============================] - 0s 3ms/step - loss: 0.0031 - acc: 1.0000 - val_loss: 0.0383 - val_acc: 0.9860\n",
      "Epoch 73/100\n",
      "14/14 [==============================] - 0s 3ms/step - loss: 0.0030 - acc: 1.0000 - val_loss: 0.0411 - val_acc: 0.9860\n",
      "Epoch 74/100\n",
      "14/14 [==============================] - 0s 3ms/step - loss: 0.0029 - acc: 1.0000 - val_loss: 0.0439 - val_acc: 0.9790\n",
      "Epoch 75/100\n",
      "14/14 [==============================] - 0s 3ms/step - loss: 0.0027 - acc: 1.0000 - val_loss: 0.0419 - val_acc: 0.9860\n",
      "Epoch 76/100\n",
      "14/14 [==============================] - 0s 3ms/step - loss: 0.0026 - acc: 1.0000 - val_loss: 0.0432 - val_acc: 0.9860\n",
      "Epoch 77/100\n",
      "14/14 [==============================] - 0s 3ms/step - loss: 0.0025 - acc: 1.0000 - val_loss: 0.0434 - val_acc: 0.9860\n",
      "Epoch 78/100\n",
      "14/14 [==============================] - 0s 3ms/step - loss: 0.0025 - acc: 1.0000 - val_loss: 0.0448 - val_acc: 0.9860\n",
      "Epoch 79/100\n",
      "14/14 [==============================] - 0s 3ms/step - loss: 0.0024 - acc: 1.0000 - val_loss: 0.0439 - val_acc: 0.9860\n",
      "Epoch 80/100\n",
      "14/14 [==============================] - 0s 3ms/step - loss: 0.0023 - acc: 1.0000 - val_loss: 0.0461 - val_acc: 0.9860\n",
      "Epoch 81/100\n",
      "14/14 [==============================] - 0s 3ms/step - loss: 0.0022 - acc: 1.0000 - val_loss: 0.0446 - val_acc: 0.9860\n",
      "Epoch 82/100\n",
      "14/14 [==============================] - 0s 3ms/step - loss: 0.0021 - acc: 1.0000 - val_loss: 0.0482 - val_acc: 0.9860\n",
      "Epoch 83/100\n",
      "14/14 [==============================] - 0s 3ms/step - loss: 0.0020 - acc: 1.0000 - val_loss: 0.0470 - val_acc: 0.9860\n",
      "Epoch 84/100\n",
      "14/14 [==============================] - 0s 3ms/step - loss: 0.0020 - acc: 1.0000 - val_loss: 0.0480 - val_acc: 0.9790\n",
      "Epoch 85/100\n",
      "14/14 [==============================] - 0s 3ms/step - loss: 0.0019 - acc: 1.0000 - val_loss: 0.0461 - val_acc: 0.9860\n",
      "Epoch 86/100\n",
      "14/14 [==============================] - 0s 3ms/step - loss: 0.0018 - acc: 1.0000 - val_loss: 0.0453 - val_acc: 0.9860\n",
      "Epoch 87/100\n",
      "14/14 [==============================] - 0s 3ms/step - loss: 0.0018 - acc: 1.0000 - val_loss: 0.0467 - val_acc: 0.9860\n",
      "Epoch 88/100\n",
      "14/14 [==============================] - 0s 3ms/step - loss: 0.0018 - acc: 1.0000 - val_loss: 0.0441 - val_acc: 0.9860\n",
      "Epoch 89/100\n",
      "14/14 [==============================] - 0s 3ms/step - loss: 0.0017 - acc: 1.0000 - val_loss: 0.0448 - val_acc: 0.9860\n",
      "Epoch 90/100\n",
      "14/14 [==============================] - 0s 3ms/step - loss: 0.0017 - acc: 1.0000 - val_loss: 0.0495 - val_acc: 0.9860\n",
      "Epoch 91/100\n",
      "14/14 [==============================] - 0s 3ms/step - loss: 0.0017 - acc: 1.0000 - val_loss: 0.0503 - val_acc: 0.9790\n",
      "Epoch 92/100\n",
      "14/14 [==============================] - 0s 3ms/step - loss: 0.0016 - acc: 1.0000 - val_loss: 0.0486 - val_acc: 0.9790\n",
      "Epoch 93/100\n",
      "14/14 [==============================] - 0s 3ms/step - loss: 0.0015 - acc: 1.0000 - val_loss: 0.0468 - val_acc: 0.9860\n",
      "Epoch 94/100\n",
      "14/14 [==============================] - 0s 3ms/step - loss: 0.0014 - acc: 1.0000 - val_loss: 0.0463 - val_acc: 0.9860\n",
      "Epoch 95/100\n",
      "14/14 [==============================] - 0s 3ms/step - loss: 0.0013 - acc: 1.0000 - val_loss: 0.0474 - val_acc: 0.9790\n",
      "Epoch 96/100\n",
      "14/14 [==============================] - 0s 3ms/step - loss: 0.0013 - acc: 1.0000 - val_loss: 0.0462 - val_acc: 0.9790\n",
      "Epoch 97/100\n",
      "14/14 [==============================] - 0s 3ms/step - loss: 0.0014 - acc: 1.0000 - val_loss: 0.0499 - val_acc: 0.9790\n",
      "Epoch 98/100\n",
      "14/14 [==============================] - 0s 3ms/step - loss: 0.0014 - acc: 1.0000 - val_loss: 0.0454 - val_acc: 0.9860\n",
      "Epoch 99/100\n",
      "14/14 [==============================] - 0s 3ms/step - loss: 0.0012 - acc: 1.0000 - val_loss: 0.0467 - val_acc: 0.9790\n",
      "Epoch 100/100\n",
      "14/14 [==============================] - 0s 3ms/step - loss: 0.0012 - acc: 1.0000 - val_loss: 0.0488 - val_acc: 0.9790\n"
     ]
    },
    {
     "data": {
      "text/plain": [
       "<keras.src.callbacks.History at 0x254f9e96980>"
      ]
     },
     "execution_count": 40,
     "metadata": {},
     "output_type": "execute_result"
    }
   ],
   "source": [
    "model.fit(X_train_norm, y_train, epochs=100, validation_data=(X_test_norm, y_test))"
   ]
  },
  {
   "cell_type": "code",
   "execution_count": 43,
   "id": "5dcbd32d",
   "metadata": {},
   "outputs": [
    {
     "data": {
      "text/plain": [
       "Text(0, 0.5, 'accuracy')"
      ]
     },
     "execution_count": 43,
     "metadata": {},
     "output_type": "execute_result"
    },
    {
     "data": {
      "image/png": "[encoded data removed]",
      "text/plain": [
       "<Figure size 640x480 with 2 Axes>"
      ]
     },
     "metadata": {},
     "output_type": "display_data"
    }
   ],
   "source": [
    "h = model.history.history # 학습이력\n",
    "\n",
    "plt.subplot(1,2,1)\n",
    "plt.plot(h['loss'])\n",
    "plt.plot(h['val_loss'])\n",
    "plt.legend(['loss', 'val_loss'])\n",
    "plt.xlabel('epoch')\n",
    "plt.ylabel('error')\n",
    "\n",
    "plt.subplot(1,2,2)\n",
    "plt.plot(h['acc'])\n",
    "plt.plot(h['val_acc'])\n",
    "plt.legend(['acc', 'val_acc'])\n",
    "plt.xlabel('epoch')\n",
    "plt.ylabel('accuracy')"
   ]
  },
  {
   "cell_type": "code",
   "execution_count": null,
   "id": "19e121da",
   "metadata": {},
   "outputs": [],
   "source": []
  }
 ],
 "metadata": {
  "kernelspec": {
   "display_name": "Python 3 (ipykernel)",
   "language": "python",
   "name": "python3"
  },
  "language_info": {
   "codemirror_mode": {
    "name": "ipython",
    "version": 3
   },
   "file_extension": ".py",
   "mimetype": "text/x-python",
   "name": "python",
   "nbconvert_exporter": "python",
   "pygments_lexer": "ipython3",
   "version": "3.10.9"
  }
 },
 "nbformat": 4,
 "nbformat_minor": 5
}
